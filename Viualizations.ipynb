{
 "cells": [
  {
   "cell_type": "code",
   "execution_count": 1,
   "metadata": {
    "ExecuteTime": {
     "end_time": "2020-08-02T19:39:17.579422Z",
     "start_time": "2020-08-02T19:39:16.178825Z"
    },
    "code_folding": []
   },
   "outputs": [
    {
     "data": {
      "text/html": [
       "<style>.container { width:100% !important; }</style>"
      ],
      "text/plain": [
       "<IPython.core.display.HTML object>"
      ]
     },
     "metadata": {},
     "output_type": "display_data"
    }
   ],
   "source": [
    "import warnings\n",
    "from IPython.core.display import display, HTML\n",
    "display(HTML(\"<style>.container { width:100% !important; }</style>\") )\n",
    "warnings.filterwarnings(\"ignore\")\n",
    "import numpy as np\n",
    "import tensorflow as tf\n",
    "import pandas as pd\n",
    "pd.options.display.float_format = \"{:,.3f}\".format\n",
    "import glob\n",
    "import os\n",
    "import itertools as it\n",
    "import pickle\n",
    "import matplotlib\n",
    "import matplotlib.pyplot as plt\n",
    "import matplotlib.mlab as mlab\n",
    "import time\n",
    "import seaborn as sns\n",
    "from scipy import stats\n",
    "from sklearn import calibration\n",
    "\n",
    "\n",
    "from sklearn.metrics import mean_squared_error\n",
    "from sklearn.metrics import roc_auc_score\n",
    "from sklearn.metrics import roc_curve, auc\n",
    "\n",
    "import matplotlib.ticker as plticker\n",
    "import matplotlib.dates as mdates\n",
    "import datetime as dt\n",
    "\n",
    "from statsmodels.stats.multicomp import (pairwise_tukeyhsd,\n",
    "                                         MultiComparison)\n",
    "import functools\n",
    "import operator\n",
    "\n",
    "def load_predictions_gen(_path_pred):\n",
    "    \n",
    "    if os.path.isdir(_path_pred):\n",
    "        li_pred_fns = list( glob.glob(_path_pred+\"/*\", recursive=True) )\n",
    "        li_pred_fns = [pred_fns for pred_fns in li_pred_fns if pred_fns[-4:]==\".dat\" ]\n",
    "                \n",
    "    elif os.path.isfile(_path_pred):\n",
    "        li_pred_fns = [ _path_pred ]\n",
    "                \n",
    "    else:\n",
    "        raise ValueError(\"Invalid File passed\")\n",
    "            \n",
    "    li_pred_fns.sort()\n",
    "    \n",
    "    for pred_fn in li_pred_fns:\n",
    "        pred = pickle.load(open(pred_fn,\"rb\"))\n",
    "        yield pred\n",
    "        \n",
    "dict_prediction_path = {}"
   ]
  },
  {
   "cell_type": "markdown",
   "metadata": {},
   "source": [
    "# Model Evaluation Code"
   ]
  },
  {
   "cell_type": "code",
   "execution_count": 64,
   "metadata": {
    "ExecuteTime": {
     "end_time": "2020-08-04T10:59:01.590696Z",
     "start_time": "2020-08-04T10:59:01.501304Z"
    },
    "code_folding": [
     0,
     73,
     85,
     91,
     123,
     148,
     154,
     157,
     160,
     169,
     175,
     207,
     267,
     376,
     428,
     488,
     540
    ]
   },
   "outputs": [],
   "source": [
    "def model_evaluation(datformation, rain_threshold=0.5, rolling_annual=False):\n",
    "    \n",
    "    prediction_path, distr_name, mname = init_helper(datformation)\n",
    "    \n",
    "    #timestamps, truevalues, preds = get_data(prediction_path)\n",
    "#     li_pred_path = list( glob.glob(prediction_path+\"/**\",recursive=True) )\n",
    "        \n",
    "#     li_pred_path = [pred_path for pred_path in li_pred_path if pred_path[-4:]==\".dat\" ]\n",
    "    \n",
    "#     li_pred_path.sort()\n",
    "    \n",
    "    li_ts_tv_ps = get_data(prediction_path, multiple_files=False)\n",
    "    \n",
    "        \n",
    "    timestamps, truevalues, preds =  li_ts_tv_ps\n",
    "\n",
    "    fd = prediction_path.rsplit('/',2)[0]\n",
    "\n",
    "    if os.path.isdir(prediction_path):\n",
    "        _dir = prediction_path\n",
    "    else:\n",
    "        _dir = os.path.dirname(prediction_path)\n",
    "    \n",
    "    _dir_eval = os.path.join(_dir,\"Evaluation\")\n",
    "    os.makedirs(_dir_eval,exist_ok=True)\n",
    "\n",
    "    preds_mean = np.mean(preds,axis=-1)\n",
    "\n",
    "    rmse = rmse_aggregate(preds_mean, truevalues)\n",
    "    mae = avg_abs_bias(preds_mean, truevalues)\n",
    "    rN_rmse, N = rN_aggregate(preds_mean, truevalues)\n",
    "\n",
    "    dict_data = {'RMSE':[rmse], \"R{}_RMSE\".format(str(N)):[rN_rmse], 'MAE':[mae] }\n",
    "    _dataframe = pd.DataFrame(dict_data )\n",
    "\n",
    "    _dataframe.to_csv( os.path.join(_dir_eval, \"general_scores.csv\") ,index=False)\n",
    "\n",
    "    #image_all_preds(timestamps, truevalues, preds_mean, _dir) #RODO: Convert images to make an image every say 90 days\n",
    "\n",
    "    # Collecting an annually aggreagted set of results\n",
    "    if rolling_annual==True:\n",
    "        _dir_fe = os.path.join(fd,\"Forecast_Evaluation\")\n",
    "        os.makedirs(_dir_fe, exist_ok=True)\n",
    "        \n",
    "        #Performing test on annual chunks and save results into one txt file\n",
    "\n",
    "        _dataframe_1yre = year_rolling_eval( preds_mean, truevalues, timestamps, rain_threshold, distr_name, fd )\n",
    "\n",
    "        #Save to csv file\n",
    "        _dataframe_1yre.to_csv( os.path.join(_dir_fe,\"annual_score.csv\") ,index=False)\n",
    "        \n",
    "        stat_scores = ['RMSE','R10_RMSE','MAE']\n",
    "        \n",
    "        x = _dataframe_1yre['Start_Year']\n",
    "        for stat_score in stat_scores:\n",
    "            \n",
    "            Y = _dataframe_1yre[stat_score]\n",
    "                       \n",
    "            fig, ax1 = plt.subplots( )\n",
    "\n",
    "            ax1.set_xlabel('Year')\n",
    "            ax1.set_ylabel(stat_score)\n",
    "            ax1.plot(x,Y, marker='x' )\n",
    "            ax1.grid(True)\n",
    "            fig.tight_layout()  # otherwise the right y-label is slightly clipped\n",
    "            fig.show()\n",
    "\n",
    "            plt.savefig(os.path.join(_dir_fe,f\"{stat_score}.png\" ) )\n",
    "\n",
    "    #print(\"Completed {} \\n\".format(fn) )\n",
    "\n",
    "    return dict_data\n",
    "            \n",
    "def init_helper(datformation):\n",
    "    \n",
    "    if isinstance(datformation, dict):\n",
    "        prediction_path = datformation['fp']\n",
    "        distr_name = datformation['distr_name']\n",
    "        model_name = datformation.get('model_name','')\n",
    "    else:\n",
    "        prediction_path = datformation\n",
    "        distr_name =None\n",
    "        \n",
    "    return prediction_path, distr_name, model_name\n",
    "    \n",
    "def get_data(prediction_path, multiple_files=False):\n",
    "    #return timestamps, truevalues, preds\n",
    "    \n",
    "    li_data = list(load_predictions_gen(prediction_path))\n",
    "    li_ts_tv_ps = []\n",
    "    \n",
    "    for data in li_data:\n",
    "        \n",
    "        if 1 in data[1][0].shape and type(data[1][0]) != np.float64:    \n",
    "            preds = np.concatenate(data[1][0])\n",
    "            preds = np.reshape(data[1],[-1])\n",
    "            preds = np.expand_dims(preds, [-1])\n",
    "            \n",
    "        \n",
    "        elif type(data[1][0]) != np.float64 and type(data[1])==list:\n",
    "            preds = np.concatenate( data[1],axis=0) \n",
    "            truevalues = np.concatenate( data[2],axis=0)\n",
    "            timestamps = np.concatenate(data[0])\n",
    "            \n",
    "            \n",
    "        elif len(data[1].shape) == len(data[2].shape):\n",
    "            preds = np.expand_dims(data[1],axis=-1)\n",
    "            truevalues = data[2]\n",
    "            timestamps = data[0]\n",
    "            \n",
    "        else:\n",
    "            \n",
    "            preds = np.expand_dims(data[1],axis=1)\n",
    "            truevalues = data[2]\n",
    "            timestamps = data[0]\n",
    "        \n",
    "        li_ts_tv_ps.append( (timestamps, truevalues, preds) )\n",
    "        \n",
    "    if multiple_files == False:\n",
    "        return li_ts_tv_ps[0]\n",
    "    else:\n",
    "        return li_ts_tv_ps\n",
    "        \n",
    "def percentile_cal(confidence, preds, distr_name):\n",
    "    mean, sigma = np.mean(preds,axis=1), np.std(preds,ddof=1,axis=1)\n",
    "#     print(mean)\n",
    "#     print(sigma)\n",
    "\n",
    "    if distr_name == \"Normal\":\n",
    "        lp,up =  stats.norm.interval( confidence, loc=mean, scale=sigma)\n",
    "        lp = np.where(lp>=0,lp, 0.0)\n",
    "\n",
    "    elif distr_name == \"LogNormal\":\n",
    "        ln_lp,ln_up = stats.lognorm.interval( confidence, scale=mean, s=underlying_normal_std_from_lnnormal_std(mean,sigma))\n",
    "        ln_lp = np.where(ln_lp>=0,ln_lp, 0.0)\n",
    "        \n",
    "        n_lp,n_up =  stats.norm.interval( confidence, loc=mean, scale=sigma)\n",
    "        n_lp = np.where(n_lp>=0,n_lp, 0.0)\n",
    "        \n",
    "        \n",
    "        lp = np.where( mean>0.5,  ln_lp, n_lp )\n",
    "        up = np.where( mean>0.5 , ln_up, n_up)\n",
    "        \n",
    "    else:\n",
    "        raise ValueError\n",
    "    \n",
    "    return lp, up\n",
    "\n",
    "def underlying_normal_std_from_lnnormal_std(ln_mean, ln_std):\n",
    "    _1 = np.log( np.square(ln_std) + np.square(ln_mean) )\n",
    "    _2 = -2 * np.log(ln_mean)\n",
    "    sigma_norm = np.sqrt(_1 + _2)\n",
    "    return sigma_norm\n",
    "       \n",
    "def rmse_aggregate(preds_mean,true_vals):\n",
    "    return np.sqrt(np.nanmean((preds_mean-true_vals)**2))\n",
    "\n",
    "def bias_aggregate(preds_mean, true_vals):\n",
    "    return np.nanmean( preds_mean-true_vals )\n",
    "\n",
    "def rN_aggregate(preds_mean, true_vals, N=10):\n",
    "    \n",
    "    mask = true_vals >= N\n",
    "    \n",
    "    preds_filt = preds_mean[mask]\n",
    "    true_vals_filtr = true_vals[mask]\n",
    "    \n",
    "    return np.sqrt(np.nanmean((preds_filt-true_vals_filtr)**2)), N   \n",
    "\n",
    "def avg_abs_bias(preds_mean, true_vals):\n",
    "    diff = preds_mean-true_vals\n",
    "    abs_diff = np.abs(diff)\n",
    "    avg_abs_bias = np.nanmean(abs_diff)\n",
    "    return avg_abs_bias\n",
    "      \n",
    "def image_all_preds(tss, true_val, pred_mean, prediction_path, fd, fn, save=True ):\n",
    "    \n",
    "    tss_string = [ time.strftime(\"%d-%m-%y\", time.localtime(int(_val))) for _val in tss]\n",
    "    \n",
    "    start = pd.to_datetime( tss_string[0] )\n",
    "    end = pd.to_datetime( tss_string[-1] ) + pd.Timedelta(1, 'd')\n",
    "    \n",
    "    ts = mdates.drange(start,end,dt.timedelta(days=1))\n",
    "    \n",
    "    fig, (ax) = plt.subplots(1)\n",
    "    clrs = ['blue']# sns.color_palette(\"husl\", 1)\n",
    "    \n",
    "    #with sns.axes_style(\"darkgrid\"):        \n",
    "    ax.plot(ts[:len(true_val)], true_val, c='black',linewidth=0.8)\n",
    "    ax.plot(ts[:len(true_val)], pred_mean, c=clrs[0],linewidth=0.7)\n",
    "        #ax.legend()\n",
    "    \n",
    "    ax.xaxis.set_major_formatter(mdates.DateFormatter('%Y-%m-%d'))\n",
    "    ax.xaxis.set_major_locator(mdates.AutoDateLocator(maxticks=20) )\n",
    "    \n",
    "    ax.grid(True)\n",
    "    \n",
    "    fig.show()\n",
    "    \n",
    "    if save==True:\n",
    "        img_dir = os.path.join(fd,\"Images\")\n",
    "        fn_name = \"preds_\"+tss_string[0]+\".png\"\n",
    "        if not os.path.exists(img_dir):\n",
    "            os.makedirs(img_dir)\n",
    "\n",
    "        plt.savefig(os.path.join(img_dir,fn_name ) )\n",
    "        \n",
    "def image_all_preds_compare(li_tss, li_true_vals, li_preds, li_confidence=[None,None], li_distr=[None,None], names=['Model1','Model2'], figsize=(10,6)):\n",
    "    ts_strings = [ time.strftime(\"%d-%m-%y\", time.localtime(int(_val))) for _val in li_tss[0] ]\n",
    "    ts1_strings = [ time.strftime(\"%d-%m-%y\", time.localtime(int(_val))) for _val in li_tss[1] ]\n",
    "    \n",
    "    try:\n",
    "        start = pd.to_datetime( ts_strings[0] )\n",
    "        end = pd.to_datetime( ts_strings[-1] ) + pd.Timedelta(1, 'd')\n",
    "\n",
    "        start1 = pd.to_datetime( ts1_strings[0] )\n",
    "        end1 = pd.to_datetime( ts1_strings[-1] ) + pd.Timedelta(1, 'd')\n",
    "    \n",
    "        ts = mdates.drange(start,end,dt.timedelta(days=1))\n",
    "        ts1 = mdates.drange(start1,end1,dt.timedelta(days=1))\n",
    "    except (ValueError,IndexError) as e:\n",
    "        return\n",
    "    \n",
    "    li_ts = [ts,ts1]\n",
    "    size=18\n",
    "    fig, (ax) = plt.subplots(1,figsize=figsize)   \n",
    "    #clrs = sns.color_palette(\"husl\", 2)\n",
    "    clrs = [ 'darkblue','darkorange' ]\n",
    "    with sns.axes_style(\"whitegrid\"):\n",
    "    \n",
    "        ax.xaxis.set_major_formatter(mdates.DateFormatter('%d-%m-%y'))\n",
    "        \n",
    "        ax.xaxis.set_major_locator(mdates.AutoDateLocator() )\n",
    "        #ax.xaxis.set_major_locator(mdates.WeekdayLocator(byweekday=mdates.MO) )\n",
    "        \n",
    "        if names[0] == names[1]:\n",
    "            _range = 1\n",
    "        else:\n",
    "            _range = 2\n",
    "        for idx in range(_range):\n",
    "            _mean = np.mean(li_preds[idx],-1)\n",
    "            \n",
    "            _len = min( len(li_true_vals[idx]), len(li_ts[idx])  )\n",
    "\n",
    "            if idx == 0:\n",
    "                ax.plot(li_ts[idx][:_len], li_true_vals[idx][:_len], c='grey',linewidth=6, label=\"True Rain\", alpha=0.5)\n",
    "            \n",
    "            ax.plot(li_ts[idx][:_len], _mean[:_len], c=clrs[idx], label=names[idx], linestyle=':' , linewidth=4.0)\n",
    "\n",
    "            if li_distr[idx] != None:\n",
    "                lq, uq = percentile_cal(li_confidence[idx], li_preds[idx], li_distr[idx] )\n",
    "                ax.fill_between(li_ts[idx][:_len], lq[:_len], uq[:_len] ,alpha=0.2, facecolor=clrs[idx])\n",
    "                ax.plot(li_ts[idx][:_len], uq[:_len], alpha=0.7, c=clrs[idx], linestyle=':' )\n",
    "    \n",
    "    ax.tick_params(axis='x', labelsize=size)\n",
    "    ax.tick_params(axis='y', labelsize=size)\n",
    "    ax.set_xlabel('Date', fontsize=size)\n",
    "    ax.set_ylabel('rain (mm)', fontsize=size, rotation='horizontal')\n",
    "    ax.yaxis.set_label_coords(0.04,1.02) \n",
    "    \n",
    "    #plt.legend(loc=(0.625,0.6),fontsize=size-1,framealpha=0.6)\n",
    "    plt.legend(loc='upper_right',fontsize=size-1,framealpha=0.6)\n",
    "    \n",
    "    ax.grid(True)\n",
    "    fig.show()\n",
    "    \n",
    "#-- UQ --\n",
    "def year_rolling_eval(preds_mean ,true_values, timestamps, rain_threshold, distr_name, prediction_path):\n",
    "    \n",
    "    #Divide data into two year contiguous chunks\n",
    "   \n",
    "    start_date = np.datetime64(int(timestamps[0]),'s')\n",
    "    end_date = np.datetime64(int(timestamps[-1]),'s')\n",
    "    print(start_date)\n",
    "    print(end_date)\n",
    "        \n",
    "    time_intrvls_years = pd.date_range( end=end_date, start=start_date, freq='1YS',normalize=True, closed=None)\n",
    "    \n",
    "    print(time_intrvls_years)\n",
    "    \n",
    "    time_intrvls_epochs = list ( (time_intrvls_years - pd.Timestamp(\"1970-01-01\") ) // pd.Timedelta('1s') ) #holds the start time for every 2 year interval\n",
    "    \n",
    "    start_idxs_for_intrvls = np.searchsorted(timestamps, np.array(time_intrvls_epochs) )\n",
    "       \n",
    "    li_startend_date = []\n",
    "    li_rmse = []\n",
    "    li_r10_rmse = []\n",
    "    li_mae = []\n",
    "    \n",
    "    for idx_year, (idx_start, idx_end) in enumerate( zip(start_idxs_for_intrvls, start_idxs_for_intrvls[1:])) :\n",
    "        \n",
    "        rmse = rmse_aggregate(preds_mean[idx_start: idx_end], true_values[idx_start:idx_end])\n",
    "        r10_rmse, N = rN_aggregate(preds_mean[idx_start: idx_end], true_values[idx_start: idx_end] )\n",
    "        mae = avg_abs_bias( preds_mean[idx_start: idx_end], true_values[idx_start: idx_end] )\n",
    "        \n",
    "        startend = ( time_intrvls_years[idx_year].strftime(\"%Y-%m-%d\"), time_intrvls_years[idx_year+1].strftime(\"%Y-%m-%d\")  )\n",
    "                    \n",
    "        li_rmse.append(rmse)\n",
    "        li_r10_rmse.append(r10_rmse)\n",
    "        li_mae.append(mae)\n",
    "        li_startend_date.append( (' - ').join(startend) )\n",
    "    \n",
    "    _dataframe = pd.DataFrame( {'Start_Year':time_intrvls_years[:len(li_startend_date)], 'RMSE':li_rmse, \"R10_RMSE\":li_r10_rmse, \"MAE\":li_mae, \"Start-End\":li_startend_date } )\n",
    "    \n",
    "    return _dataframe\n",
    "\n",
    "pd_timestamps = None\n",
    "# --  Summary Stats for Seasons\n",
    "def summary_stat_seasonal(datformation,city=\"\", method=\"generic\"):\n",
    "    \n",
    "    # Retrive predictions, true_values and dates\n",
    "    prediction_path, distr_name, mname = init_helper(datformation)\n",
    "    \n",
    "    timestamps, truevalues, preds = get_data(prediction_path)\n",
    "    \n",
    "    preds_mean = np.nanmean(preds,axis=-1)\n",
    "       \n",
    "    # Finding indexes to divide data into seasons\n",
    "    pd_timestamps = pd.DatetimeIndex(np.array(timestamps).astype('datetime64[s]') )\n",
    "    \n",
    "    seasons = ['Winter','Spring','Summer','Autumn']\n",
    "    arr_seasons, bins = pd.cut( pd_timestamps.month % 12,\n",
    "                                   [0,3,6,9,12],labels=seasons, right=False,\n",
    "                                      include_lowest=True, retbins=True)\n",
    "    \n",
    "    # Adding summary statistics\n",
    "    dict_s_boolindc = {}\n",
    "    df_season_summary = pd.DataFrame(columns=['RMSE','R10 RMSE','MAE'])\n",
    "    \n",
    "    for idx, season in enumerate(seasons):\n",
    "        \n",
    "        bool_indc = (arr_seasons == season)\n",
    "\n",
    "        season_preds_mean = preds_mean[bool_indc]\n",
    "        season_obs = truevalues[bool_indc]\n",
    "                \n",
    "        rmse = rmse_aggregate(season_preds_mean,season_obs)\n",
    "        r10rmse, _ = rN_aggregate(season_preds_mean,season_obs,10)\n",
    "        mae = avg_abs_bias(season_preds_mean, season_obs)\n",
    "        avg_pred_rain = np.nanmean(season_preds_mean)\n",
    "        avg_true_rain = np.nanmean(season_obs)\n",
    "        avg_error = avg_pred_rain - avg_true_rain \n",
    "        \n",
    "        df_season_summary = df_season_summary.append( pd.Series( { 'RMSE':rmse ,'R10 RMSE':r10rmse,'MAE':mae, 'Avg Error':avg_error } ).rename(season) )\n",
    "               \n",
    "    #adding aggregated results\n",
    "    rmse = rmse_aggregate(preds_mean,truevalues)\n",
    "    r10rmse, _ = rN_aggregate(preds_mean,truevalues,10)\n",
    "    mae = avg_abs_bias(preds_mean,truevalues)\n",
    "    avg_pred_rain = np.nanmean(preds_mean)\n",
    "    avg_true_rain = np.nanmean(truevalues)\n",
    "    avg_error = avg_pred_rain - avg_true_rain\n",
    "    \n",
    "    series = pd.Series( { 'RMSE':rmse ,'R10 RMSE':r10rmse,'MAE':mae, 'Avg Error':avg_error } )\n",
    "    df_season_summary = df_season_summary.append( series.rename(\"All\") )\n",
    "    \n",
    "    if method==\"experiment\":\n",
    "        return df_season_summary[['RMSE','R10 RMSE','MAE']]\n",
    "    \n",
    "    elif method == \"VariedTimePeriod\":\n",
    "        #print(df_season_summary)\n",
    "        return df_season_summary.loc['All']['RMSE','R10 RMSE','MAE']\n",
    "    \n",
    "    else:\n",
    "        pass\n",
    "    \n",
    "    if os.path.isdir(prediction_path):\n",
    "        _buf = prediction_path+f\"/seasonal_summary_stats{city}.tex\"\n",
    "    else:\n",
    "        _dir = os.path.dirname(prediction_path)\n",
    "        _buf = _dir+f\"/seasonal_summary_stats{city}.tex\"\n",
    "    \n",
    "    print(df_season_summary)\n",
    "    df_season_summary.to_latex( buf=_buf,  float_format=\"{:0.3f}\".format, caption=f\"Seasonally aggregated Performance Metrics for {mname} trained on data \\\n",
    "                               between 1979 and 2013 and tested on the $7.1 {{\\\\times}} 10^3$ $\\mathrm{{km}}^2$ region around \\\\textbf{{{city}}} between 2014 and 2019-07\".replace(\"_\",\"\\-\"))\n",
    "\n",
    "#correlation--------\n",
    "\n",
    "def auto_correllation_plots(datformation, city, errors=False):\n",
    "    \n",
    "    prediction_path, distr_name, mname = init_helper(datformation)\n",
    "    \n",
    "    timestamps, truevalues, preds = get_data(prediction_path)\n",
    "    \n",
    "    #TODO: fix naming scheme for this series\n",
    "    \n",
    "    \n",
    "    if errors==True:\n",
    "        preds_mean = truevalues[:len(preds_mean)] - preds_mean\n",
    "        raise NotImplementedError\n",
    "        \n",
    "    else:\n",
    "        x1 = np.mean(preds,axis=-1)\n",
    "        x2 = truevalues[:len(x1)]\n",
    "        \n",
    "         \n",
    "    pd_timestamps = pd.DatetimeIndex(np.array(timestamps).astype('datetime64[s]') )\n",
    "    \n",
    "    fig, ax1 = plt.subplots(1,1 )\n",
    "    maxl = 28\n",
    "    \n",
    "    ax1.acorr( x1, maxlags=maxl, normed=True ,lw=2, usevlines=False, linestyle='--', detrend=mlab.detrend_linear, label=mname, color='blue' )\n",
    "    \n",
    "    ax1.acorr( x2, maxlags=maxl, normed=True ,lw=2, usevlines=False, linestyle='--' ,detrend=mlab.detrend_linear, label=\"Observed\", color='orange' )\n",
    "    \n",
    "    ax1.axhline(y=0.05, color='r', linestyle='--',label='y=0.05')\n",
    "    \n",
    "    ax1.set_xlim([1,maxl])\n",
    "    ax1.set_ylim([-0.1,0.50])\n",
    "    ax1.set_xlabel('Lags')\n",
    "    ax1.set_title(f\"ACF: {city}\")\n",
    "    \n",
    "    ax1.legend()\n",
    "    ax1.grid(True)\n",
    "    \n",
    "    \n",
    "    if os.path.isdir(prediction_path):\n",
    "        _buf = prediction_path+\"/acf_{city}\"\n",
    "    else:\n",
    "        _dir = os.path.dirname(prediction_path)\n",
    "        _buf = _dir+f\"/acf_{city}\"\n",
    "    \n",
    "    if errors:\n",
    "        _buf += \"_errors.png\"\n",
    "    else:\n",
    "        _buf += \"_preds.png\"\n",
    "        \n",
    "    plt.savefig(_buf)\n",
    "    plt.show()\n",
    "\n",
    "def cross_correllation_plots(li_datformation, cities, errors=False):\n",
    "    \n",
    "    \"\"\" Pass in 2 cities, 1st city is base city\"\"\"\n",
    "    \n",
    "    li_info = [ init_helper(datformation) for datformation in li_datformation ] #prediction_path, stochastic, distr_name, mname = init_helper(datformation)\n",
    "    \n",
    "    li_ts_tv_ps = [ get_data(info[0]) for info in li_info ] #(timestamps, truevalues, preds)\n",
    "    \n",
    "    li_city_preds = [ (city,np.mean(ts_tv_ps[2],axis=-1) ) for city,ts_tv_ps in zip(cities,li_ts_tv_ps)  ]\n",
    "    \n",
    "    li_city_truevs = [ (city, ts_tv_ps[1] ) for city,ts_tv_ps in zip(cities,li_ts_tv_ps)  ]\n",
    "    \n",
    "    \n",
    "    fig, ax1 = plt.subplots(1,1)\n",
    "    #fig.canvas.set_title('Cross Correlations')\n",
    "    \n",
    "    maxl = 28\n",
    "    if errors:\n",
    "        x1 = li_ts_tv_ps[0][1] - li_city_preds[0][1]\n",
    "        x2 = li_ts_tv_ps[1][1] - li_city_preds[1][1]\n",
    "    else:\n",
    "        #TRU-NET city 1 and city 2 preds\n",
    "        x1 = li_city_preds[0][1]\n",
    "        x2 = li_city_preds[1][1]\n",
    "\n",
    "        #Observed values city 1 and city 2 preds\n",
    "        x3 = li_city_truevs[0][1]\n",
    "        x4 = li_city_truevs[1][1]\n",
    "\n",
    "    ax1.xcorr( x1, x2, maxlags=maxl, normed=True ,lw=2, usevlines=False, linestyle='--', detrend=mlab.detrend_linear, label=\"TRUNET-CC\", color='blue' )\n",
    "    \n",
    "    ax1.xcorr( x3, x4, maxlags=maxl, normed=True ,lw=2, usevlines=False, linestyle='--' ,detrend=mlab.detrend_linear, label=\"Observed\", color='orange' )\n",
    "\n",
    "    ax1.axhline(y=0.05, color='r', linestyle='-.', label='y=0.05')\n",
    "    \n",
    "    ax1.legend()\n",
    "    ax1.grid(True)\n",
    "    ax1.set_xlim([-0.1,maxl])\n",
    "    ax1.set_ylim([-0.1,1])\n",
    "    ax1.set_xlabel('Lags')\n",
    "    ax1.set_title(f'XCF: {li_city_preds[0][0]}-{li_city_preds[1][0]}')\n",
    "    \n",
    "    prediction_path = li_info[0][0]\n",
    "    if os.path.isdir(prediction_path):\n",
    "        _buf = prediction_path+\"/xcf_{city}\"\n",
    "    else:\n",
    "        _dir = os.path.dirname(prediction_path)\n",
    "        _buf = _dir+f\"/xcf_{cities[0]}_{cities[1]}\"\n",
    "    \n",
    "    if errors:\n",
    "        _buf += \"_errors.png\"\n",
    "    else:\n",
    "        _buf += \"_preds.png\"\n",
    "        \n",
    "    plt.savefig(_buf)\n",
    "    plt.close()\n",
    "    \n",
    "        \n",
    "    return np.corrcoef([x1,x2])[0,1], np.corrcoef([x3,x4])[0,1]\n",
    "\n",
    "def decade_by_decade_eval(datformation,city):\n",
    "    \n",
    "    # Retrive predictions, true_values and dates\n",
    "    \n",
    "    prediction_path, stochastic, distr_name, mname = init_helper(datformation)\n",
    "    \n",
    "    timestamps, truevalues, preds = get_data(prediction_path)\n",
    "    preds_mean = np.mean(preds,axis=-1)\n",
    "    \n",
    "    # Finding indexes to divide data into decades\n",
    "    \n",
    "    \n",
    "    pd_timestamps = pd.DatetimeIndex(np.array(timestamps).astype('datetime64[s]') )\n",
    "    \n",
    "    #print(pd_timestamps)\n",
    "    \n",
    "    decades = [\"2000s\",\"2010s\"]\n",
    "    \n",
    "    arr_decades, bins = pd.cut( pd_timestamps.year,\n",
    "                                   [1999,2010,2020],labels=decades, right=False,\n",
    "                                      include_lowest=True, retbins=True)\n",
    "    \n",
    "    # Adding summary statistics\n",
    "    dict_s_boolindc = {}\n",
    "    df_decade_summary = pd.DataFrame(columns=['RMSE','R10RMSE','Avg Abs Bias', 'Avg Pred', 'Avg Obs' ])\n",
    "\n",
    "    for idx, decade in enumerate(decades):\n",
    "        bool_indc = (arr_decades == decade)\n",
    "                \n",
    "        decades_preds_mean = preds_mean[bool_indc]\n",
    "        decades_obs = truevalues[bool_indc]\n",
    "                \n",
    "        rmse = rmse_aggregate(decades_preds_mean,decades_obs)\n",
    "        r10rmse, _ = rN_aggregate(decades_preds_mean,decades_obs,10)\n",
    "        avgabsbias = avg_abs_bias(decades_preds_mean, decades_obs)\n",
    "        avg_pred_rain = np.mean(decades_preds_mean)\n",
    "        avg_true_rain = np.mean(decades_obs)\n",
    "        \n",
    "        df_decade_summary = df_decade_summary.append( pd.Series( { 'RMSE':rmse ,'R10RMSE':r10rmse,'Avg Abs Bias':avgabsbias, 'Avg Pred':avg_pred_rain, 'Avg Obs':avg_true_rain } ).rename(decade) )\n",
    "    \n",
    "    df_decade_summary.index.name = \"Decade\"\n",
    "    print(df_decade_summary)\n",
    "    \n",
    "    if os.path.isdir(prediction_path):\n",
    "        _buf = prediction_path+f\"/decade_summary_stats{city}.tex\"\n",
    "    else:\n",
    "        _dir = os.path.dirname(prediction_path)\n",
    "        _buf = _dir+f\"/decade_summary_stats{city}.tex\"\n",
    "\n",
    "    df_decade_summary.to_latex( buf=_buf,  float_format=\"{:0.3f}\".format, caption=f\"Decade aggregated Performance Metrics for {mname} trained on data \\\n",
    "                               between 1979 and 1999 and tested on the $7.1 {{\\\\times}} 10^3$ $\\mathrm{{km}}^2$ region around \\\\textbf{{{city}}} between 2000 and 2019-07\".replace(\"_\",\"\\-\"))\n",
    "\n",
    "def scatter_plot(datformation, threshold=0.5):\n",
    "    \"\"\"Produces x-y and logx-logy scatter plot of predictions against Observed values \"\"\"\n",
    "    \n",
    "    prediction_path, distr_name, mname = init_helper(datformation)\n",
    "    \n",
    "    timestamps, truevalues, preds = get_data(prediction_path)\n",
    "    preds_mean = np.mean(preds,axis=-1)\n",
    "    \n",
    "    #Removing values where observed value is zero\n",
    "    bool_mask = truevalues>=threshold\n",
    "    preds_mean = preds_mean[bool_mask][::50]\n",
    "    truevalues = truevalues[bool_mask][::50]\n",
    "    \n",
    "    x = np.log(truevalues+1)\n",
    "    y = np.log(preds_mean+1)\n",
    "    \n",
    "    #log-log plot\n",
    "    fig, ax1 = plt.subplots(1,1)\n",
    "    ax1.scatter( x, y, marker='x', alpha=0.04 )\n",
    "    xpoints = ypoints = ax1.get_xlim()\n",
    "    ax1.plot(xpoints, ypoints, linestyle='--', color='black', lw=2.5, scalex=False, scaley=False, label=\"y=x\" )\n",
    "        \n",
    "    #Median and std dev per interval plot \n",
    "    total_bins = 9\n",
    "    bins = np.linspace(0.0, 4.00, total_bins)\n",
    "    \n",
    "    delta = bins[1] - bins[0]\n",
    "    idx = np.digitize(x, bins)\n",
    "    \n",
    "    running_median = [np.median(y[idx==k]) for k in range(total_bins)]\n",
    "    running_std    = [y[idx==k].std() for k in range(total_bins)]\n",
    "    \n",
    "    #ax1.plot(bins-delta/2,running_median,'r--',lw=4,alpha=.8)\n",
    "    ax1.errorbar(bins-delta/2,running_median, running_std, fmt='r--',lw=3 ,ecolor='r', elinewidth=1.5, label=\"median/SD of predictions in 0.5mm/day interval\")\n",
    "    \n",
    "    \n",
    "    #ax1.set_title(f\"Predicted against Observed log transformed rainfall\")\n",
    "    ax1.set_xlabel('Log transformed Observed rainfall mm/day')\n",
    "    ax1.set_ylabel('Log transformed Predicted rainfall mm/day')\n",
    "    ax1.legend()\n",
    "    ax1.grid(True)\n",
    "    ax1.set_xlim([-0.1,4.0])\n",
    "    ax1.set_ylim(  ax1.get_xlim() )\n",
    "    \n",
    "    _dir = \"./Output/Experiment1/figures\"\n",
    "    if os.path.isdir(_dir) == False:\n",
    "        os.mkdir(_dir)\n",
    "    \n",
    "    #plt.axis('tight')\n",
    "    plt.savefig(_dir+f\"/scatter_log_obs_preds_{mname}_thold_{str(threshold)}.png\")\n",
    "    plt.show()"
   ]
  },
  {
   "cell_type": "markdown",
   "metadata": {
    "heading_collapsed": true
   },
   "source": [
    "# Multi-Model: Generic Evaluation w/ Seasonal Breakdown "
   ]
  },
  {
   "cell_type": "code",
   "execution_count": 28,
   "metadata": {
    "ExecuteTime": {
     "end_time": "2020-08-03T07:31:24.060771Z",
     "start_time": "2020-08-03T07:31:04.682693Z"
    },
    "hidden": true,
    "scrolled": true
   },
   "outputs": [
    {
     "name": "stdout",
     "output_type": "stream",
     "text": [
      "        RMSE  R10 RMSE   MAE\n",
      "Winter 3.950     9.114 2.233\n",
      "Spring 3.135     8.455 1.692\n",
      "Summer 3.663     9.021 2.018\n",
      "Autumn 3.765     9.222 1.987\n",
      "All    3.627     9.001 1.976\n",
      "        RMSE  R10 RMSE   MAE\n",
      "Winter 3.740     8.879 2.135\n",
      "Spring 2.707     7.922 1.439\n",
      "Summer 3.210     9.056 1.718\n",
      "Autumn 3.381     9.073 1.783\n",
      "All    3.268     8.792 1.762\n",
      "        RMSE  R10 RMSE   MAE\n",
      "Winter 3.731     8.894 2.093\n",
      "Spring 2.710     7.832 1.419\n",
      "Summer 3.193     8.701 1.695\n",
      "Autumn 3.398     8.923 1.773\n",
      "All    3.266     8.671 1.739\n",
      "        RMSE  R10 RMSE   MAE\n",
      "Winter 3.613     9.138 2.126\n",
      "Spring 2.549     7.817 1.487\n",
      "Summer 3.001     8.764 1.749\n",
      "Autumn 3.210     8.892 1.798\n",
      "All    3.106     8.766 1.784\n",
      "        RMSE  R10 RMSE   MAE\n",
      "Winter 3.570     9.096 1.978\n",
      "Spring 2.504     7.777 1.328\n",
      "Summer 2.991     8.800 1.616\n",
      "Autumn 3.215     8.926 1.680\n",
      "All    3.081     8.759 1.644\n",
      "        RMSE  R10 RMSE   MAE\n",
      "Winter 3.633     9.454 2.027\n",
      "Spring 2.509     8.064 1.352\n",
      "Summer 2.997     9.132 1.635\n",
      "Autumn 3.257     9.353 1.699\n",
      "All    3.113     9.116 1.672\n",
      "        RMSE  R10 RMSE   MAE\n",
      "Winter 3.590     9.270 1.974\n",
      "Spring 2.525     8.042 1.325\n",
      "Summer 3.001     9.057 1.602\n",
      "Autumn 3.239     9.181 1.668\n",
      "All    3.100     8.985 1.636\n"
     ]
    },
    {
     "ename": "ValueError",
     "evalue": "All objects passed were None",
     "output_type": "error",
     "traceback": [
      "\u001b[0;31m---------------------------------------------------------------------------\u001b[0m",
      "\u001b[0;31mValueError\u001b[0m                                Traceback (most recent call last)",
      "\u001b[0;32m<ipython-input-28-fdcad02b6198>\u001b[0m in \u001b[0;36m<module>\u001b[0;34m\u001b[0m\n\u001b[1;32m     36\u001b[0m \u001b[0;31m#Now cretae multi indexed data\u001b[0m\u001b[0;34m\u001b[0m\u001b[0;34m\u001b[0m\u001b[0;34m\u001b[0m\u001b[0m\n\u001b[1;32m     37\u001b[0m \u001b[0;31m# df_seasons = pd.DataFrame(li_scores_seasons)\u001b[0m\u001b[0;34m\u001b[0m\u001b[0;34m\u001b[0m\u001b[0;34m\u001b[0m\u001b[0m\n\u001b[0;32m---> 38\u001b[0;31m \u001b[0mdf_combined\u001b[0m \u001b[0;34m=\u001b[0m \u001b[0mpd\u001b[0m\u001b[0;34m.\u001b[0m\u001b[0mconcat\u001b[0m\u001b[0;34m(\u001b[0m\u001b[0mli_df_season_summary\u001b[0m\u001b[0;34m,\u001b[0m \u001b[0mkeys\u001b[0m\u001b[0;34m=\u001b[0m\u001b[0mmodel_names\u001b[0m\u001b[0;34m,\u001b[0m \u001b[0maxis\u001b[0m\u001b[0;34m=\u001b[0m\u001b[0;36m0\u001b[0m\u001b[0;34m)\u001b[0m\u001b[0;31m#.reset_index(level=1)\u001b[0m\u001b[0;34m\u001b[0m\u001b[0;34m\u001b[0m\u001b[0m\n\u001b[0m\u001b[1;32m     39\u001b[0m \u001b[0mdf_combined\u001b[0m \u001b[0;34m=\u001b[0m \u001b[0mdf_combined\u001b[0m\u001b[0;34m.\u001b[0m\u001b[0mrename_axis\u001b[0m\u001b[0;34m(\u001b[0m\u001b[0;34m[\u001b[0m\u001b[0;34m\"Model name\"\u001b[0m\u001b[0;34m,\u001b[0m \u001b[0;34m\"season\"\u001b[0m\u001b[0;34m]\u001b[0m\u001b[0;34m)\u001b[0m\u001b[0;34m[\u001b[0m\u001b[0;34m[\u001b[0m\u001b[0;34m'RMSE'\u001b[0m\u001b[0;34m,\u001b[0m\u001b[0;34m'R10 RMSE'\u001b[0m\u001b[0;34m,\u001b[0m\u001b[0;34m'MAE'\u001b[0m\u001b[0;34m]\u001b[0m\u001b[0;34m]\u001b[0m\u001b[0;34m\u001b[0m\u001b[0;34m\u001b[0m\u001b[0m\n\u001b[1;32m     40\u001b[0m \u001b[0;34m\u001b[0m\u001b[0m\n",
      "\u001b[0;32m~/.local/lib/python3.7/site-packages/pandas/core/reshape/concat.py\u001b[0m in \u001b[0;36mconcat\u001b[0;34m(objs, axis, join, ignore_index, keys, levels, names, verify_integrity, sort, copy)\u001b[0m\n\u001b[1;32m    282\u001b[0m         \u001b[0mverify_integrity\u001b[0m\u001b[0;34m=\u001b[0m\u001b[0mverify_integrity\u001b[0m\u001b[0;34m,\u001b[0m\u001b[0;34m\u001b[0m\u001b[0;34m\u001b[0m\u001b[0m\n\u001b[1;32m    283\u001b[0m         \u001b[0mcopy\u001b[0m\u001b[0;34m=\u001b[0m\u001b[0mcopy\u001b[0m\u001b[0;34m,\u001b[0m\u001b[0;34m\u001b[0m\u001b[0;34m\u001b[0m\u001b[0m\n\u001b[0;32m--> 284\u001b[0;31m         \u001b[0msort\u001b[0m\u001b[0;34m=\u001b[0m\u001b[0msort\u001b[0m\u001b[0;34m,\u001b[0m\u001b[0;34m\u001b[0m\u001b[0;34m\u001b[0m\u001b[0m\n\u001b[0m\u001b[1;32m    285\u001b[0m     )\n\u001b[1;32m    286\u001b[0m \u001b[0;34m\u001b[0m\u001b[0m\n",
      "\u001b[0;32m~/.local/lib/python3.7/site-packages/pandas/core/reshape/concat.py\u001b[0m in \u001b[0;36m__init__\u001b[0;34m(self, objs, axis, join, keys, levels, names, ignore_index, verify_integrity, copy, sort)\u001b[0m\n\u001b[1;32m    347\u001b[0m \u001b[0;34m\u001b[0m\u001b[0m\n\u001b[1;32m    348\u001b[0m         \u001b[0;32mif\u001b[0m \u001b[0mlen\u001b[0m\u001b[0;34m(\u001b[0m\u001b[0mobjs\u001b[0m\u001b[0;34m)\u001b[0m \u001b[0;34m==\u001b[0m \u001b[0;36m0\u001b[0m\u001b[0;34m:\u001b[0m\u001b[0;34m\u001b[0m\u001b[0;34m\u001b[0m\u001b[0m\n\u001b[0;32m--> 349\u001b[0;31m             \u001b[0;32mraise\u001b[0m \u001b[0mValueError\u001b[0m\u001b[0;34m(\u001b[0m\u001b[0;34m\"All objects passed were None\"\u001b[0m\u001b[0;34m)\u001b[0m\u001b[0;34m\u001b[0m\u001b[0;34m\u001b[0m\u001b[0m\n\u001b[0m\u001b[1;32m    350\u001b[0m \u001b[0;34m\u001b[0m\u001b[0m\n\u001b[1;32m    351\u001b[0m         \u001b[0;31m# consolidate data & figure out what our result ndim is going to be\u001b[0m\u001b[0;34m\u001b[0m\u001b[0;34m\u001b[0m\u001b[0;34m\u001b[0m\u001b[0m\n",
      "\u001b[0;31mValueError\u001b[0m: All objects passed were None"
     ]
    }
   ],
   "source": [
    "model_names = [\"IFS\", \"HGCRU\",\"HGCRU+CC\",\"T-NET\",\"T-NET+CC\", \"T-NET+CC vdrop\",\"T-NET+CC 4h\" ]\n",
    "models_path_name = [\"ERA5/preds\",\"SimpleConvGRU_mc_dropout_Normal_False\", \"SimpleConvGRU_mc_dropout_Normal_True\", \"TRUNET_mc_dropout_Normal_False\",\"TRUNET_mc_dropout_Normal_True\",\"TRUNET_mc_dropout_Normal_True\",\"TRUNET_mc_dropout_Normal_True\"]\n",
    "locs_train =  [\"\"] + [\"Car_Lon_Gla_Bir_Lan_Man_Liv_Bra_Edi_Lee_Dub_Nor_Tru_New_Ply_Ban\"]*6\n",
    "locs_test = [\"All\"]*7\n",
    "\n",
    "_dir = \"./Output/Experiment1/tables\"\n",
    "os.makedirs(_dir, exist_ok=True)\n",
    "\n",
    "#general scores and year by year break down\n",
    "\n",
    "li_df_season_summary = []\n",
    "\n",
    "for mn, mpn, loc_train, loc_test in zip(model_names, models_path_name, locs_train, locs_test):\n",
    "    \n",
    "    if mn==\"IFS\":\n",
    "        fp = f\"Output/ERA5/preds/{loc_test}_2014_2019-06-11_pred.dat\"\n",
    "        \n",
    "    elif mn==\"T-NET+CC 4h\":\n",
    "        fp = f\"Output/{mpn}_{loc_train}_{loc_test}_train1979_2009_2014_test2014_2019-07-02__heads_4/Predictions/_regional.dat\"\n",
    "        \n",
    "    elif mn == \"T-NET+CC vdrop\":\n",
    "        fp = f\"Output/{mpn}_{loc_train}_{loc_test}_train1979_2009_2014_test2014_2019-07-02__vdrop/Predictions/_regional.dat\"\n",
    "        \n",
    "    else:\n",
    "        fp = f\"Output/{mpn}_{loc_train}_{loc_test}_train1979_2009_2014_test2014_2019-07-02_/Predictions/_regional.dat\"\n",
    "        \n",
    "    info_dict = {\"fp\": fp, \"stochastic\":False, 'distr_name':None, \"model_name\":mpn}\n",
    "    #print(fp)\n",
    "    \n",
    "    df_season_summary = summary_stat_seasonal(info_dict, method=\"experiment1\" ) #RMSE, R10RMSE, Avg. Bias, avg Pred, avg. Observerd per season. dict for each model, with a row for each season\n",
    "    #print(df_season_summary)\n",
    "    #Create pandas dataframe with multi-idnex, index=(model_name,season)\n",
    "    \n",
    "    li_df_season_summary.append( df_season_summary )\n",
    "    \n",
    "#Now cretae multi indexed data    \n",
    "# df_seasons = pd.DataFrame(li_scores_seasons)\n",
    "df_combined = pd.concat(li_df_season_summary, keys=model_names, axis=0)#.reset_index(level=1)\n",
    "df_combined = df_combined.rename_axis([\"Model name\", \"season\"])[['RMSE','R10 RMSE','MAE']]\n",
    "\n",
    "# Printing seperate tables for each Season\n",
    "for season in df_combined.index.levels[1]:\n",
    "    df_season = df_combined.xs((season), level=(1))\n",
    "    print(season)\n",
    "    print(df_season)\n",
    "    print(\"\\n\\n\")\n",
    "    \n",
    "    df_season.to_latex( buf=_dir+f\"/{season}.tex\",  float_format=\"{:0.3f}\".format, caption=f\"{season}\")\n",
    "    \n",
    "    \n"
   ]
  },
  {
   "cell_type": "markdown",
   "metadata": {
    "heading_collapsed": true
   },
   "source": [
    "# Multi-Model : Ablation Test"
   ]
  },
  {
   "cell_type": "code",
   "execution_count": null,
   "metadata": {
    "ExecuteTime": {
     "end_time": "2020-07-23T18:20:26.926698Z",
     "start_time": "2020-07-23T18:20:17.273831Z"
    },
    "code_folding": [
     13,
     34
    ],
    "hidden": true
   },
   "outputs": [],
   "source": [
    "model_names = [\"Averaging\",\"Concatenation\",\"Last One\",\"Self Attn\", \"Cross Attn (1 head)\",\"Cross Attn (4 heads)\", \"Cross Attn (8 heads)\"]\n",
    "#model_names = [\"Concatenation\",\"Last One\",\"Self Attn\", \"Cross Attn (1 head)\",\"Cross Attn (4 heads)\", \"Cross Attn (8 heads)\"]\n",
    "suffixes = [\"__1\",\"__2\",\"__3\",\"__4\",\"__heads_1\",\"__heads_4\",\"_\"]\n",
    "#suffixes = [\"__2\",\"__3\",\"__4\",\"__heads_1\",\"__heads_4\",\"_\"]\n",
    "models_path_name = \"TRUNET_mc_dropout_Normal_True\"\n",
    "loc_train = \"Car_Lon_Gla_Bir_Lan_Man_Liv_Bra_Edi_Lee_Dub_Nor_Tru_New_Ply_Ban\"\n",
    "loc_test = \"All\"\n",
    "\n",
    "_dir = \"./Output/Ablation/tables\"\n",
    "os.makedirs(_dir, exist_ok=True)\n",
    "\n",
    "#general scores and year by year break down\n",
    "\n",
    "li_df_season_summary = []\n",
    "\n",
    "for mn, suffix in zip(model_names, suffixes):\n",
    "    \n",
    "    fp = f\"Output/{models_path_name}_{loc_train}_{loc_test}_train1979_2009_2014_test2014_2019-07-02\"\n",
    "    fp += suffix\n",
    "    fp += \"/Predictions/_regional.dat\"\n",
    "    \n",
    "    info_dict = {\"fp\": fp, \"stochastic\":False, 'distr_name':None, \"model_name\":mn}\n",
    "\n",
    "    \n",
    "    df_season_summary = summary_stat_seasonal(info_dict, method=\"experiment1\" ) #RMSE, R10RMSE, Avg. Bias, avg Pred, avg. Observerd per season. dict for each model, with a row for each season\n",
    "\n",
    "    #Create pandas dataframe with multi-idnex, index=(model_name,season)\n",
    "    \n",
    "    li_df_season_summary.append( df_season_summary )\n",
    "    \n",
    "#Now cretae multi indexed data    \n",
    "# df_seasons = pd.DataFrame(li_scores_seasons)\n",
    "df_combined = pd.concat(li_df_season_summary, keys=model_names, axis=0)#.reset_index(level=1)\n",
    "df_combined = df_combined.rename_axis([\"Model name\", \"season\"])[['RMSE','R10 RMSE','MAE']]\n",
    "\n",
    "# Printing seperate tables for each Season\n",
    "for season in df_combined.index.levels[1]:\n",
    "    df_season = df_combined.xs((season), level=(1))\n",
    "    print(season)\n",
    "    print(df_season)\n",
    "    print(\"\\n\\n\")\n",
    "    \n",
    "    df_season.to_latex( buf=_dir+f\"/{season}.tex\",  float_format=\"{:0.3f}\".format, caption=f\"{season}\")"
   ]
  },
  {
   "cell_type": "markdown",
   "metadata": {
    "heading_collapsed": true
   },
   "source": [
    "# Single Model: Generic Evaluation"
   ]
  },
  {
   "cell_type": "code",
   "execution_count": null,
   "metadata": {
    "ExecuteTime": {
     "end_time": "2020-07-23T09:06:07.699253Z",
     "start_time": "2020-07-23T09:06:07.641804Z"
    },
    "hidden": true
   },
   "outputs": [],
   "source": [
    "#temp = {\"fp\": f\"./THST_mc_dropout_Normal_True__London_train1979_2007_2007_2013_test2014_2019-07-02/Predictions/local.dat\", \"stochastic\":True, 'distr_name':\"Normal\", \"model_name\":\"TRU-NET CC Normal\"}   \n",
    "temp = {\"fp\": f\"./Output/TRUNET_mc_dropout_Normal_True_Car_Lon_Gla_Bir_Lan_Man_Liv_Bra_Edi_Lee_Dub_Nor_Tru_New_Ply_Ban_Birmingham_train1979_2009_2014_test2014_2019-07-02__vdrop/Predictions/_regional.dat\", \"stochastic\":True, 'distr_name':\"Normal\", \"model_name\":\"TRU-NET CC Normal\"}   \n",
    "a = model_evaluation(temp, rolling_anual=False )    "
   ]
  },
  {
   "cell_type": "markdown",
   "metadata": {
    "heading_collapsed": true,
    "hidden": true
   },
   "source": [
    "## Comparison of 2 Models"
   ]
  },
  {
   "cell_type": "code",
   "execution_count": null,
   "metadata": {
    "ExecuteTime": {
     "end_time": "2020-06-18T04:15:12.669103Z",
     "start_time": "2020-06-18T04:15:08.654463Z"
    },
    "code_folding": [],
    "hidden": true
   },
   "outputs": [],
   "source": [
    "dict_prediction_path = {}\n",
    "city = \"London\"\n",
    "temp1 = { \"IFS\":\n",
    "        {\"fp\":f\"ERA5/preds/{city}_2014-01-01_2019-07-04_pred_true.dat\", \"stochastic\":False, 'distr_name':None},         \n",
    "}\n",
    "\n",
    "temp1 = { \"T-NET+CC-N old preds\":\n",
    "        {\"fp\":f\"./THST_mc_dropout_Normal_True_Cardiff_London_Glasgow_Birmingham_Lancaster_Manchester_Liverpool_Bradford_Edinburgh_Leeds_Dublin_v145{city}_tst_0.7_iim_linear/Predictions/CDates2014-01-01_2019-07-04/\", \n",
    "                 \"stochastic\":False, 'distr_name':None},       \n",
    "}\n",
    "\n",
    "temp2 = { \"T-NET+CC-N new preds\":\n",
    "{\"fp\": f\"./THST_mc_dropout_Normal_True__{city}_train1979_2007_2007_2013_test2014_2019-07-02/Predictions/local.dat\", \"stochastic\":False, 'distr_name':None, \"model_name\":\"TRU-NET CC Normal\"},       \n",
    "}\n",
    "\n",
    "dict_prediction_path.update(temp1)\n",
    "dict_prediction_path.update(temp2)\n",
    "name1 = \"IFS\"\n",
    "name2 = \"T-NET+CC-N\"\n",
    "\n",
    "#pp1, stoch1, distr_name1  = init_helper(dict_prediction_path['SimpleLSTM_MCDropout_LogNormal_21'])\n",
    "pp1,stoch1, distr_name1, mname = init_helper(list(temp1.values())[0])\n",
    "pp2,stoch2, distr_name2, mname = init_helper(list(temp2.values())[0])\n",
    "\n",
    "ts1, true_val1, preds1 = get_data(pp1)\n",
    "ts2, true_val2, preds2 = get_data(pp2)\n",
    "\n",
    "stride = 120\n",
    "\n",
    "    \n",
    "for idx in range(0,len(ts2),stride):\n",
    "    li_tss = [ ts1[idx:idx+stride], ts2[idx:idx+stride] ]\n",
    "    \n",
    "    li_preds = [ preds1[idx:idx+stride,:], preds2[idx:idx+stride, :] ]\n",
    "    \n",
    "    li_true_val= [true_val1[idx:idx+stride], true_val2[idx:idx+stride] ]\n",
    "    \n",
    "    li_conf  = [0.9, 0.9 ]\n",
    "    \n",
    "    \n",
    "    li_distr_names= [ distr_name1, distr_name2]\n",
    "    image_all_preds_compare(li_tss, li_true_val, li_preds,\n",
    "                       li_conf, li_distr_names, names=[ list(temp1.keys())[0], list(temp2.keys())[0] ], figsize=(20, 8) )"
   ]
  },
  {
   "cell_type": "markdown",
   "metadata": {
    "ExecuteTime": {
     "end_time": "2020-05-15T13:44:35.465100Z",
     "start_time": "2020-05-15T13:44:35.462828Z"
    },
    "heading_collapsed": true,
    "hidden": true
   },
   "source": [
    "## Rollign 2 Year Eval"
   ]
  },
  {
   "cell_type": "code",
   "execution_count": null,
   "metadata": {
    "ExecuteTime": {
     "end_time": "2020-05-22T20:32:10.352226Z",
     "start_time": "2020-05-22T20:32:09.438422Z"
    },
    "hidden": true
   },
   "outputs": [],
   "source": [
    "# temp = { \"temp\":{\"fp\":\"./THST_mc_dropout_Normal_True_Cardiff_London_Glasgow_Birmingham_Lancaster_Manchester_Liverpool_Bradford_Edinburgh_Leeds_Dublin_v145/Predictions/R2yt\", \"stochastic\":True, 'distr_name':\"Normal\"},         \n",
    "# }\n",
    "temp = { \"temp\":{\"fp\":\"./THST_mc_dropout_Normal_True_Cardiff_London_Glasgow_Birmingham_Lancaster_Manchester_Liverpool_Bradford_Edinburgh_Leeds_Dublin_v145Manchester_tst_0.5_iim_linear/Predictions/R2yt\", \"stochastic\":True, 'distr_name':\"Normal\"},         \n",
    "}\n",
    "dict_prediction_path.update(temp)\n",
    "model_evaluation( dict_prediction_path[\"temp\"], rolling_anual=True )    "
   ]
  },
  {
   "cell_type": "markdown",
   "metadata": {
    "heading_collapsed": true
   },
   "source": [
    "# Single Model: Varying Training Set Length Study\n"
   ]
  },
  {
   "cell_type": "code",
   "execution_count": null,
   "metadata": {
    "ExecuteTime": {
     "end_time": "2020-05-20T22:43:33.218094Z",
     "start_time": "2020-05-20T22:43:32.312164Z"
    },
    "hidden": true
   },
   "outputs": [],
   "source": [
    "temp = { \"temp\":{\"fp\":\"./Output/TRUNET_mc_dropout_Normal_\", \"stochastic\":True, 'distr_name':\"Normal\"},         \n",
    "}\n",
    "dict_prediction_path.update(temp)\n",
    "a = model_evaluation(dict_prediction_path[\"temp\"], rolling_anual=False )    "
   ]
  },
  {
   "cell_type": "markdown",
   "metadata": {
    "heading_collapsed": true
   },
   "source": [
    "# Single Model: Summary Statistics Season city by city"
   ]
  },
  {
   "cell_type": "code",
   "execution_count": 65,
   "metadata": {
    "ExecuteTime": {
     "end_time": "2020-08-04T10:59:07.927905Z",
     "start_time": "2020-08-04T10:59:07.777927Z"
    },
    "hidden": true
   },
   "outputs": [
    {
     "name": "stdout",
     "output_type": "stream",
     "text": [
      "\n",
      "\n",
      " Birmingham\n",
      "        RMSE  R10 RMSE   MAE  Avg Error\n",
      "Winter 2.061     4.583 1.211      0.075\n",
      "Spring 2.817     8.193 1.500      0.349\n",
      "Summer 2.884     6.805 1.515      0.334\n",
      "Autumn 2.661     6.676 1.455      0.125\n",
      "All    2.621     6.649 1.418      0.222\n",
      "        RMSE  R10 RMSE   MAE  Avg Error\n",
      "Winter 1.949     4.388 1.227      0.685\n",
      "Spring 1.851     4.738 1.037      0.135\n",
      "Summer 1.984     5.646 1.093     -0.095\n",
      "Autumn 1.959     5.846 1.103      0.318\n",
      "All    1.933     5.215 1.114      0.263\n",
      "\n",
      "\n",
      " Cardiff\n",
      "        RMSE  R10 RMSE   MAE  Avg Error\n",
      "Winter 3.486     6.564 2.081      0.009\n",
      "Spring 3.313     6.644 1.870      0.727\n",
      "Summer 3.735     7.769 1.967      0.345\n",
      "Autumn 3.701     8.408 2.099      0.143\n",
      "All    3.551     7.396 2.001      0.315\n",
      "        RMSE  R10 RMSE   MAE  Avg Error\n",
      "Winter 2.381     4.439 1.532      0.155\n",
      "Spring 2.007     3.056 1.175      0.301\n",
      "Summer 2.215     5.666 1.240     -0.377\n",
      "Autumn 2.262     5.011 1.341     -0.185\n",
      "All    2.215     4.809 1.320     -0.008\n",
      "\n",
      "\n",
      " Glasgow\n",
      "        RMSE  R10 RMSE   MAE  Avg Error\n",
      "Winter 5.079     9.479 3.039     -1.025\n",
      "Spring 3.023     7.172 1.768     -0.008\n",
      "Summer 3.758     7.413 2.293      0.266\n",
      "Autumn 4.128     7.812 2.480     -0.561\n",
      "All    4.059     8.394 2.387     -0.337\n",
      "        RMSE  R10 RMSE   MAE  Avg Error\n",
      "Winter 4.012     8.105 2.298     -1.100\n",
      "Spring 2.480     6.411 1.335     -0.312\n",
      "Summer 2.867     6.755 1.784     -0.241\n",
      "Autumn 2.974     6.115 1.749     -0.460\n",
      "All    3.132     7.149 1.783     -0.531\n",
      "\n",
      "\n",
      " London\n",
      "        RMSE  R10 RMSE   MAE  Avg Error\n",
      "Winter 2.611     7.768 1.347     -0.031\n",
      "Spring 2.411     6.829 1.280      0.447\n",
      "Summer 3.156     9.787 1.515      0.487\n",
      "Autumn 2.771     9.105 1.362     -0.081\n",
      "All    2.735     8.500 1.372      0.210\n",
      "        RMSE  R10 RMSE   MAE  Avg Error\n",
      "Winter 1.857     5.593 1.094      0.244\n",
      "Spring 2.015     6.421 1.058      0.309\n",
      "Summer 2.868    11.200 1.283     -0.040\n",
      "Autumn 2.060     6.647 1.097      0.083\n",
      "All    2.221     7.850 1.129      0.158\n",
      "\n",
      "\n",
      " Manchester\n",
      "        RMSE  R10 RMSE   MAE  Avg Error\n",
      "Winter 3.212     7.223 1.924      0.271\n",
      "Spring 3.342     7.959 1.827      0.585\n",
      "Summer 3.795     9.244 2.101      0.618\n",
      "Autumn 3.373     7.783 1.934     -0.093\n",
      "All    3.428     7.994 1.941      0.353\n",
      "        RMSE  R10 RMSE   MAE  Avg Error\n",
      "Winter 2.390     5.456 1.537      0.378\n",
      "Spring 2.110     6.315 1.137      0.032\n",
      "Summer 2.635     8.294 1.420     -0.179\n",
      "Autumn 2.375     5.960 1.379     -0.221\n",
      "All    2.374     6.517 1.362      0.013\n"
     ]
    }
   ],
   "source": [
    "cities = [\"Birmingham\",\"Cardiff\",\"Glasgow\",\"London\",\"Manchester\"]\n",
    "#cities = [\"Birmingham\",\"London\"],\"Cardiff\",\"Glasgow\",\n",
    "for city in cities:\n",
    "    print(f\"\\n\\n {city}\")\n",
    "    #ERA5\n",
    "    temp = {\"fp\": f\"Output/ERA5/preds/{city}_2014_2019-05-14regional_pred.dat\", 'distr_name':None, \"model_name\":\"IFS\"}\n",
    "    summary_stat_seasonal( temp, city )\n",
    "\n",
    "    \n",
    "    # Current TRUNET\n",
    "    temp = {\"fp\": f\"Output/TRUNET_mc_dropout_Normal_True_Car_Lon_Gla_Bir_Lan_Man_Liv_Bra_Edi_Lee_Dub_Nor_Tru_New_Ply_Ban_{city}_train1979_2009_2014_test2014_2019-07-02_/Predictions/_regional.dat\", 'distr_name':None, \"model_name\":\"TNET-CC\"} #TRUNET model trained on 28 years from 1979\n",
    "    summary_stat_seasonal( temp, city )\n",
    "    "
   ]
  },
  {
   "cell_type": "markdown",
   "metadata": {
    "ExecuteTime": {
     "end_time": "2020-07-28T10:45:24.724759Z",
     "start_time": "2020-07-28T10:45:24.722658Z"
    },
    "heading_collapsed": true
   },
   "source": [
    "# Multi Model - Varying Time Span"
   ]
  },
  {
   "cell_type": "code",
   "execution_count": null,
   "metadata": {
    "ExecuteTime": {
     "end_time": "2020-07-29T13:21:05.126375Z",
     "start_time": "2020-07-29T13:20:56.659346Z"
    },
    "code_folding": [
     22
    ],
    "hidden": true
   },
   "outputs": [],
   "source": [
    "model_names = [\"5year\", \"10year\",\"15year\",\"20year\",\"25year\", \"30year\",\"35year\"]\n",
    "\n",
    "train_dates = [\"1979_1982_1983\",\"1979_1986_1988\",\"1979_1990_1993\",\"1979_1994_1998\",\"1979_1998_2003\",\"1979_2003_2008\",\"1979_2009_2014\"]\n",
    "\n",
    "_dir = \"./Output/Experiments/Varied_Time_Span\"\n",
    "_dir_figures = os.path.join(_dir,\"figure\")\n",
    "_dir_tables = os.path.join(_dir,\"tables\")\n",
    "os.makedirs(_dir_figures, exist_ok=True)\n",
    "os.makedirs(_dir_tables, exist_ok=True)\n",
    "\n",
    "\n",
    "#general scores and year by year break down\n",
    "\n",
    "li_df_season_summary = []\n",
    "\n",
    "for mn, td in zip(model_names, train_dates):\n",
    "    \n",
    "    #Here Editing this string\n",
    "    mpn = \"TRUNET_mc_dropout_Normal_True\"\n",
    "    start_year = \"1979\"\n",
    "    loc_train = \"Car_Lon_Gla_Bir_Lan_Man_Liv_Bra_Edi_Lee_Dub_Nor_Tru_New_Ply_Ban\"\n",
    "    \n",
    "    if mn == \"35year\":\n",
    "        fp = f\"./Output/{mpn}_{loc_train}_All_train{td}_test2014_2019-07-02_/Predictions/_regional.dat\"\n",
    "    else:\n",
    "        fp = f\"./Output/{mpn}_{loc_train}_All_train{td}_test2014_2019-07-02__vdrop/Predictions/_regional.dat\"\n",
    "       \n",
    "    info_dict = {\"fp\": fp, \"stochastic\":False, 'distr_name':None, \"model_name\":mpn}\n",
    "    #print(fp)\n",
    "    \n",
    "    df_season_summary = summary_stat_seasonal(info_dict, method=\"experiment\" ) #RMSE, R10RMSE, Avg. Bias, avg Pred, avg. Observerd per season. dict for each model, with a row for each season\n",
    "    #print(df_season_summary)\n",
    "    #Create pandas dataframe with multi-idnex, index=(model_name,season)\n",
    "    \n",
    "    li_df_season_summary.append( df_season_summary )\n",
    "    \n",
    "#Now cretae multi indexed data    \n",
    "# df_seasons = pd.DataFrame(li_scores_seasons)\n",
    "df_combined = pd.concat(li_df_season_summary, keys=model_names, axis=0)#.reset_index(level=1)\n",
    "df_combined = df_combined.rename_axis([\"Model name\", \"season\"])[['RMSE','R10 RMSE','MAE']]\n",
    "\n",
    "# Printing seperate tables for each Season\n",
    "for season in df_combined.index.levels[1]:\n",
    "    if season == \"All\":\n",
    "        df_season = df_combined.xs((season), level=(1))\n",
    "        print(season)\n",
    "\n",
    "        df_season.to_latex( buf= os.path.join(_dir_tables,season+\".tex\"),  float_format=\"{:0.3f}\".format, caption=f\"{season}\")\n",
    "\n",
    "        #Making Plot\n",
    "        print(df_season)\n",
    "        print(\"\\n\\n\")\n",
    "        \n",
    "        xticks = [\"0\",\"(5,2.92)\",\"(10,5.84)\",\"(15,8.76)\",\"(20,1.168)\",\"(25,14.6)\",\"(30,1.752)\",\"(35,2.044)\"]\n",
    "        xlabel = \"(#Years,#Datums)\"\n",
    "        \n",
    "        ax = df_season['RMSE'].plot.line( use_index=False, ylabel='RMSE' ,title='Varied Training Set Time Span', grid=True, legend=False, xlabel=xlabel)\n",
    "        ax.set_xticklabels(xticks)\n",
    "        ax.set_xlabel(xlabel)\n",
    "        ax.get_figure().savefig( os.path.join(_dir_figures,\"RMSE.png\"),dpi=450 )\n",
    "        plt.show()\n",
    "        \n",
    "        ax1 = df_season['R10 RMSE'].plot.line( use_index=False, ylabel='R10 RMSE' ,title='Varied Training Set Time Span', grid=True, legend=False, xlabel=xlabel)\n",
    "        ax1.set_xticklabels(xticks)\n",
    "        ax1.set_xlabel(xlabel)\n",
    "        ax1.get_figure().savefig(os.path.join(_dir_figures,\"R10RMSE.png\"),dpi=450 )\n",
    "        plt.show()\n",
    "        \n",
    "        ax3 = df_season['MAE'].plot.line( use_index=False, ylabel='MAE' ,title='Varied Training Set Time Span', grid=True, legend=False, xlabel=xlabel)\n",
    "        ax3.set_xticklabels(xticks)\n",
    "        ax3.set_xlabel(xlabel)\n",
    "        ax3.get_figure().savefig(os.path.join(_dir_figures,\"MAE.png\"),dpi=450 )\n",
    "        plt.show()\n",
    "        \n",
    "        "
   ]
  },
  {
   "cell_type": "markdown",
   "metadata": {
    "ExecuteTime": {
     "end_time": "2020-07-29T14:05:16.392656Z",
     "start_time": "2020-07-29T14:05:16.390787Z"
    },
    "heading_collapsed": true
   },
   "source": [
    "# Multi-Model: Varying Time Period "
   ]
  },
  {
   "cell_type": "code",
   "execution_count": 39,
   "metadata": {
    "ExecuteTime": {
     "end_time": "2020-08-01T22:17:17.597343Z",
     "start_time": "2020-08-01T22:16:59.717213Z"
    },
    "code_folding": [
     4,
     25
    ],
    "hidden": true
   },
   "outputs": [
    {
     "name": "stdout",
     "output_type": "stream",
     "text": [
      "RMSE\n",
      "MAE\n",
      "R10 RMSE\n"
     ]
    }
   ],
   "source": [
    "model_names = [\"Dec1\",\"Dec2\",\"Dec3\",\"Dec4\"]\n",
    "\n",
    "train_dates = [\"1979_1982_1983\",\"1979_1986_1988\",\"1979_1990_1993\",\"1979_1994_1998\",\"1979_1998_2003\",\"1979_2003_2008\",\"1979_2009_2014\"]\n",
    "\n",
    "dict_train_tests = {\n",
    "    \"1979_1986_1988-12-31\": ['1989_1998-12-31', '1999_2008-12-31','2009_2018-12-31' ],\n",
    "    \"1989_1996_1998-12-31\": ['1979_1988-12-31', '1999_2008-12-31','2009_2018-12-31' ],\n",
    "    \"1999_2006_2008-12-31\": ['1979_1988-12-31', '1989_1998-12-31','2009_2018-12-31' ],\n",
    "    \"2009_2016_2018-12-31\": ['1979_1988-12-31', '1989_1998-12-31','1999_2008-12-31' ]\n",
    "}\n",
    "\n",
    "_dir = \"./Output/Experiments/Varied_Time_Period\"\n",
    "_dir_figures = os.path.join(_dir,\"figure\")\n",
    "_dir_tables = os.path.join(_dir,\"tables\")\n",
    "os.makedirs(_dir_figures, exist_ok=True)\n",
    "os.makedirs(_dir_tables, exist_ok=True)\n",
    "\n",
    "\n",
    "#general scores and year by year break down\n",
    "\n",
    "li_df_summary = []\n",
    "\n",
    "li_traindate_li_testdates = list( dict_train_tests.items() )\n",
    "train_dates = [elem[0] for elem in li_traindate_li_testdates ]\n",
    "\n",
    "for train_date, test_dates in li_traindate_li_testdates:\n",
    "    \n",
    "    #Here Editing this string\n",
    "    mpn = \"TRUNET_mc_dropout_Normal_True\"\n",
    "    loc_train = \"Car_Lon_Gla_Bir_Lan_Man_Liv_Bra_Edi_Lee_Dub_Nor_Tru_New_Ply_Ban\"\n",
    "    \n",
    "    fps = [ f\"./Output/{mpn}_{loc_train}_All_train{train_date}_test{test_date}__vdrop/Predictions/_regional.dat\" for test_date in test_dates ]\n",
    "    \n",
    "    info_dicts = [ {\"fp\": fp, \"stochastic\":False, 'distr_name':None, \"model_name\":train_date} for fp in fps ]\n",
    "    \n",
    "    #list of prediction results for the model trained on 'train_date' and tested seperately on each 'test_date'\n",
    "    df_summaries = [ summary_stat_seasonal(info_dict, method=\"VariedTimePeriod\" ) for info_dict in info_dicts ] #RMSE, R10RMSE, Avg. Bias\n",
    "    df_summaries = [ df.rename(test_date) for df, test_date in zip(df_summaries,test_dates) ]\n",
    "    \n",
    "    # For a model trained on one 'train_date' contains all the associated scores for tests on each other 10 year period\n",
    "    df_summary = pd.concat(df_summaries,axis=1)\n",
    "    \n",
    "    li_df_summary.append(df_summary)\n",
    "\n",
    "#Making one multi-level dataframe\n",
    "\n",
    "df_combined = pd.concat( li_df_summary, keys=train_dates, axis=0 )\n",
    "li_stats_scores_names = list(set(df_combined.index.get_level_values(1)))\n",
    "\n",
    "###### Now i want to create that df_summary for each train_date. Then make a dataframe with two index levels. Level 1= train_date and level 2= test date\n",
    "##### Then iterate through each coloumn (sc0re) and extract sub-table that only uses that coloumn,\n",
    "#### Then make level 2 - test_date into the coloumns and perform a 2 way anova test for this score\n",
    "\n",
    "\n",
    "#Anova test\n",
    "# df_ftests = pd.DataFrame(columns=[\"F_value\",\"p_value\"], index=li_stats_scores_names )\n",
    "# for score_stat in li_stats_scores_names:\n",
    "#     #print(f\"Anova test for {score_stat}\")\n",
    "#     #Dataframe containing one type of score_stat for  one train date and different test dates\n",
    "#     # w/ multilevel index l1== train date l2= test_dates\n",
    "        \n",
    "#     df_statscore = df_combined.iloc[ df_combined.index.get_level_values(1)== score_stat].droplevel(1)\n",
    "    \n",
    "#     #Print df_stat_score to file\n",
    "#     df_statscore.to_latex( buf= os.path.join(_dir_tables, score_stat+\".tex\"),  float_format=\"{:0.3f}\".format, caption=f\"{score_stat}\")\n",
    "    \n",
    "#     #Calculating Anova Test for this variable\n",
    "#     f,p = stats.f_oneway(  *[ list(filter(lambda x: np.isfinite(x), train_set_scores)) for train_set_scores in df_statscore.to_numpy().tolist() ] )    \n",
    "    \n",
    "#     df_ftests.loc[score_stat] = [f,p]\n",
    "\n",
    "# print(df_ftests)\n",
    "\n",
    "\n",
    "for score_stat in li_stats_scores_names:\n",
    "    \n",
    "    df_statscore = df_combined.iloc[ df_combined.index.get_level_values(1)== score_stat].droplevel(1)\n",
    "    \n",
    "    _dir_PredScores = os.path.join(_dir_tables, \"PredictiveScores\" )\n",
    "    os.makedirs(_dir_PredScores, exist_ok=True)\n",
    "    df_statscore.to_latex( buf= os.path.join(_dir_PredScores, score_stat+\".tex\"),  float_format=\"{:0.3f}\".format, caption=f\"{score_stat}\")\n",
    "\n",
    "    y = [ list(filter(lambda x: np.isfinite(x), train_set_scores)) for train_set_scores in df_statscore.to_numpy().tolist() ]\n",
    "    y = functools.reduce( operator.iconcat, y, [])\n",
    "\n",
    "    treatment_groups = df_statscore.index.values\n",
    "    name_mapping = {\n",
    "        \"1979_1986_1988-12-31\":\"M1\",\n",
    "        \"1989_1996_1998-12-31\":\"M2\",\n",
    "        \"1999_2006_2008-12-31\":\"M3\",\n",
    "        \"2009_2016_2018-12-31\":\"M4\"\n",
    "    }\n",
    "    treatment_groups_renamed = [name_mapping[x] for x in treatment_groups]\n",
    "    x = np.repeat( treatment_groups_renamed, len(y)//len(treatment_groups_renamed) )\n",
    "\n",
    "    MultiComp = MultiComparison(y,x)\n",
    "    _tukeyres = MultiComp.tukeyhsd().summary()\n",
    "    print(score_stat)\n",
    "    #print(_tukeyres,\"\\n\\n\")\n",
    "    \n",
    "    _dir_tukeyHSD = os.path.join(_dir_tables, \"TukeyHSD\")\n",
    "    os.makedirs(_dir_tukeyHSD, exist_ok=True)\n",
    "    with open( os.path.join(_dir_tukeyHSD ,score_stat+\".tex\"), \"w\" ) as txt_file:\n",
    "        _str = _tukeyres.as_latex_tabular(float_format=\"{:0.3f}\".format, caption=f\"{score_stat}\")\n",
    "        txt_file.write(_str)"
   ]
  },
  {
   "cell_type": "markdown",
   "metadata": {
    "heading_collapsed": true
   },
   "source": [
    "# Forecasting Range Evaluation Experiment"
   ]
  },
  {
   "cell_type": "code",
   "execution_count": 58,
   "metadata": {
    "ExecuteTime": {
     "end_time": "2020-08-03T08:11:17.830546Z",
     "start_time": "2020-08-03T08:11:15.907453Z"
    },
    "hidden": true
   },
   "outputs": [
    {
     "name": "stdout",
     "output_type": "stream",
     "text": [
      "1998-01-01T00:00:00\n",
      "2019-06-19T00:00:00\n",
      "DatetimeIndex(['1998-01-01', '1999-01-01', '2000-01-01', '2001-01-01',\n",
      "               '2002-01-01', '2003-01-01', '2004-01-01', '2005-01-01',\n",
      "               '2006-01-01', '2007-01-01', '2008-01-01', '2009-01-01',\n",
      "               '2010-01-01', '2011-01-01', '2012-01-01', '2013-01-01',\n",
      "               '2014-01-01', '2015-01-01', '2016-01-01', '2017-01-01',\n",
      "               '2018-01-01', '2019-01-01'],\n",
      "              dtype='datetime64[ns]', freq='AS-JAN')\n"
     ]
    },
    {
     "data": {
      "image/png": "[encoded data removed]",
      "text/plain": [
       "<Figure size 432x288 with 1 Axes>"
      ]
     },
     "metadata": {
      "needs_background": "light"
     },
     "output_type": "display_data"
    },
    {
     "data": {
      "image/png": "[encoded data removed]",
      "text/plain": [
       "<Figure size 432x288 with 1 Axes>"
      ]
     },
     "metadata": {
      "needs_background": "light"
     },
     "output_type": "display_data"
    },
    {
     "data": {
      "image/png": "[encoded data removed]",
      "text/plain": [
       "<Figure size 432x288 with 1 Axes>"
      ]
     },
     "metadata": {
      "needs_background": "light"
     },
     "output_type": "display_data"
    }
   ],
   "source": [
    "fp = \"./Output/TRUNET_mc_dropout_Normal_True_Car_Lon_Gla_Bir_Lan_Man_Liv_Bra_Edi_Lee_Dub_Nor_Tru_New_Ply_Ban_All_train1979_1994_1998_test1998_2019-07-02__vdrop/Predictions/_regional.dat\"\n",
    "\n",
    "temp = {\"fp\": fp, \"stochastic\":False, 'distr_name':None, \"model_name\":\"TRU-NET CC Normal\"}   \n",
    "a = model_evaluation(temp, rolling_annual=True )    "
   ]
  },
  {
   "cell_type": "markdown",
   "metadata": {},
   "source": [
    "# Multi Model: Correlations Evaluation"
   ]
  },
  {
   "cell_type": "code",
   "execution_count": 78,
   "metadata": {
    "ExecuteTime": {
     "end_time": "2020-08-06T20:57:48.355664Z",
     "start_time": "2020-08-06T20:57:47.994617Z"
    },
    "code_folding": []
   },
   "outputs": [
    {
     "name": "stdout",
     "output_type": "stream",
     "text": [
      "\n",
      "\n"
     ]
    },
    {
     "data": {
      "image/png": "[encoded data removed]",
      "text/plain": [
       "<Figure size 432x288 with 1 Axes>"
      ]
     },
     "metadata": {
      "needs_background": "light"
     },
     "output_type": "display_data"
    },
    {
     "name": "stdout",
     "output_type": "stream",
     "text": [
      "\n",
      "\n"
     ]
    },
    {
     "data": {
      "image/png": "[encoded data removed]",
      "text/plain": [
       "<Figure size 432x288 with 1 Axes>"
      ]
     },
     "metadata": {
      "needs_background": "light"
     },
     "output_type": "display_data"
    },
    {
     "name": "stdout",
     "output_type": "stream",
     "text": [
      "\n",
      "\n"
     ]
    },
    {
     "ename": "ValueError",
     "evalue": "Invalid File passed",
     "output_type": "error",
     "traceback": [
      "\u001b[0;31m---------------------------------------------------------------------------\u001b[0m",
      "\u001b[0;31mValueError\u001b[0m                                Traceback (most recent call last)",
      "\u001b[0;32m<ipython-input-78-9eb149680b14>\u001b[0m in \u001b[0;36m<module>\u001b[0;34m\u001b[0m\n\u001b[1;32m      7\u001b[0m     \u001b[0mprint\u001b[0m\u001b[0;34m(\u001b[0m\u001b[0;34m\"\\n\"\u001b[0m\u001b[0;34m)\u001b[0m\u001b[0;34m\u001b[0m\u001b[0;34m\u001b[0m\u001b[0m\n\u001b[1;32m      8\u001b[0m \u001b[0;34m\u001b[0m\u001b[0m\n\u001b[0;32m----> 9\u001b[0;31m     \u001b[0mauto_correllation_plots\u001b[0m\u001b[0;34m(\u001b[0m \u001b[0mtemp\u001b[0m\u001b[0;34m,\u001b[0m \u001b[0mcity\u001b[0m\u001b[0;34m,\u001b[0m \u001b[0merrors\u001b[0m\u001b[0;34m=\u001b[0m\u001b[0;32mFalse\u001b[0m \u001b[0;34m)\u001b[0m\u001b[0;34m\u001b[0m\u001b[0;34m\u001b[0m\u001b[0m\n\u001b[0m",
      "\u001b[0;32m<ipython-input-64-ffe02dbb8542>\u001b[0m in \u001b[0;36mauto_correllation_plots\u001b[0;34m(datformation, city, errors)\u001b[0m\n\u001b[1;32m    381\u001b[0m     \u001b[0mprediction_path\u001b[0m\u001b[0;34m,\u001b[0m \u001b[0mdistr_name\u001b[0m\u001b[0;34m,\u001b[0m \u001b[0mmname\u001b[0m \u001b[0;34m=\u001b[0m \u001b[0minit_helper\u001b[0m\u001b[0;34m(\u001b[0m\u001b[0mdatformation\u001b[0m\u001b[0;34m)\u001b[0m\u001b[0;34m\u001b[0m\u001b[0;34m\u001b[0m\u001b[0m\n\u001b[1;32m    382\u001b[0m \u001b[0;34m\u001b[0m\u001b[0m\n\u001b[0;32m--> 383\u001b[0;31m     \u001b[0mtimestamps\u001b[0m\u001b[0;34m,\u001b[0m \u001b[0mtruevalues\u001b[0m\u001b[0;34m,\u001b[0m \u001b[0mpreds\u001b[0m \u001b[0;34m=\u001b[0m \u001b[0mget_data\u001b[0m\u001b[0;34m(\u001b[0m\u001b[0mprediction_path\u001b[0m\u001b[0;34m)\u001b[0m\u001b[0;34m\u001b[0m\u001b[0;34m\u001b[0m\u001b[0m\n\u001b[0m\u001b[1;32m    384\u001b[0m \u001b[0;34m\u001b[0m\u001b[0m\n\u001b[1;32m    385\u001b[0m     \u001b[0;31m#TODO: fix naming scheme for this series\u001b[0m\u001b[0;34m\u001b[0m\u001b[0;34m\u001b[0m\u001b[0;34m\u001b[0m\u001b[0m\n",
      "\u001b[0;32m<ipython-input-64-ffe02dbb8542>\u001b[0m in \u001b[0;36mget_data\u001b[0;34m(prediction_path, multiple_files)\u001b[0m\n\u001b[1;32m     87\u001b[0m     \u001b[0;31m#return timestamps, truevalues, preds\u001b[0m\u001b[0;34m\u001b[0m\u001b[0;34m\u001b[0m\u001b[0;34m\u001b[0m\u001b[0m\n\u001b[1;32m     88\u001b[0m \u001b[0;34m\u001b[0m\u001b[0m\n\u001b[0;32m---> 89\u001b[0;31m     \u001b[0mli_data\u001b[0m \u001b[0;34m=\u001b[0m \u001b[0mlist\u001b[0m\u001b[0;34m(\u001b[0m\u001b[0mload_predictions_gen\u001b[0m\u001b[0;34m(\u001b[0m\u001b[0mprediction_path\u001b[0m\u001b[0;34m)\u001b[0m\u001b[0;34m)\u001b[0m\u001b[0;34m\u001b[0m\u001b[0;34m\u001b[0m\u001b[0m\n\u001b[0m\u001b[1;32m     90\u001b[0m     \u001b[0mli_ts_tv_ps\u001b[0m \u001b[0;34m=\u001b[0m \u001b[0;34m[\u001b[0m\u001b[0;34m]\u001b[0m\u001b[0;34m\u001b[0m\u001b[0;34m\u001b[0m\u001b[0m\n\u001b[1;32m     91\u001b[0m \u001b[0;34m\u001b[0m\u001b[0m\n",
      "\u001b[0;32m<ipython-input-1-89e206ca7116>\u001b[0m in \u001b[0;36mload_predictions_gen\u001b[0;34m(_path_pred)\u001b[0m\n\u001b[1;32m     43\u001b[0m \u001b[0;34m\u001b[0m\u001b[0m\n\u001b[1;32m     44\u001b[0m     \u001b[0;32melse\u001b[0m\u001b[0;34m:\u001b[0m\u001b[0;34m\u001b[0m\u001b[0;34m\u001b[0m\u001b[0m\n\u001b[0;32m---> 45\u001b[0;31m         \u001b[0;32mraise\u001b[0m \u001b[0mValueError\u001b[0m\u001b[0;34m(\u001b[0m\u001b[0;34m\"Invalid File passed\"\u001b[0m\u001b[0;34m)\u001b[0m\u001b[0;34m\u001b[0m\u001b[0;34m\u001b[0m\u001b[0m\n\u001b[0m\u001b[1;32m     46\u001b[0m \u001b[0;34m\u001b[0m\u001b[0m\n\u001b[1;32m     47\u001b[0m     \u001b[0mli_pred_fns\u001b[0m\u001b[0;34m.\u001b[0m\u001b[0msort\u001b[0m\u001b[0;34m(\u001b[0m\u001b[0;34m)\u001b[0m\u001b[0;34m\u001b[0m\u001b[0;34m\u001b[0m\u001b[0m\n",
      "\u001b[0;31mValueError\u001b[0m: Invalid File passed"
     ]
    }
   ],
   "source": [
    "#auto-correlation for point predictions for center point of cities\n",
    "\n",
    "cities = [\"Cardiff\",\"London\",\"Birmingham\",\"Glasgow\",\"Manchester\"]\n",
    "for city in cities:\n",
    "    #temp = {\"fp\": f\"./Output/THST_mc_dropout_Normal_True__{city}_train1979_2007_2007_2013_test2014_2019-07-02/Predictions/local.dat\", \"stochastic\":True, 'distr_name':\"Normal\", \"model_name\":\"TRU-NET CC Normal\"}   \n",
    "    temp = {\"fp\": f\"./Output/TRUNET_mc_dropout_Normal_True_Car_Lon_Gla_Bir_Lan_Man_Liv_Bra_Edi_Lee_Dub_Nor_Tru_New_Ply_Ban_{city}_train1979_2009_2014_test2014_2019-07-02_/Predictions/local.dat\", \"stochastic\":True, 'distr_name':\"Normal\", \"model_name\":\"TRU-NET CC Normal\"}   \n",
    "    print(\"\\n\")\n",
    "    \n",
    "    auto_correllation_plots( temp, city, errors=False )"
   ]
  },
  {
   "cell_type": "code",
   "execution_count": 77,
   "metadata": {
    "ExecuteTime": {
     "end_time": "2020-08-06T20:57:17.458141Z",
     "start_time": "2020-08-06T20:57:16.750329Z"
    },
    "code_folding": []
   },
   "outputs": [
    {
     "name": "stdout",
     "output_type": "stream",
     "text": [
      "\n",
      "\n",
      "\n",
      "\n",
      "\n",
      "\n",
      "\n",
      "\n",
      "\n",
      "\n",
      "\n",
      "\n"
     ]
    },
    {
     "data": {
      "image/png": "[encoded data removed]",
      "text/plain": [
       "<Figure size 432x288 with 1 Axes>"
      ]
     },
     "metadata": {
      "needs_background": "light"
     },
     "output_type": "display_data"
    }
   ],
   "source": [
    "#cross-correlation for predictions for center point of cities\n",
    "\n",
    "main_city_name = \"Leeds\"\n",
    "comparison_cities = [\"Bradford\",\"Manchester\",\"Liverpool\",\"Edinburgh\",\"London\",\"Cardiff\"]\n",
    "\n",
    "#main_city = {\"fp\": f\"./Output/THST_mc_dropout_Normal_True__{main_city_name}_train1979_2007_2007_2013_test2014_2019-07-02/Predictions/local.dat\", \"stochastic\":True, 'distr_name':\"Normal\", \"model_name\":\"TRU-NET CC Normal\"}   \n",
    "\n",
    "main_city = {\"fp\": f\"./Output/TRUNET_mc_dropout_Normal_True_Car_Lon_Gla_Bir_Lan_Man_Liv_Bra_Edi_Lee_Dub_Nor_Tru_New_Ply_Ban_{main_city_name}_train1979_2009_2014_test2014_2019-07-02_/Predictions/local.dat\", \"stochastic\":True, 'distr_name':\"Normal\", \"model_name\":\"TRU-NET CC Normal\"}\n",
    "\n",
    "main_city = {\"fp\": f\"./Output/TRUNET_mc_dropout_Normal_True_Car_Lon_Gla_Bir_Lan_Man_Liv_Bra_Edi_Lee_Dub_Nor_Tru_New_Ply_Ban_{main_city_name}_train1979_2009_2014_test2014_2019-07-02__vdrop/Predictions/local.dat\", \"stochastic\":True, 'distr_name':\"Normal\", \"model_name\":\"TRU-NET CC Normal\"}\n",
    "\n",
    "pd_acfl1 = pd.DataFrame(columns=comparison_cities)\n",
    "\n",
    "for city_name in comparison_cities:\n",
    "#    temp = {\"fp\": f\"./Output/THST_mc_dropout_Normal_True__{city_name}_train1979_2007_2007_2013_test2014_2019-07-02/Predictions/local.dat\", \"stochastic\":True, 'distr_name':\"Normal\", \"model_name\":\"TRU-NET CC Normal\"}   \n",
    "    temp = {\"fp\": f\"./Output/TRUNET_mc_dropout_Normal_True_Car_Lon_Gla_Bir_Lan_Man_Liv_Bra_Edi_Lee_Dub_Nor_Tru_New_Ply_Ban_{city_name}_train1979_2009_2014_test2014_2019-07-02_/Predictions/local.dat\", \"stochastic\":True, 'distr_name':\"Normal\", \"model_name\":\"TRU-NET CC Normal\"}   \n",
    "    #temp = {\"fp\": f\"./Output/TRUNET_mc_dropout_Normal_True_Car_Lon_Gla_Bir_Lan_Man_Liv_Bra_Edi_Lee_Dub_Nor_Tru_New_Ply_Ban_{city_name}_train1979_2009_2014_test2014_2019-07-02__vdrop/Predictions/local.dat\", \"stochastic\":True, 'distr_name':\"Normal\", \"model_name\":\"TRU-NET CC Normal\"}   \n",
    "    \n",
    "    print(\"\\n\")\n",
    "    lag0_acf, lag0_acf_observed  = cross_correllation_plots( [main_city,temp], [main_city_name, city_name] )\n",
    "    \n",
    "    pd_acfl1[city_name] = [lag0_acf, lag0_acf_observed]\n",
    "    \n",
    "pd_acfl1.index.name =\"Lag\"\n",
    "pd_acfl1 = pd_acfl1.set_index( pd.Index(['TRUNET-CC', 'Observed']) )\n",
    "plot_lag0_xcorrs = pd_acfl1.transpose().plot.line()\n",
    "plt.grid(True)\n",
    "plt.xlabel('City')\n",
    "plt.ylabel('Correlation co-eff')\n",
    "plt.title(f'Lag 0 XCF with Leeds as base city')\n",
    "_dir = \"Output/Experiments/cross_corr/figures\"\n",
    "os.makedirs(_dir,exist_ok=True)\n",
    "\n",
    "plt.savefig( os.path.join( _dir, f\"Xcorr_lag0_{main_city_name}.png\") )\n",
    "plt.show()\n",
    "plt.close()\n",
    "\n",
    "# pd_acfl1.to_latex( buf=os.path.dirname(main_city['fp'])+\"/x_corr_preds_table.tex\",  float_format=\"{:0.3f}\".format, caption=f\"Lag 0 Cross Corellation for {main_city['model_name']} point predictions for {main_city_name} and {city_name}. \\\n",
    "#                         {main_city['model_name']} was trained on data \\\n",
    "#                \"            between 1979 and 2013 and tested on the relevant $7.1 {{\\\\times}} 10^3$ $\\mathrm{{km}}^2$ regions between 2014 and 2019-07\".replace(\"_\",\"\\-\"))"
   ]
  },
  {
   "cell_type": "markdown",
   "metadata": {
    "heading_collapsed": true
   },
   "source": [
    "# Single Model: Decade by Decade Evaluation"
   ]
  },
  {
   "cell_type": "code",
   "execution_count": null,
   "metadata": {
    "ExecuteTime": {
     "end_time": "2020-06-18T13:19:30.564691Z",
     "start_time": "2020-06-18T13:19:30.460410Z"
    },
    "code_folding": [
     0
    ],
    "hidden": true
   },
   "outputs": [],
   "source": [
    "#decade by decade\n",
    "cities = [\"Cardiff\",\"London\",\"Birmingham\",\"Glasgow\",\"Manchester\"]\n",
    "for city in cities:\n",
    "    temp = {\"fp\": f\"./THST_mc_dropout_Normal_True__{city}_train1979_1995_1995_2000_test2000_2019-07-02/Predictions/_regional.dat\", \"stochastic\":True, 'distr_name':\"Normal\", \"model_name\":\"TRU-NET CC Normal\"}    \n",
    "    decade_by_decade_eval( temp, city )\n",
    "    print(\"\\n\")"
   ]
  },
  {
   "cell_type": "markdown",
   "metadata": {
    "ExecuteTime": {
     "end_time": "2020-07-16T00:09:18.034743Z",
     "start_time": "2020-07-16T00:09:18.029632Z"
    },
    "heading_collapsed": true
   },
   "source": [
    "# Scatter Plots: Comparing Predictions to Observations"
   ]
  },
  {
   "cell_type": "code",
   "execution_count": null,
   "metadata": {
    "ExecuteTime": {
     "end_time": "2020-07-24T12:22:10.024808Z",
     "start_time": "2020-07-24T12:22:03.401221Z"
    },
    "hidden": true
   },
   "outputs": [],
   "source": [
    "#temp = {\"fp\": f\"Output/TRUNET_mc_dropout_Normal_True_Car_Lon_Gla_Bir_Lan_Man_Liv_Bra_Edi_Lee_Dub_Nor_Tru_New_Ply_Ban_All_train1979_2009_2014_test2014_2019-07-02_/Predictions/\", 'distr_name':None, \"model_name\":\"TNET-CC\"}\n",
    "temp = {\"fp\": f\"Output/ERA5/preds/All_2014_2019-06-11_pred.dat\", 'distr_name':None, \"model_name\":\"ERA5\"}\n",
    "scatter_plot(temp, threshold=-1)"
   ]
  },
  {
   "cell_type": "code",
   "execution_count": null,
   "metadata": {
    "ExecuteTime": {
     "end_time": "2020-07-24T12:22:20.185701Z",
     "start_time": "2020-07-24T12:22:13.740555Z"
    },
    "hidden": true
   },
   "outputs": [],
   "source": [
    "temp = {\"fp\": f\"Output/TRUNET_mc_dropout_Normal_True_Car_Lon_Gla_Bir_Lan_Man_Liv_Bra_Edi_Lee_Dub_Nor_Tru_New_Ply_Ban_All_train1979_2009_2014_test2014_2019-07-02_/Predictions/\", 'distr_name':None, \"model_name\":\"TNET-CC\"}\n",
    "#temp = {\"fp\": f\"Output/ERA5/preds/All_2014_2019-06-11_pred.dat\", 'distr_name':None, \"model_name\":\"ERA5\"}\n",
    "scatter_plot(temp, threshold=-1)"
   ]
  }
 ],
 "metadata": {
  "kernelspec": {
   "display_name": "Python 3",
   "language": "python",
   "name": "python3"
  },
  "language_info": {
   "codemirror_mode": {
    "name": "ipython",
    "version": 3
   },
   "file_extension": ".py",
   "mimetype": "text/x-python",
   "name": "python",
   "nbconvert_exporter": "python",
   "pygments_lexer": "ipython3",
   "version": "3.7.5"
  },
  "varInspector": {
   "cols": {
    "lenName": 16,
    "lenType": 16,
    "lenVar": 40
   },
   "kernels_config": {
    "python": {
     "delete_cmd_postfix": "",
     "delete_cmd_prefix": "del ",
     "library": "var_list.py",
     "varRefreshCmd": "print(var_dic_list())"
    },
    "r": {
     "delete_cmd_postfix": ") ",
     "delete_cmd_prefix": "rm(",
     "library": "var_list.r",
     "varRefreshCmd": "cat(var_dic_list()) "
    }
   },
   "types_to_exclude": [
    "module",
    "function",
    "builtin_function_or_method",
    "instance",
    "_Feature"
   ],
   "window_display": false
  }
 },
 "nbformat": 4,
 "nbformat_minor": 2
}
