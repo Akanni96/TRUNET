{
 "cells": [
  {
   "cell_type": "code",
   "execution_count": 2,
   "metadata": {
    "ExecuteTime": {
     "end_time": "2020-06-16T10:29:18.318531Z",
     "start_time": "2020-06-16T10:29:18.311831Z"
    }
   },
   "outputs": [
    {
     "name": "stdout",
     "output_type": "stream",
     "text": [
      "The line_profiler extension is already loaded. To reload it, use:\n",
      "  %reload_ext line_profiler\n"
     ]
    },
    {
     "data": {
      "text/html": [
       "<style>.container { width:100% !important; }</style>"
      ],
      "text/plain": [
       "<IPython.core.display.HTML object>"
      ]
     },
     "metadata": {},
     "output_type": "display_data"
    }
   ],
   "source": [
    "#import tensorflow as tf\n",
    "from IPython.core.display import display, HTML\n",
    "%load_ext line_profiler\n",
    "display(HTML(\"<style>.container { width:100% !important; }</style>\") )\n",
    "import numpy as np\n",
    "import netCDF4\n",
    "from netCDF4 import Dataset, num2date\n",
    "import xarray as xr\n",
    "#import data_generators\n",
    "import time\n",
    "import pygrib\n",
    "import pickle\n",
    "from scipy import interpolate\n",
    "import matplotlib.pyplot as plt\n",
    "#from mpl_toolkits import basemap\n",
    "# import xarray as xr\n",
    "# import cfgrib\n",
    "# import pygrib\n",
    "\n",
    "\n",
    "fn_mf = \"Data/Rain_Data_Mar20/ana_input_intrp_linear.nc\"\n",
    "fn_rain_Nov = \"Data/Rain_Data_Nov19/rr_ens_mean_0.1deg_reg_v20.0e_197901-201907_uk.nc\"\n",
    "fn_rain_Mar = \"Data/Rain_Data_Mar20/rr_ens_mean_0.1deg_reg_v20.0e_197901-201907_uk.nc\"\n",
    "\n",
    "#fn  = \"/home/u1862646/ATI/BNN/Data/Rain_Data_Nov19/rr_ens_mean_0.1deg_reg_v20.0e_197901-201907_uk.nc\" \n",
    "\n",
    "def ts_mkr( tss ):\n",
    "    x = [ time.strftime(\"%H:%M %d/%m/%y\", time.localtime(int(_val))) for _val in tss]\n",
    "    return x"
   ]
  },
  {
   "cell_type": "markdown",
   "metadata": {
    "ExecuteTime": {
     "end_time": "2020-04-21T13:22:42.656815Z",
     "start_time": "2020-04-21T13:22:42.655160Z"
    },
    "heading_collapsed": true
   },
   "source": [
    "# Making New netcdf4 file that follows old format"
   ]
  },
  {
   "cell_type": "markdown",
   "metadata": {
    "ExecuteTime": {
     "end_time": "2020-04-21T12:04:14.177423Z",
     "start_time": "2020-04-21T12:04:14.175573Z"
    },
    "heading_collapsed": true,
    "hidden": true
   },
   "source": [
    "## Netcd4 file making"
   ]
  },
  {
   "cell_type": "code",
   "execution_count": null,
   "metadata": {
    "ExecuteTime": {
     "end_time": "2020-05-04T21:32:55.123715Z",
     "start_time": "2020-05-04T21:32:55.120086Z"
    },
    "hidden": true
   },
   "outputs": [],
   "source": [
    "ds_new = Dataset( 'Data/Rain_Data_Mar20/ana_input.nc','r', format=\"NETCDF4\")"
   ]
  },
  {
   "cell_type": "code",
   "execution_count": null,
   "metadata": {
    "ExecuteTime": {
     "end_time": "2020-04-23T00:16:08.201625Z",
     "start_time": "2020-04-23T00:16:08.194002Z"
    },
    "hidden": true
   },
   "outputs": [],
   "source": [
    "a = ds_new.variables['time'][0].data"
   ]
  },
  {
   "cell_type": "code",
   "execution_count": null,
   "metadata": {
    "ExecuteTime": {
     "end_time": "2020-04-23T00:16:18.644638Z",
     "start_time": "2020-04-23T00:16:18.635897Z"
    },
    "hidden": true
   },
   "outputs": [],
   "source": [
    "a+1"
   ]
  },
  {
   "cell_type": "code",
   "execution_count": null,
   "metadata": {
    "ExecuteTime": {
     "end_time": "2020-04-22T22:07:30.999564Z",
     "start_time": "2020-04-22T22:07:29.795389Z"
    },
    "hidden": true
   },
   "outputs": [],
   "source": [
    "ds_autoconv = Dataset( 'Data/Rain_Data_Mar20/archive/ana_cpdn_combined.nc', \"r+\", format=\"NETCDF4\" ) #The dataset made by using cdo to convert from grib to cdf, this is missing the geopotential file\n",
    "ds_old = Dataset( 'Data/Rain_Data_Nov19/ana_input.nc', \"r\", format=\"NETCDF4\" ) #The dataset used in nov19 folder for model field data\n",
    "ds_new = Dataset( 'Data/Rain_Data_Mar20/ana_input_new.nc','w', format=\"NETCDF4\")\n",
    "\n",
    "print( \"AutoConv keys:{}\".format(ds_autoconv.variables.keys()))\n",
    "print( \"Old keys:{}\".format(ds_old.variables.keys()))\n",
    "\n",
    "#Creating new Dimensions\n",
    "ds_new.createDimension('time', 59900)\n",
    "ds_new.createDimension('latitude', 20)\n",
    "ds_new.createDimension('longitude', 21)\n",
    "\n",
    "#formatting all variables to conform with old dataset\n",
    "\n",
    "#geopotential\n",
    "    # Adding new Geopotential Data\n",
    "geo_data = pickle.load(open(\"Data/Rain_Data_Mar20/archive/geopotential.np\",\"rb\")  )\n",
    "ds_new.createVariable('geopotential','float64', dimensions=('time', 'latitude', 'longitude'), fill_value=9.969209968386869e+36 )\n",
    "ds_new.variables['geopotential'][:] = geo_data\n",
    "\n",
    "ds_new.variables['geopotential'].standard_name = \"geopotential\"\n",
    "ds_new.variables['geopotential'].long_name = \"geopotential\"\n",
    "ds_new.variables['geopotential'].units = \"m2 s-2\"\n",
    "ds_new.variables['geopotential'].grid_mapping = \"latitude_longitude\"\n",
    "\n",
    "del geo_data\n",
    "\n",
    "#y_wind\n",
    "ds_new.createVariable('y_wind', 'float64', dimensions=('time', 'latitude', 'longitude'), fill_value=9.969209968386869e+36  )\n",
    "ds_new.variables['y_wind'].standard_name = \"y_wind\"\n",
    "ds_new.variables['y_wind'].long_name = \"y_wind\"\n",
    "ds_new.variables['y_wind'].units = \"m s-1\"\n",
    "ds_new.variables['y_wind'][:] =  ds_autoconv.variables['v'][:]\n",
    "\n",
    "#x_wind\n",
    "ds_new.createVariable('x_wind', 'float64', dimensions=('time', 'latitude', 'longitude'), fill_value=9.969209968386869e+36 )\n",
    "ds_new.variables['x_wind'].standard_name = \"x_wind\"\n",
    "ds_new.variables['x_wind'].long_name = \"x_wind\"\n",
    "ds_new.variables['x_wind'].units = \"m s-1\"\n",
    "ds_new.variables['x_wind'][:] =  ds_autoconv.variables['u'][:]\n",
    "\n",
    "#time\n",
    "ds_new.createVariable('time', 'float64', dimensions=('time'), fill_value=9.969209968386869e+36)\n",
    "ds_new.variables['time'].axis = \"T\"\n",
    "ds_new.variables['time'].units =\"hours since 1970-01-01 00:00:00\"\n",
    "ds_new.variables['time'].standard_name = \"time\"\n",
    "ds_new.variables['time'].calendar = \"gregorian\"\n",
    "ds_new.variables['time'][:] =  ds_autoconv.variables['time'][:]\n",
    "\n",
    "#latitude\n",
    "ds_new.createVariable('latitude', 'float64', dimensions=('latitude'), fill_value=9.969209968386869e+36 )\n",
    "ds_new.variables['latitude'].axis = \"Y\"\n",
    "ds_new.variables['latitude'].units = \"Degrees North\"\n",
    "ds_new.variables['latitude'].standard_name = \"latitude\"\n",
    "ds_new.variables['latitude'][:] = ds_autoconv.variables['latitude'][:]\n",
    "\n",
    "#longitude\n",
    "ds_new.createVariable('longitude', 'float64', dimensions=('longitude'), fill_value=9.969209968386869e+36)\n",
    "ds_new.variables['longitude'].axis = \"Y\"\n",
    "ds_new.variables['longitude'].units = \"Degrees East\"\n",
    "ds_new.variables['longitude'].standard_name = \"longitude\"\n",
    "ds_new.variables['longitude'][:] = ds_autoconv.variables['longitude'][:]\n",
    "\n",
    "\n",
    "#unknown_local_param_137_128 (total coloumn water vapour)\n",
    "ds_new.createVariable('unknown_local_param_137_128', 'float64', dimensions=('time', 'latitude', 'longitude'), fill_value=9.969209968386869e+36)\n",
    "ds_new.variables['unknown_local_param_137_128'].standard_name = \"total coloumn water vapour\" \n",
    "ds_new.variables['unknown_local_param_137_128'][:] = ds_autoconv.variables['tcwv'][:]\n",
    "\n",
    "\n",
    "#unknown_local_param_133_128 (specific humidity)\n",
    "ds_new.createVariable('unknown_local_param_133_128', 'float64', dimensions= ('time', 'latitude', 'longitude'), fill_value=9.969209968386869e+36 )\n",
    "ds_new.variables['unknown_local_param_133_128'].standard_name = \"specific humidity\"\n",
    "ds_new.variables['unknown_local_param_133_128'][:] = ds_autoconv.variables['q'][:]\n",
    "\n",
    "#air_temperature\n",
    "ds_new.createVariable('air_temperature','float64', dimensions= ('time', 'latitude', 'longitude'), fill_value=9.969209968386869e+36 )\n",
    "ds_new.variables['air_temperature'].units = \"K\"\n",
    "ds_new.variables['air_temperature'][:] = ds_autoconv.variables['t'][:]\n",
    "\n",
    "ds_new.close()"
   ]
  },
  {
   "cell_type": "markdown",
   "metadata": {
    "heading_collapsed": true
   },
   "source": [
    "# Data Inspection"
   ]
  },
  {
   "cell_type": "code",
   "execution_count": null,
   "metadata": {
    "ExecuteTime": {
     "end_time": "2020-02-24T17:11:32.509217Z",
     "start_time": "2020-02-24T17:10:54.965502Z"
    },
    "hidden": true
   },
   "outputs": [],
   "source": [
    "#ATI Means for variables\n",
    "vars_for_feature = ['unknown_local_param_137_128', 'unknown_local_param_133_128', 'air_temperature', 'geopotential', 'x_wind', 'y_wind' ]\n",
    "with Dataset(fn_mf, \"r\", format=\"NETCDF4\") as f:\n",
    "    for idx, name in enumerate(vars_for_feature):\n",
    "        _dat = f.variables[name][:]\n",
    "        print( name)\n",
    "        print(\"mean\",\"\\t\",_dat.mean() )\n",
    "        print(\"max\",\"\\t\",_dat.max() )\n",
    "        print(\"min\",\"\\t\",_dat.min() )\n",
    "        print(\"\\n\")\n",
    "with Dataset(fn_rain, \"r\", format=\"NETCDF4\") as f:\n",
    "    _dat = f.variables[\"rr\"][:]\n",
    "    print( \"rain\")\n",
    "    print(\"mean\",\"\\t\",_dat.mean() )\n",
    "    print(\"max\",\"\\t\",_dat.max() )\n",
    "    print(\"min\",\"\\t\",_dat.min() )\n",
    "    print(\"\\n\")"
   ]
  },
  {
   "cell_type": "code",
   "execution_count": null,
   "metadata": {
    "ExecuteTime": {
     "end_time": "2020-02-29T10:48:51.715025Z",
     "start_time": "2020-02-29T10:48:51.675054Z"
    },
    "hidden": true
   },
   "outputs": [],
   "source": [
    "with Dataset(fn_mf, \"r\", format=\"NETCDF4\") as f1:\n",
    "    _data_mf = f1.variables[\"time\"][:]\n",
    "    starting_time_mf = _data_mf[0]\n",
    "#     a = f.variables['longitude'][:]\n",
    "#     b = f.variables['latitude'][:]\n",
    "\n",
    "with Dataset(fn_rain, \"r\", format=\"NETCDF4\") as f2:\n",
    "    _data_r = f2.variables[\"time\"][:]\n",
    "    starting_time_r = _data_r[0]\n",
    "#     a = f.variables['longitude'][:]\n",
    "#     b = f.variables['latitude'][:]"
   ]
  },
  {
   "cell_type": "code",
   "execution_count": null,
   "metadata": {
    "ExecuteTime": {
     "end_time": "2020-02-29T11:23:49.124483Z",
     "start_time": "2020-02-29T11:23:49.096518Z"
    },
    "hidden": true
   },
   "outputs": [],
   "source": [
    "print(starting_time_mf)\n",
    "print(starting_time_r)\n",
    "\n",
    "#\"\"\"Rain starts 10592 days after 1950-01-01:00:00:00 \"\"\"\n",
    "#\"\"\"MF starts hours since 1979-01-01:00:\"\"\""
   ]
  },
  {
   "cell_type": "code",
   "execution_count": null,
   "metadata": {
    "ExecuteTime": {
     "end_time": "2020-02-29T11:48:38.322317Z",
     "start_time": "2020-02-29T11:48:38.314369Z"
    },
    "hidden": true
   },
   "outputs": [],
   "source": [
    "_data_mf[0]2"
   ]
  },
  {
   "cell_type": "code",
   "execution_count": null,
   "metadata": {
    "ExecuteTime": {
     "end_time": "2020-02-29T11:50:09.253629Z",
     "start_time": "2020-02-29T11:50:09.245641Z"
    },
    "hidden": true
   },
   "outputs": [],
   "source": [
    "np.alltrue((_data_r[1:] - _data_r[:-1])==1)"
   ]
  },
  {
   "cell_type": "code",
   "execution_count": null,
   "metadata": {
    "ExecuteTime": {
     "end_time": "2020-02-29T10:52:07.053454Z",
     "start_time": "2020-02-29T10:52:07.045464Z"
    },
    "hidden": true
   },
   "outputs": [],
   "source": [
    "time_length = 4\n",
    "print( ts_mkr(_data_mf[:time_length*4]) )\n",
    "print( ts_mkr(_data_r[:time_length]) )"
   ]
  },
  {
   "cell_type": "code",
   "execution_count": null,
   "metadata": {
    "ExecuteTime": {
     "end_time": "2020-02-29T10:49:28.131648Z",
     "start_time": "2020-02-29T10:49:28.123663Z"
    },
    "hidden": true
   },
   "outputs": [],
   "source": [
    "_data_r[:100]"
   ]
  },
  {
   "cell_type": "code",
   "execution_count": null,
   "metadata": {
    "ExecuteTime": {
     "end_time": "2020-02-29T10:46:36.113346Z",
     "start_time": "2020-02-29T10:46:36.089377Z"
    },
    "hidden": true,
    "scrolled": true
   },
   "outputs": [],
   "source": [
    "_data_mf[:8]"
   ]
  },
  {
   "cell_type": "code",
   "execution_count": null,
   "metadata": {
    "ExecuteTime": {
     "end_time": "2020-02-24T18:24:02.185370Z",
     "start_time": "2020-02-24T18:24:01.939749Z"
    },
    "hidden": true
   },
   "outputs": [],
   "source": [
    "import matplotlib.pyplot as plt\n",
    "import numpy as np\n",
    "\n",
    "def heatmap2d(arr: np.ndarray):\n",
    "    plt.imshow(arr, cmap='viridis')\n",
    "    plt.colorbar()\n",
    "    plt.show()\n",
    "    \n",
    "heatmap2d(_data[1500, :,:])"
   ]
  },
  {
   "cell_type": "code",
   "execution_count": null,
   "metadata": {
    "ExecuteTime": {
     "end_time": "2020-02-24T17:56:13.260856Z",
     "start_time": "2020-02-24T17:56:13.253869Z"
    },
    "hidden": true
   },
   "outputs": [],
   "source": [
    "start_idx = 10500\n",
    "_data[start_idx:start_idx+100,70,102]\n",
    "_data[start_idx,70,102]"
   ]
  },
  {
   "cell_type": "code",
   "execution_count": null,
   "metadata": {
    "ExecuteTime": {
     "end_time": "2020-02-24T18:23:50.181095Z",
     "start_time": "2020-02-24T18:23:50.173119Z"
    },
    "hidden": true
   },
   "outputs": [],
   "source": [
    "ds_rain.find_idx_of_city(\"London\")"
   ]
  },
  {
   "cell_type": "code",
   "execution_count": null,
   "metadata": {
    "ExecuteTime": {
     "end_time": "2020-02-24T17:44:21.849107Z",
     "start_time": "2020-02-24T17:44:21.840133Z"
    },
    "hidden": true
   },
   "outputs": [],
   "source": [
    "ds_mf = data_generators.Generator_mf(fn = fn_mf)\n",
    "#ds_gen = ds_mf()\n",
    "#ds_gen_tf = tf.data.Dataset.from_generator( ds_mf, output_types=(tf.float32, tf.bool) )\n",
    "#ds_gen_tf = ds_gen_tf = ds_gen_tf.batch(100)\n",
    "#ds_gen_tf_iter = iter(ds_gen_tf)\n"
   ]
  },
  {
   "cell_type": "code",
   "execution_count": null,
   "metadata": {
    "ExecuteTime": {
     "end_time": "2020-02-24T10:34:43.074626Z",
     "start_time": "2020-02-24T10:34:43.048739Z"
    },
    "hidden": true
   },
   "outputs": [],
   "source": [
    "a = next(ds_gen)"
   ]
  },
  {
   "cell_type": "code",
   "execution_count": null,
   "metadata": {
    "ExecuteTime": {
     "end_time": "2020-02-24T10:34:45.424357Z",
     "start_time": "2020-02-24T10:34:45.394428Z"
    },
    "hidden": true
   },
   "outputs": [],
   "source": [
    "a[1].shape\n"
   ]
  },
  {
   "cell_type": "code",
   "execution_count": null,
   "metadata": {
    "ExecuteTime": {
     "end_time": "2020-02-24T10:37:11.111174Z",
     "start_time": "2020-02-24T10:37:10.632609Z"
    },
    "hidden": true
   },
   "outputs": [],
   "source": [
    "next(ds_gen_tf_iter)"
   ]
  },
  {
   "cell_type": "code",
   "execution_count": null,
   "metadata": {
    "ExecuteTime": {
     "end_time": "2020-02-24T18:23:45.747026Z",
     "start_time": "2020-02-24T18:23:45.539582Z"
    },
    "hidden": true
   },
   "outputs": [],
   "source": [
    "ds_rain = data_generators.Generator_rain(fn = fn_rain)\n",
    "ds_rain_gen = ds_rain()\n",
    "ds_rain_gen_tf = tf.data.Dataset.from_generator( ds_rain, output_types=(tf.float32, tf.bool) )\n",
    "ds_rain_gen_tf = ds_gen_tf = ds_rain_gen_tf.batch(100)\n",
    "ds_rain_gen_tf_iter = iter(ds_gen_tf)"
   ]
  },
  {
   "cell_type": "markdown",
   "metadata": {
    "heading_collapsed": true
   },
   "source": [
    "# Testing Shermans new data extraction methods\n"
   ]
  },
  {
   "cell_type": "markdown",
   "metadata": {
    "heading_collapsed": true,
    "hidden": true
   },
   "source": [
    "## Rain "
   ]
  },
  {
   "cell_type": "code",
   "execution_count": null,
   "metadata": {
    "ExecuteTime": {
     "end_time": "2020-05-18T08:30:04.247079Z",
     "start_time": "2020-05-18T08:30:04.238083Z"
    },
    "hidden": true
   },
   "outputs": [],
   "source": [
    "dataset_rain = Dataset(fn_rain_Mar, \"r\", format=\"NETCDF4\")\n",
    "rain = dataset_rain.variables\n",
    "#print(dataset_rain.__doc__)"
   ]
  },
  {
   "cell_type": "code",
   "execution_count": null,
   "metadata": {
    "ExecuteTime": {
     "end_time": "2020-05-18T08:32:25.999314Z",
     "start_time": "2020-05-18T08:32:25.988961Z"
    },
    "hidden": true
   },
   "outputs": [],
   "source": [
    "rain"
   ]
  },
  {
   "cell_type": "code",
   "execution_count": null,
   "metadata": {
    "ExecuteTime": {
     "end_time": "2020-05-18T08:32:09.272492Z",
     "start_time": "2020-05-18T08:32:09.258912Z"
    },
    "hidden": true
   },
   "outputs": [],
   "source": [
    "rain['latitude'][:]"
   ]
  },
  {
   "cell_type": "code",
   "execution_count": null,
   "metadata": {
    "ExecuteTime": {
     "end_time": "2020-05-18T08:31:58.477935Z",
     "start_time": "2020-05-18T08:31:58.472801Z"
    },
    "hidden": true
   },
   "outputs": [],
   "source": [
    "rain['longitude'][:]"
   ]
  },
  {
   "cell_type": "code",
   "execution_count": null,
   "metadata": {
    "ExecuteTime": {
     "end_time": "2020-01-15T12:08:00.031686Z",
     "start_time": "2020-01-15T12:08:00.026156Z"
    },
    "hidden": true
   },
   "outputs": [],
   "source": [
    "#data is an ordered dict\n",
    "#loop through the keys and print it\n",
    "print(\"The name of the variables are:\")\n",
    "for key in data_rain.keys():\n",
    "    print(key)\n",
    "print()\n"
   ]
  },
  {
   "cell_type": "code",
   "execution_count": null,
   "metadata": {
    "ExecuteTime": {
     "end_time": "2020-01-15T12:08:18.836436Z",
     "start_time": "2020-01-15T12:08:18.829063Z"
    },
    "hidden": true
   },
   "outputs": [],
   "source": [
    "#print each item in dat\n",
    "print(\"For each of the variables, here are the properties:\\n\")\n",
    "for key, value in data_rain.items():\n",
    "    print(\"Variable: \" + key)\n",
    "    print(value)\n",
    "    print()"
   ]
  },
  {
   "cell_type": "code",
   "execution_count": null,
   "metadata": {
    "ExecuteTime": {
     "end_time": "2020-01-15T16:24:54.296958Z",
     "start_time": "2020-01-15T16:24:54.293438Z"
    },
    "hidden": true
   },
   "outputs": [],
   "source": [
    "a = data_rain['rr'][1000].mask\n",
    "np.count_nonzero(a)/np.size(a)"
   ]
  },
  {
   "cell_type": "code",
   "execution_count": null,
   "metadata": {
    "ExecuteTime": {
     "end_time": "2020-01-15T16:24:19.521095Z",
     "start_time": "2020-01-15T16:24:19.515202Z"
    },
    "hidden": true
   },
   "outputs": [],
   "source": [
    "np.argwhere(a=False)"
   ]
  },
  {
   "cell_type": "code",
   "execution_count": null,
   "metadata": {
    "ExecuteTime": {
     "end_time": "2020-01-16T02:44:42.150574Z",
     "start_time": "2020-01-16T02:44:39.956850Z"
    },
    "hidden": true
   },
   "outputs": [],
   "source": [
    "np.asarray( data['rr'] ).shape"
   ]
  },
  {
   "cell_type": "code",
   "execution_count": null,
   "metadata": {
    "ExecuteTime": {
     "end_time": "2020-01-15T16:59:14.926628Z",
     "start_time": "2020-01-15T16:59:14.923298Z"
    },
    "hidden": true
   },
   "outputs": [],
   "source": [
    "data['time'][:20]"
   ]
  },
  {
   "cell_type": "markdown",
   "metadata": {
    "ExecuteTime": {
     "end_time": "2020-01-15T12:40:49.883669Z",
     "start_time": "2020-01-15T12:40:49.881822Z"
    },
    "heading_collapsed": true,
    "hidden": true
   },
   "source": [
    "## model fields"
   ]
  },
  {
   "cell_type": "code",
   "execution_count": null,
   "metadata": {
    "ExecuteTime": {
     "end_time": "2020-01-16T02:19:37.020296Z",
     "start_time": "2020-01-16T02:19:37.007514Z"
    },
    "hidden": true
   },
   "outputs": [],
   "source": [
    "mf_dataset = Dataset(fn_mf, \"r\", format=\"NETCDF4\")\n",
    "mf_data = mf_dataset.variables"
   ]
  },
  {
   "cell_type": "code",
   "execution_count": null,
   "metadata": {
    "ExecuteTime": {
     "end_time": "2020-01-15T12:59:36.444761Z",
     "start_time": "2020-01-15T12:59:36.441304Z"
    },
    "hidden": true
   },
   "outputs": [],
   "source": [
    "#data is an ordered dict\n",
    "#loop through the keys and print it\n",
    "print(\"The name of the variables are:\")\n",
    "for key in mf_data.keys():\n",
    "    print(key)\n",
    "print()\n"
   ]
  },
  {
   "cell_type": "code",
   "execution_count": null,
   "metadata": {
    "ExecuteTime": {
     "end_time": "2020-01-15T13:04:41.910232Z",
     "start_time": "2020-01-15T13:04:41.904190Z"
    },
    "hidden": true
   },
   "outputs": [],
   "source": [
    "#print each item in dat\n",
    "print(\"For each of the variables, here are the properties:\\n\")\n",
    "for key, value in mf_data.items():\n",
    "    print(\"Variable: \" + key)\n",
    "    print(value)\n",
    "    print()"
   ]
  },
  {
   "cell_type": "code",
   "execution_count": null,
   "metadata": {
    "ExecuteTime": {
     "end_time": "2020-01-16T02:44:29.825785Z",
     "start_time": "2020-01-16T02:44:29.816885Z"
    },
    "hidden": true
   },
   "outputs": [],
   "source": [
    "mf_data['air_temperature'].shape"
   ]
  },
  {
   "cell_type": "code",
   "execution_count": null,
   "metadata": {
    "hidden": true
   },
   "outputs": [],
   "source": []
  },
  {
   "cell_type": "markdown",
   "metadata": {},
   "source": [
    "# Testing Data Generators"
   ]
  },
  {
   "cell_type": "markdown",
   "metadata": {
    "ExecuteTime": {
     "end_time": "2020-01-15T12:49:18.118723Z",
     "start_time": "2020-01-15T12:49:18.117020Z"
    }
   },
   "source": [
    "## model field generator"
   ]
  },
  {
   "cell_type": "code",
   "execution_count": 7,
   "metadata": {
    "ExecuteTime": {
     "end_time": "2020-06-16T10:31:51.477516Z",
     "start_time": "2020-06-16T10:31:51.470033Z"
    }
   },
   "outputs": [],
   "source": [
    "xr_gn = xr.open_dataset(fn_mf) #, decode_times=False, decode_cf=False, decode_coords=False,lock=True, mask_and_scale=False)\n",
    "times = xr_gn['time'].values\n",
    "vars_for_feature = ['unknown_local_param_137_128', 'unknown_local_param_133_128', 'air_temperature', 'geopotential', 'x_wind', 'y_wind' ]"
   ]
  },
  {
   "cell_type": "code",
   "execution_count": null,
   "metadata": {
    "ExecuteTime": {
     "end_time": "2020-06-16T06:12:47.994215Z",
     "start_time": "2020-06-16T06:12:47.986210Z"
    },
    "code_folding": [
     0
    ]
   },
   "outputs": [],
   "source": [
    "def Gen3():\n",
    "    \n",
    "    xr_gn = xr.open_dataset(fn_mf, cache=False, decode_times=False)\n",
    "    \n",
    "    vars_for_feature = ['unknown_local_param_137_128', 'unknown_local_param_133_128', 'air_temperature', 'geopotential', 'x_wind', 'y_wind' ]\n",
    "    \n",
    "    #xr_g = xr.concat( [xr_gn[name] for name in vars_for_feature], 'c' )\n",
    "    #xr_g = xr_g.transpose('time','latitude','longitude','c')\n",
    "    \n",
    "    arr_idxs = np.arange(1000)\n",
    "    idx = 0\n",
    "    \n",
    "    while idx +1 < 1000:\n",
    "        idxs = arr_idxs[idx:idx+100] \n",
    "        \n",
    "        next_marray = [ xr_gn[name].isel(time=idxs).to_masked_array() for name in vars_for_feature ]\n",
    "        \n",
    "        list_datamask = [(np.ma.getdata(_mar), np.ma.getmask(_mar) ) for _mar in next_marray]\n",
    "        \n",
    "        \n",
    "        _data, _masks = list(zip(*list_datamask))\n",
    "        _masks = [ np.logical_not(_mask_val) for _mask_val in _masks] \n",
    "        #_masks = [ np.full(_data[0].shape, np.logical_not(_mask_val), dtype=bool) for _mask_val in _masks] \n",
    "        stacked_data = np.stack(_data, axis=-1)\n",
    "        stacked_masks = np.stack(_masks, axis=-1)\n",
    "\n",
    "        yield stacked_data[ :, 1:-2, 2:-2, :], stacked_masks[:, 1:-2 , 2:-2, :] #(100,140,6) \n",
    "\n",
    "        idx += 100\n",
    "        "
   ]
  },
  {
   "cell_type": "code",
   "execution_count": null,
   "metadata": {
    "ExecuteTime": {
     "end_time": "2020-06-16T06:12:49.645521Z",
     "start_time": "2020-06-16T06:12:49.641634Z"
    }
   },
   "outputs": [],
   "source": [
    "gen3 = Gen3()"
   ]
  },
  {
   "cell_type": "code",
   "execution_count": null,
   "metadata": {
    "ExecuteTime": {
     "end_time": "2020-06-16T06:13:04.328839Z",
     "start_time": "2020-06-16T06:12:51.044404Z"
    }
   },
   "outputs": [],
   "source": [
    "bop = next(gen3)\n",
    "bop[0].shape"
   ]
  },
  {
   "cell_type": "code",
   "execution_count": null,
   "metadata": {
    "ExecuteTime": {
     "end_time": "2020-06-16T10:00:11.139686Z",
     "start_time": "2020-06-16T09:59:29.053215Z"
    }
   },
   "outputs": [],
   "source": [
    "xr_gn['x_wind'].values"
   ]
  },
  {
   "cell_type": "code",
   "execution_count": null,
   "metadata": {
    "ExecuteTime": {
     "end_time": "2020-06-16T10:01:05.310955Z",
     "start_time": "2020-06-16T10:01:05.287750Z"
    }
   },
   "outputs": [],
   "source": [
    "xr_gn['x_wind'].to_array()"
   ]
  },
  {
   "cell_type": "code",
   "execution_count": 8,
   "metadata": {
    "ExecuteTime": {
     "end_time": "2020-06-16T10:31:57.717180Z",
     "start_time": "2020-06-16T10:31:57.712918Z"
    }
   },
   "outputs": [],
   "source": [
    "def test(n=125):\n",
    "#     a =[ xr_gn[name].sel(time=times[2:125]) for name in vars_for_feature ]\n",
    "#     b =[xr_gn[name].sel(time=slice(times[2], times[125]) ) for name in vars_for_feature ]\n",
    "#     c= [xr_gn[name].isel( time=np.arange(2,125) ) for name in vars_for_feature ]\n",
    "    d =[xr_gn[name].isel( time=slice(2,125) ) for name in vars_for_feature ]\n",
    "    \n",
    "#     a =[ xr_gn[name].sel(time=times[2:125]).to_masked_array(copy=False) for name in vars_for_feature ]\n",
    "#     b =[xr_gn[name].sel(time=slice(times[2], times[125]) ).to_masked_array(copy=False) for name in vars_for_feature ]\n",
    "#     c= [xr_gn[name].isel( time=np.arange(2,125) ).to_masked_array(copy=False) for name in vars_for_feature ]\n",
    "    d =[xr_gn[name].isel( time=slice(2,125) ).to_masked_array(copy=False) for name in vars_for_feature ]\n",
    "    \n",
    "    xr_gn_slice = xr_gn.isel( time=slice(2,125) )\n",
    "    a = [xr_gn_slice[name] for name in vars_for_feature]\n",
    "    a = [xr_gn_slice[name].to_masked_array() for name in vars_for_feature]\n",
    "    \n",
    "    xr_gn_slice1 = xr_gn.isel( time=slice(2,125) ).load()\n",
    "    a = [xr_gn_slice1[name] for name in vars_for_feature]\n",
    "    a = [xr_gn_slice1[name].to_masked_array() for name in vars_for_feature]\n",
    "        \n",
    "    \n",
    "    return True"
   ]
  },
  {
   "cell_type": "code",
   "execution_count": 9,
   "metadata": {
    "ExecuteTime": {
     "end_time": "2020-06-16T10:32:40.989880Z",
     "start_time": "2020-06-16T10:32:01.648325Z"
    }
   },
   "outputs": [],
   "source": [
    "%lprun -f test test(100)"
   ]
  },
  {
   "cell_type": "markdown",
   "metadata": {
    "heading_collapsed": true
   },
   "source": [
    "# Fixing mismatch in size of Feature and Target in Nov Data"
   ]
  },
  {
   "cell_type": "code",
   "execution_count": null,
   "metadata": {
    "ExecuteTime": {
     "end_time": "2020-04-26T15:27:30.815197Z",
     "start_time": "2020-04-26T15:27:30.802553Z"
    },
    "hidden": true
   },
   "outputs": [],
   "source": [
    "rain_lat = data_rain['latitude'] #100\n",
    "rain_lon = data_rain['longitude'] #140\n",
    "\n",
    "mf_latlon = mf_data['latitude_longitude']\n",
    "mf_lat = mf_data['latitude'] #103\n",
    "mf_lon = mf_data['longitude'] #144"
   ]
  },
  {
   "cell_type": "code",
   "execution_count": null,
   "metadata": {
    "ExecuteTime": {
     "end_time": "2020-01-16T02:23:36.861767Z",
     "start_time": "2020-01-16T02:23:36.841793Z"
    },
    "hidden": true
   },
   "outputs": [],
   "source": [
    "rain_lat[:]"
   ]
  },
  {
   "cell_type": "code",
   "execution_count": null,
   "metadata": {
    "ExecuteTime": {
     "end_time": "2020-01-16T02:25:18.849324Z",
     "start_time": "2020-01-16T02:25:18.835755Z"
    },
    "hidden": true
   },
   "outputs": [],
   "source": [
    "mf_lat[::-1]"
   ]
  },
  {
   "cell_type": "code",
   "execution_count": null,
   "metadata": {
    "ExecuteTime": {
     "end_time": "2020-01-16T02:29:51.291775Z",
     "start_time": "2020-01-16T02:29:51.276790Z"
    },
    "hidden": true
   },
   "outputs": [],
   "source": [
    "#Latitude transformation \n",
    "mf_lat[::-1][1:-2] - rain_lat[:]"
   ]
  },
  {
   "cell_type": "code",
   "execution_count": null,
   "metadata": {
    "ExecuteTime": {
     "end_time": "2020-01-16T02:46:21.233957Z",
     "start_time": "2020-01-16T02:46:21.218198Z"
    },
    "hidden": true
   },
   "outputs": [],
   "source": [
    "mf_lat[-2:1:-1] - rain_lat[:]"
   ]
  },
  {
   "cell_type": "code",
   "execution_count": null,
   "metadata": {
    "ExecuteTime": {
     "end_time": "2020-01-16T02:30:23.082766Z",
     "start_time": "2020-01-16T02:30:23.064851Z"
    },
    "hidden": true
   },
   "outputs": [],
   "source": [
    "rain_lon[:]"
   ]
  },
  {
   "cell_type": "code",
   "execution_count": null,
   "metadata": {
    "ExecuteTime": {
     "end_time": "2020-01-16T02:30:35.998199Z",
     "start_time": "2020-01-16T02:30:35.985291Z"
    },
    "hidden": true
   },
   "outputs": [],
   "source": [
    "mf_lon[:]"
   ]
  },
  {
   "cell_type": "code",
   "execution_count": null,
   "metadata": {
    "ExecuteTime": {
     "end_time": "2020-01-16T02:33:41.599239Z",
     "start_time": "2020-01-16T02:33:41.583911Z"
    },
    "hidden": true
   },
   "outputs": [],
   "source": [
    "rain_lon[:] - mf_lon[2:-2]"
   ]
  },
  {
   "cell_type": "markdown",
   "metadata": {
    "heading_collapsed": true
   },
   "source": [
    "# Fixing mismatch in size/location of Feature and Target in March Data"
   ]
  },
  {
   "cell_type": "code",
   "execution_count": null,
   "metadata": {
    "hidden": true
   },
   "outputs": [],
   "source": []
  },
  {
   "cell_type": "code",
   "execution_count": null,
   "metadata": {
    "ExecuteTime": {
     "end_time": "2020-04-26T15:28:08.013705Z",
     "start_time": "2020-04-26T15:28:08.009291Z"
    },
    "hidden": true
   },
   "outputs": [],
   "source": [
    "ds_mf_new = Dataset( 'Data/Rain_Data_Mar20/ana_input.nc','r', format=\"NETCDF4\")\n",
    "ds_rain = Dataset(fn_rain_Mar, \"r\", format=\"NETCDF4\")"
   ]
  },
  {
   "cell_type": "code",
   "execution_count": null,
   "metadata": {
    "ExecuteTime": {
     "end_time": "2020-04-26T15:28:09.594639Z",
     "start_time": "2020-04-26T15:28:09.586826Z"
    },
    "hidden": true
   },
   "outputs": [],
   "source": [
    "rain_lat = ds_rain.variables['latitude'] #100\n",
    "rain_lon = ds_rain.variables['longitude'] #140\n",
    "\n",
    "mf_lat = ds_mf_new.variables['latitude'] #20 --> 18\n",
    "mf_lon = ds_mf_new.variables['longitude'] #21 --> 18"
   ]
  },
  {
   "cell_type": "markdown",
   "metadata": {
    "hidden": true
   },
   "source": [
    "## Latitude"
   ]
  },
  {
   "cell_type": "code",
   "execution_count": null,
   "metadata": {
    "ExecuteTime": {
     "end_time": "2020-04-26T15:28:42.651189Z",
     "start_time": "2020-04-26T15:28:42.647455Z"
    },
    "hidden": true
   },
   "outputs": [],
   "source": [
    "rain_lat[::6]"
   ]
  },
  {
   "cell_type": "code",
   "execution_count": null,
   "metadata": {
    "ExecuteTime": {
     "end_time": "2020-04-26T15:30:51.247496Z",
     "start_time": "2020-04-26T15:30:51.240157Z"
    },
    "hidden": true
   },
   "outputs": [],
   "source": [
    "mf_lat[-2:1:-1]"
   ]
  },
  {
   "cell_type": "code",
   "execution_count": null,
   "metadata": {
    "ExecuteTime": {
     "end_time": "2020-04-26T15:29:40.726880Z",
     "start_time": "2020-04-26T15:29:40.723175Z"
    },
    "hidden": true
   },
   "outputs": [],
   "source": [
    "#Latitude transformation \n",
    "rain_lat[::6]-mf_lat[-2:1:-1]"
   ]
  },
  {
   "cell_type": "markdown",
   "metadata": {
    "ExecuteTime": {
     "end_time": "2020-04-22T14:39:53.100681Z",
     "start_time": "2020-04-22T14:39:53.095814Z"
    },
    "heading_collapsed": true,
    "hidden": true
   },
   "source": [
    "## Longitude"
   ]
  },
  {
   "cell_type": "code",
   "execution_count": null,
   "metadata": {
    "ExecuteTime": {
     "end_time": "2020-04-26T15:31:54.608791Z",
     "start_time": "2020-04-26T15:31:54.605264Z"
    },
    "hidden": true
   },
   "outputs": [],
   "source": [
    "rain_lon[::8]"
   ]
  },
  {
   "cell_type": "code",
   "execution_count": null,
   "metadata": {
    "ExecuteTime": {
     "end_time": "2020-04-26T15:31:56.472550Z",
     "start_time": "2020-04-26T15:31:56.468871Z"
    },
    "hidden": true
   },
   "outputs": [],
   "source": [
    "mf_lon[2:-1]"
   ]
  },
  {
   "cell_type": "code",
   "execution_count": null,
   "metadata": {
    "ExecuteTime": {
     "end_time": "2020-04-26T15:34:21.269709Z",
     "start_time": "2020-04-26T15:34:21.262284Z"
    },
    "hidden": true
   },
   "outputs": [],
   "source": [
    "( rain_lon[::8] - mf_lon[2:-1] ).mean()"
   ]
  },
  {
   "cell_type": "code",
   "execution_count": null,
   "metadata": {
    "ExecuteTime": {
     "end_time": "2020-04-26T15:34:13.191574Z",
     "start_time": "2020-04-26T15:34:13.186046Z"
    },
    "hidden": true
   },
   "outputs": [],
   "source": [
    "(rain_lon[::8]  - mf_lon[1:-2] ).mean()"
   ]
  },
  {
   "cell_type": "code",
   "execution_count": null,
   "metadata": {
    "ExecuteTime": {
     "end_time": "2020-04-26T15:37:58.703015Z",
     "start_time": "2020-04-26T15:37:58.699081Z"
    },
    "hidden": true
   },
   "outputs": [],
   "source": [
    "rain_lon[::8] - mf_lon[2:-3]"
   ]
  },
  {
   "cell_type": "markdown",
   "metadata": {
    "ExecuteTime": {
     "end_time": "2020-05-01T15:00:10.633672Z",
     "start_time": "2020-05-01T15:00:10.631729Z"
    },
    "heading_collapsed": true
   },
   "source": [
    "# Interpolating New Coarse Model Field Data"
   ]
  },
  {
   "cell_type": "markdown",
   "metadata": {
    "ExecuteTime": {
     "end_time": "2020-05-01T15:00:41.149066Z",
     "start_time": "2020-05-01T15:00:41.147388Z"
    },
    "hidden": true
   },
   "source": [
    "## Seeing if new coarse model field data aligns to old fine model field data"
   ]
  },
  {
   "cell_type": "code",
   "execution_count": null,
   "metadata": {
    "ExecuteTime": {
     "end_time": "2020-05-06T09:43:49.566426Z",
     "start_time": "2020-05-06T09:43:49.516353Z"
    },
    "hidden": true
   },
   "outputs": [],
   "source": [
    "ds_rain = Dataset(fn_rain_Nov,'r',format=\"NETCDF4\")\n",
    "ds_mf_old = Dataset('Data/Rain_Data_Nov19/ana_input.nc','r',format=\"NETCDF4\")\n",
    "ds_mf_new = Dataset( 'Data/Rain_Data_Mar20/ana_input_intrp_linear.nc','r', format=\"NETCDF4\")"
   ]
  },
  {
   "cell_type": "code",
   "execution_count": null,
   "metadata": {
    "ExecuteTime": {
     "end_time": "2020-05-06T09:43:56.288159Z",
     "start_time": "2020-05-06T09:43:56.285434Z"
    },
    "hidden": true
   },
   "outputs": [],
   "source": [
    "rain_lat = ds_rain['latitude']\n",
    "rain_lon = ds_rain['longitude']\n",
    "\n",
    "old_mf_lat = ds_mf_old['latitude']\n",
    "old_mf_lon  = ds_mf_old['longitude']\n",
    "\n",
    "new_mf_lat = ds_mf_new['latitude']\n",
    "new_mf_lon = ds_mf_new['longitude']"
   ]
  },
  {
   "cell_type": "code",
   "execution_count": null,
   "metadata": {
    "ExecuteTime": {
     "end_time": "2020-05-06T10:05:39.701007Z",
     "start_time": "2020-05-06T10:05:39.695502Z"
    },
    "hidden": true
   },
   "outputs": [],
   "source": [
    "rain_lat[::-1] - new_mf_lat[1:-2]"
   ]
  },
  {
   "cell_type": "code",
   "execution_count": null,
   "metadata": {
    "ExecuteTime": {
     "end_time": "2020-05-06T10:12:00.913411Z",
     "start_time": "2020-05-06T10:12:00.908699Z"
    },
    "hidden": true,
    "scrolled": true
   },
   "outputs": [],
   "source": [
    "rain_lon[:] - new_mf_lon[2:-2]"
   ]
  },
  {
   "cell_type": "code",
   "execution_count": null,
   "metadata": {
    "ExecuteTime": {
     "end_time": "2020-05-06T10:11:47.931318Z",
     "start_time": "2020-05-06T10:11:47.925330Z"
    },
    "hidden": true,
    "scrolled": true
   },
   "outputs": [],
   "source": [
    "rain_lon[:] - old_mf_lon[2:-2]"
   ]
  },
  {
   "cell_type": "code",
   "execution_count": null,
   "metadata": {
    "ExecuteTime": {
     "end_time": "2020-05-06T09:48:42.811904Z",
     "start_time": "2020-05-06T09:48:42.808732Z"
    },
    "hidden": true
   },
   "outputs": [],
   "source": [
    "ds_mf_new.dimensions\n"
   ]
  },
  {
   "cell_type": "code",
   "execution_count": null,
   "metadata": {
    "ExecuteTime": {
     "end_time": "2020-05-06T10:04:25.215288Z",
     "start_time": "2020-05-06T10:04:22.865590Z"
    },
    "hidden": true
   },
   "outputs": [],
   "source": [
    "ds_mf_new.variables['geopotential'][0].shape"
   ]
  },
  {
   "cell_type": "markdown",
   "metadata": {
    "ExecuteTime": {
     "end_time": "2020-05-02T14:34:22.204386Z",
     "start_time": "2020-05-02T14:34:22.202535Z"
    },
    "heading_collapsed": true
   },
   "source": [
    "# Making Interpolated Datasets"
   ]
  },
  {
   "cell_type": "code",
   "execution_count": null,
   "metadata": {
    "ExecuteTime": {
     "end_time": "2020-05-02T18:22:39.364698Z",
     "start_time": "2020-05-02T18:22:39.334042Z"
    },
    "hidden": true
   },
   "outputs": [],
   "source": [
    "ds_mf_new_linear_intrp = Dataset( 'Data/Rain_Data_Mar20/ana_input_intrp_bilinear.nc','w', format=\"NETCDF4\")\n",
    "ds_mf_new_cubic_intrp = Dataset( 'Data/Rain_Data_Mar20/ana_input_intrp_cubic.nc','w', format=\"NETCDF4\")\n",
    "ds_mf_old = Dataset('Data/Rain_Data_Nov19/ana_input.nc','r',format=\"NETCDF4\")\n",
    "ds_mf_new = Dataset( 'Data/Rain_Data_Mar20/ana_input.nc','r', format=\"NETCDF4\")\n",
    "\n",
    "# Getting new finer interpolation points\n",
    "old_mf_lat = ds_mf_old['latitude']\n",
    "old_mf_lon  = ds_mf_old['longitude']\n",
    "lats_intrp, lons_intrp  = np.meshgrid( old_mf_lat[:].data, old_mf_lon[:].data)\n",
    "\n",
    "# Getting old coarse interpoaltion poitns\n",
    "orig_mf_lat = ds_mf_new.variables['latitude']\n",
    "orig_mf_lon = ds_mf_new.variables['longitude']\n",
    "lats_orig, lons_orig = np.meshgrid(orig_mf_lat[:].data,  orig_mf_lon[:].data)"
   ]
  },
  {
   "cell_type": "code",
   "execution_count": null,
   "metadata": {
    "ExecuteTime": {
     "end_time": "2020-05-01T18:32:23.910993Z",
     "start_time": "2020-05-01T18:32:23.901905Z"
    },
    "hidden": true
   },
   "outputs": [],
   "source": [
    "ds_mf_new_linear_intrp = Dataset( 'Data/Rain_Data_Mar20/ana_input_intrp_bilinear.nc','w', format=\"NETCDF4\")\n",
    "ds_mf_new_cubic_intrp = Dataset( 'Data/Rain_Data_Mar20/ana_input_intrp_cubic.nc','w', format=\"NETCDF4\")\n",
    "ds_mf_old = Dataset('Data/Rain_Data_Nov19/ana_input.nc','r',format=\"NETCDF4\")\n",
    "ds_mf_new = Dataset( 'Data/Rain_Data_Mar20/ana_input.nc','r', format=\"NETCDF4\")\n",
    "\n",
    "# Getting new finer interpolation points\n",
    "old_mf_lat = ds_mf_old['latitude']\n",
    "old_mf_lon  = ds_mf_old['longitude']\n",
    "lats_intrp, lons_intrp  = np.meshgrid( old_mf_lat[:].data, old_mf_lon[:].data)\n",
    "\n",
    "# Getting old coarse interpoaltion poitns\n",
    "orig_mf_lat = ds_mf_new['latitude']\n",
    "orig_mf_lon = ds_mf_new['longitude']\n",
    "lats_orig, lons_orig = np.meshgrid(orig_mf_lat.data[:],  orig_mf_lon[:].data)\n",
    "\n",
    "\n",
    "#Creating new Dimensions\n",
    "ds_mf_new_linear_intrp.createDimension('time', 59900)\n",
    "ds_mf_new_linear_intrp.createDimension('latitude', 103)\n",
    "ds_mf_new_linear_intrp.createDimension('longitude', 144)\n",
    "\n",
    "#Creating Variables\n",
    "    \n",
    "    #geopotential\n",
    "ds_mf_new_linear_intrp.createVariable('geopotential','float64', dimensions=('time', 'latitude', 'longitude'), fill_value=9.969209968386869e+36 , zlib=True, complevel=9 )\n",
    "ds_mf_new_linear_intrp.variables['geopotential'].standard_name = \"geopotential\"\n",
    "ds_mf_new_linear_intrp.variables['geopotential'].long_name = \"geopotential\"\n",
    "ds_mf_new_linear_intrp.variables['geopotential'].units = \"m2 s-2\"\n",
    "ds_mf_new_linear_intrp.variables['geopotential'].grid_mapping = \"latitude_longitude\"\n",
    "ds_mf_new_linear_intrp.variables['geopotential'][:] = manual_interpolater(ds_mf_new.variables['geopotential'][:].data,\n",
    "                                                                    (lats_orig, lons_orig) , (lats_intrp, lons_intrp),\n",
    "                                                                    method='linear')\n",
    "\n",
    "    #y_wind\n",
    "ds_mf_new_linear_intrp.createVariable('y_wind', 'float64', dimensions=('time', 'latitude', 'longitude'), fill_value=9.969209968386869e+36 , zlib=True, complevel=9 )\n",
    "ds_mf_new_linear_intrp.variables['y_wind'].standard_name = \"y_wind\"\n",
    "ds_mf_new_linear_intrp.variables['y_wind'].long_name = \"y_wind\"\n",
    "ds_mf_new_linear_intrp.variables['y_wind'].units = \"m s-1\"\n",
    "ds_mf_new_linear_intrp.variables['y_wind'][:] =  manual_interpolater(ds_mf_new.variables['y_wind'][:].data,\n",
    "                                                                    (lats_orig, lons_orig) , (lats_intrp, lons_intrp),\n",
    "                                                                    method='linear')\n",
    "    #x_wind\n",
    "ds_mf_new_linear_intrp.createVariable('x_wind', 'float64', dimensions=('time', 'latitude', 'longitude'), fill_value=9.969209968386869e+36 , zlib=True, complevel=9 )\n",
    "ds_mf_new_linear_intrp.variables['x_wind'].standard_name = \"x_wind\"\n",
    "ds_mf_new_linear_intrp.variables['x_wind'].long_name = \"x_wind\"\n",
    "ds_mf_new_linear_intrp.variables['x_wind'].units = \"m s-1\"\n",
    "ds_mf_new_linear_intrp.variables['x_wind'][:] =  manual_interpolater(ds_mf_new.variables['x_wind'][:].data,\n",
    "                                                                    (lats_orig, lons_orig) , (lats_intrp, lons_intrp),\n",
    "                                                                    method='linear')\n",
    "\n",
    "    #time\n",
    "ds_mf_new_linear_intrp.createVariable('time', 'float64', dimensions=('time'), fill_value=9.969209968386869e+36, zlib=True, complevel=9 )\n",
    "ds_mf_new_linear_intrp.variables['time'].axis = \"T\"\n",
    "ds_mf_new_linear_intrp.variables['time'].units =\"hours since 1970-01-01 00:00:00\"\n",
    "ds_mf_new_linear_intrp.variables['time'].standard_name = \"time\"\n",
    "ds_mf_new_linear_intrp.variables['time'].calendar = \"gregorian\"\n",
    "ds_mf_new_linear_intrp.variables['time'][:] =  ds_mf_new.variables['time'][:]\n",
    "\n",
    "\n",
    "\n",
    "    #latitude\n",
    "ds_mf_new_linear_intrp.createVariable('latitude', 'float64', dimensions=('latitude'), fill_value=9.969209968386869e+36, zlib=True, complevel=9  )\n",
    "ds_mf_new_linear_intrp.variables['latitude'].axis = \"Y\"\n",
    "ds_mf_new_linear_intrp.variables['latitude'].units = \"Degrees North\"\n",
    "ds_mf_new_linear_intrp.variables['latitude'].standard_name = \"latitude\"\n",
    "ds_mf_new_linear_intrp.variables['latitude'][:] = old_mf_lat\n",
    "\n",
    "\n",
    "    #longitude\n",
    "ds_mf_new_linear_intrp.createVariable('longitude', 'float64', dimensions=('longitude'), fill_value=9.969209968386869e+36, zlib=True, complevel=9 )\n",
    "ds_mf_new_linear_intrp.variables['longitude'].axis = \"Y\"\n",
    "ds_mf_new_linear_intrp.variables['longitude'].units = \"Degrees East\"\n",
    "ds_mf_new_linear_intrp.variables['longitude'].standard_name = \"longitude\"\n",
    "ds_mf_new_linear_intrp.variables['longitude'][:] = old_mf_lon\n",
    "\n",
    "\n",
    "#unknown_local_param_137_128 (total coloumn water vapour)\n",
    "ds_mf_new_linear_intrp.createVariable('unknown_local_param_137_128', 'float64', dimensions=('time', 'latitude', 'longitude'), fill_value=9.969209968386869e+36, zlib=True, complevel=9 )\n",
    "ds_mf_new_linear_intrp.variables['unknown_local_param_137_128'].standard_name = \"total coloumn water vapour\" \n",
    "ds_mf_new_linear_intrp.variables['unknown_local_param_137_128'][:] =  manual_interpolater(ds_mf_new.variables['unknown_local_param_137_128'][:].data,\n",
    "                                                                    (lats_orig, lons_orig) , (lats_intrp, lons_intrp),\n",
    "                                                                    method='linear')\n",
    "\n",
    "\n",
    "#unknown_local_param_133_128 (specific humidity)\n",
    "ds_mf_new_linear_intrp.createVariable('unknown_local_param_133_128', 'float64', dimensions= ('time', 'latitude', 'longitude'), fill_value=9.969209968386869e+36 , zlib=True, complevel=9 )\n",
    "ds_mf_new_linear_intrp.variables['unknown_local_param_133_128'].standard_name = \"specific humidity\"\n",
    "ds_mf_new_linear_intrp.variables['unknown_local_param_133_128'][:] = manual_interpolater(ds_mf_new.variables['unknown_local_param_133_128'][:].data,\n",
    "                                                                    (lats_orig, lons_orig) , (lats_intrp, lons_intrp),\n",
    "                                                                    method='linear')\n",
    "\n",
    "#air_temperature\n",
    "ds_mf_new_linear_intrp.createVariable('air_temperature','float64', dimensions= ('time', 'latitude', 'longitude'), fill_value=9.969209968386869e+36 , zlib=True, complevel=9 )\n",
    "ds_mf_new_linear_intrp.variables['air_temperature'].units = \"K\"\n",
    "ds_mf_new_linear_intrp.variables['air_temperature'][:] = manual_interpolater(ds_mf_new.variables['air_temperature'][:].data,\n",
    "                                                                    (lats_orig, lons_orig) , (lats_intrp, lons_intrp),\n",
    "                                                                    method='linear')\n",
    "\n",
    "ds_mf_new_linear_intrp.close()\n",
    "\n",
    "def manual_interpolater( data, old_latlon, new_latlon ,method='linear' ):\n",
    "    for i in range( len( data ) ):\n",
    "        data[i] = interpolate.griddata( points= old_latlon ,\n",
    "                                                        values=  ds_mf_new.variables['unknown_local_param_133_128'][:].data ,\n",
    "                                                        xi=new_latlon,\n",
    "                                                        method=method)\n",
    "    return data"
   ]
  },
  {
   "cell_type": "code",
   "execution_count": null,
   "metadata": {
    "ExecuteTime": {
     "end_time": "2020-05-02T14:29:25.164495Z",
     "start_time": "2020-05-02T14:29:25.159369Z"
    },
    "hidden": true
   },
   "outputs": [],
   "source": [
    "old_mf_lat = ds_mf_old['latitude']\n",
    "old_mf_lon  = ds_mf_old['longitude']\n",
    "\n",
    "interp_lat = old_mf_lat[:].data\n",
    "interp_lon = old_mf_lon[:].data\n",
    "\n",
    "lons_sub, lats_sub = np.meshgrid( interp_lat, interp_lon)\n"
   ]
  },
  {
   "cell_type": "code",
   "execution_count": null,
   "metadata": {
    "ExecuteTime": {
     "end_time": "2020-05-02T18:05:43.733637Z",
     "start_time": "2020-05-02T18:05:43.729651Z"
    },
    "hidden": true
   },
   "outputs": [],
   "source": [
    "old_mf_lat[:]"
   ]
  },
  {
   "cell_type": "code",
   "execution_count": null,
   "metadata": {
    "ExecuteTime": {
     "end_time": "2020-05-02T19:48:06.513778Z",
     "start_time": "2020-05-02T19:48:06.505170Z"
    },
    "hidden": true
   },
   "outputs": [],
   "source": [
    "intrp_mf_lat.shape"
   ]
  },
  {
   "cell_type": "code",
   "execution_count": null,
   "metadata": {
    "ExecuteTime": {
     "end_time": "2020-05-02T19:47:48.729786Z",
     "start_time": "2020-05-02T19:47:48.721211Z"
    },
    "hidden": true
   },
   "outputs": [],
   "source": [
    "intrp_mf_lon.shape"
   ]
  },
  {
   "cell_type": "code",
   "execution_count": null,
   "metadata": {
    "ExecuteTime": {
     "end_time": "2020-05-02T19:48:34.748435Z",
     "start_time": "2020-05-02T19:48:34.739787Z"
    },
    "hidden": true
   },
   "outputs": [],
   "source": [
    "orig_mf_lon.shape"
   ]
  },
  {
   "cell_type": "code",
   "execution_count": null,
   "metadata": {
    "ExecuteTime": {
     "end_time": "2020-05-02T19:48:32.452947Z",
     "start_time": "2020-05-02T19:48:32.444503Z"
    },
    "hidden": true
   },
   "outputs": [],
   "source": [
    "orig_mf_lat.shape"
   ]
  },
  {
   "cell_type": "code",
   "execution_count": null,
   "metadata": {
    "ExecuteTime": {
     "end_time": "2020-05-04T08:53:58.855051Z",
     "start_time": "2020-05-04T08:53:58.837445Z"
    },
    "hidden": true
   },
   "outputs": [],
   "source": [
    "# Getting new finer interpolation points\n",
    "intrp_mf_lat = ds_mf_old['latitude'][:].data\n",
    "intrp_mf_lon  = ds_mf_old['longitude'][:].data\n",
    "lat_intrp, lon_intrp   = np.meshgrid( intrp_mf_lat[:].data, intrp_mf_lon[:].data)\n",
    "latlon_intrp = ( lat_intrp, lon_intrp) #latlon_intrp = ( lon_intrp,lat_intrp)\n",
    "\n",
    "\n",
    "# Getting old coarse interpoaltion poitns\n",
    "orig_mf_lat = ds_mf_new.variables['latitude'][:].data\n",
    "orig_mf_lon = ds_mf_new.variables['longitude'][:].data\n",
    "lat_orig, lon_orig,  = np.meshgrid(orig_mf_lat[:].data,  orig_mf_lon[:].data)\n",
    "\n",
    "latlon_orig =(lat_orig.T, lon_orig.T) #latlon_orig =(lat_orig.flatten(), lon_orig.flatten()) #\n",
    "#latlon_orig =(lon_orig.flatten(),lat_orig.flatten())\n",
    "\n",
    "\n",
    "data = ds_mf_new.variables['air_temperature'][:1].data\n",
    "shape = [1, 103, 144]\n",
    "\n",
    "\n",
    "new_data = np.zeros( shape = shape )\n",
    "\n",
    "#assert (new_data.shape[0] == data.shape[0])\n",
    "for i in range( len( data ) ):\n",
    "    new_data[i] = ( interpolate.griddata( points= (lat_orig.T.flatten(), lon_orig.T.flatten()) ,\n",
    "                                                    values=data[i].flatten(),\n",
    "                                                    xi=latlon_intrp,\n",
    "                                                    method='cubic') ).T\n",
    "#     _lop = ( interpolate.griddata( points= (lat_orig.T.flatten(), lon_orig.T.flatten()) ,\n",
    "#                                                     values=data[i].flatten(),\n",
    "#                                                     xi=latlon_intrp,\n",
    "#                                                     method='linear') ).T"
   ]
  },
  {
   "cell_type": "code",
   "execution_count": null,
   "metadata": {
    "ExecuteTime": {
     "end_time": "2020-05-04T12:01:22.884808Z",
     "start_time": "2020-05-04T12:01:22.878464Z"
    },
    "hidden": true
   },
   "outputs": [],
   "source": [
    "ds_mf_new.variables['time']"
   ]
  },
  {
   "cell_type": "code",
   "execution_count": null,
   "metadata": {
    "ExecuteTime": {
     "end_time": "2020-05-03T13:00:01.989081Z",
     "start_time": "2020-05-03T13:00:01.986053Z"
    },
    "hidden": true
   },
   "outputs": [],
   "source": []
  },
  {
   "cell_type": "code",
   "execution_count": null,
   "metadata": {
    "ExecuteTime": {
     "end_time": "2020-05-03T13:02:33.604003Z",
     "start_time": "2020-05-03T13:02:33.483455Z"
    },
    "hidden": true
   },
   "outputs": [],
   "source": [
    "g = plt.contourf(*ds_mf_new.variables['air_temperature'][:1])"
   ]
  },
  {
   "cell_type": "code",
   "execution_count": null,
   "metadata": {
    "ExecuteTime": {
     "end_time": "2020-05-04T08:52:16.054717Z",
     "start_time": "2020-05-04T08:52:15.945496Z"
    },
    "hidden": true
   },
   "outputs": [],
   "source": [
    "i = plt.contourf(*new_data)"
   ]
  },
  {
   "cell_type": "code",
   "execution_count": null,
   "metadata": {
    "ExecuteTime": {
     "end_time": "2020-05-04T08:54:10.363007Z",
     "start_time": "2020-05-04T08:54:10.230025Z"
    },
    "hidden": true
   },
   "outputs": [],
   "source": [
    "i = plt.contourf(*new_data)"
   ]
  },
  {
   "cell_type": "code",
   "execution_count": null,
   "metadata": {
    "ExecuteTime": {
     "end_time": "2020-05-02T21:06:09.646197Z",
     "start_time": "2020-05-02T21:06:09.643709Z"
    },
    "hidden": true
   },
   "outputs": [],
   "source": [
    "plt.close()"
   ]
  },
  {
   "cell_type": "code",
   "execution_count": null,
   "metadata": {
    "ExecuteTime": {
     "end_time": "2020-05-03T12:50:37.076376Z",
     "start_time": "2020-05-03T12:50:37.067493Z"
    },
    "hidden": true
   },
   "outputs": [],
   "source": [
    "_lop.shape_"
   ]
  },
  {
   "cell_type": "markdown",
   "metadata": {
    "heading_collapsed": true
   },
   "source": [
    "# Topology data"
   ]
  },
  {
   "cell_type": "code",
   "execution_count": null,
   "metadata": {
    "ExecuteTime": {
     "end_time": "2020-05-04T18:54:21.045229Z",
     "start_time": "2020-05-04T18:54:21.043381Z"
    },
    "hidden": true
   },
   "outputs": [],
   "source": [
    "topology_path_linear = \"Data/Rain_Data_Mar20/ana_input_intrp_linear.nc\"\n",
    "topology_path_cubic = \"Data/Rain_Data_Mar20/ana_input_intrp_cubic.nc\""
   ]
  },
  {
   "cell_type": "code",
   "execution_count": null,
   "metadata": {
    "ExecuteTime": {
     "end_time": "2020-05-05T18:24:15.175340Z",
     "start_time": "2020-05-05T18:24:15.163290Z"
    },
    "hidden": true
   },
   "outputs": [],
   "source": [
    "ds_intrp_lin = Dataset( 'Data/Rain_Data_Mar20/ana_input_intrp_cubic.nc', \"r\", format=\"NETCDF4\" ) #The dataset made by using cdo to convert from grib to cdf, this is missing the geopotential file"
   ]
  },
  {
   "cell_type": "code",
   "execution_count": null,
   "metadata": {
    "ExecuteTime": {
     "end_time": "2020-05-05T18:26:48.768774Z",
     "start_time": "2020-05-05T18:24:16.275412Z"
    },
    "hidden": true
   },
   "outputs": [],
   "source": [
    "print(ds_intrp_lin.variables['unknown_local_param_137_128'][:].mean())\n",
    "print(ds_intrp_lin.variables['unknown_local_param_133_128'][:].mean())\n",
    "print(ds_intrp_lin.variables['air_temperature'][:].mean())\n",
    "print(ds_intrp_lin.variables['geopotential'][:].mean())\n",
    "print(ds_intrp_lin.variables['x_wind'][:].mean())\n",
    "print(ds_intrp_lin.variables['y_wind'][:].mean())"
   ]
  },
  {
   "cell_type": "code",
   "execution_count": null,
   "metadata": {
    "ExecuteTime": {
     "end_time": "2020-05-05T18:29:42.520596Z",
     "start_time": "2020-05-05T18:26:48.779706Z"
    },
    "hidden": true
   },
   "outputs": [],
   "source": [
    "print(ds_intrp_lin.variables['unknown_local_param_137_128'][:].std())\n",
    "print(ds_intrp_lin.variables['unknown_local_param_133_128'][:].std())\n",
    "print(ds_intrp_lin.variables['air_temperature'][:].std())\n",
    "print(ds_intrp_lin.variables['geopotential'][:].std())\n",
    "print(ds_intrp_lin.variables['x_wind'][:].std())\n",
    "print(ds_intrp_lin.variables['y_wind'][:].std())"
   ]
  },
  {
   "cell_type": "markdown",
   "metadata": {
    "heading_collapsed": true
   },
   "source": [
    "# IMPORTANT:::: Creating new Pickle files for IFS Preds Received on May 1st"
   ]
  },
  {
   "cell_type": "code",
   "execution_count": null,
   "metadata": {
    "ExecuteTime": {
     "end_time": "2020-06-10T08:59:07.346598Z",
     "start_time": "2020-06-10T08:59:07.336160Z"
    },
    "hidden": true
   },
   "outputs": [],
   "source": []
  },
  {
   "cell_type": "code",
   "execution_count": null,
   "metadata": {
    "hidden": true
   },
   "outputs": [],
   "source": [
    "import pygrib\n",
    "import pickle\n",
    "\n",
    "bnn_dir = \"/home/u1862646/BNN/\"\n",
    "data_dir = bnn_dir + \"/Data\"\n",
    "fn_1 = data_dir + \"/IFS_precip_preds/newgrib/ana_tp_4.grib\"\n",
    "grbs = pygrib.open( fn_1 )\n",
    "grb_n = grbs.read() #.keys()\n",
    "\n",
    "# grib_date_starts = np.array( [ np.datetime64('1979-01-02','D'), np.datetime64('1990-01-01','D') , np.datetime64('2000-01-01','D') , np.datetime64('2010-01-01','D'), np.datetime64('2019-08-31','D') ] ) #TODO: put in dates\n",
    "\n",
    "# orig_grib_date_ends = np.array( [ np.datetime64('1989-12-31','D'), np.datetime64('1999-12-31','D') , np.datetime64('2009-12-31','D') , np.datetime64('2019-08-31','D') ] ) #TODO: put in dates\n",
    "\n",
    "# new_grib_date_ends = np.array( [ np.datetime64('1988-12-31','D'), np.datetime64('1998-12-31','D') , np.datetime64('2008-12-31','D') , np.datetime64('2019-08-31','D') ] ) #TODO: put in dates\n",
    "\n",
    "# idx_cutoff = np.timedelta64(grib_date_starts[4] - grib_date_starts[3], '24h').astype(int)\n",
    "# print(idx_cutoff)\n",
    "\n",
    "_data = np.stack( [ _grib['values'] for _grib in grb_n ], axis=0)\n",
    "grbs.close()\n",
    "pickle.dump(_data, open(fn_1,\"wb\"), protocol=4 )\n",
    "\n"
   ]
  },
  {
   "cell_type": "code",
   "execution_count": null,
   "metadata": {
    "hidden": true
   },
   "outputs": [],
   "source": [
    "ds1 = pickle.load( open(data_dir + \"/IFS_precip_preds/newgrib/ana_tp_1.grib\",\"rb\") , )\n",
    "ds2 = pickle.load( open(data_dir + \"/IFS_precip_preds/newgrib/ana_tp_2.grib\",\"rb\") , )\n",
    "ds3 = pickle.load( open(data_dir + \"/IFS_precip_preds/newgrib/ana_tp_3.grib\",\"rb\") , )\n",
    "ds4 = pickle.load( open(data_dir + \"/IFS_precip_preds/newgrib/ana_tp_4.grib\",\"rb\") , )\n",
    "\n",
    "ds_comb = np.concatenate( [ds1, ds2,ds3,ds4], axis=0)\n",
    "pickle.dump(ds_comb, open(data_dir + \"/IFS_precip_preds/ana_tp_1234.grib\", \"wb\"), protocol=4)\n",
    "\n",
    "\n",
    "ds1.shape"
   ]
  }
 ],
 "metadata": {
  "kernelspec": {
   "display_name": "Python 3",
   "language": "python",
   "name": "python3"
  },
  "varInspector": {
   "cols": {
    "lenName": 16,
    "lenType": 16,
    "lenVar": 40
   },
   "kernels_config": {
    "python": {
     "delete_cmd_postfix": "",
     "delete_cmd_prefix": "del ",
     "library": "var_list.py",
     "varRefreshCmd": "print(var_dic_list())"
    },
    "r": {
     "delete_cmd_postfix": ") ",
     "delete_cmd_prefix": "rm(",
     "library": "var_list.r",
     "varRefreshCmd": "cat(var_dic_list()) "
    }
   },
   "types_to_exclude": [
    "module",
    "function",
    "builtin_function_or_method",
    "instance",
    "_Feature"
   ],
   "window_display": false
  }
 },
 "nbformat": 4,
 "nbformat_minor": 2
}
