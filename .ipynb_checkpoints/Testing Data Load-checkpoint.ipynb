{
 "cells": [
  {
   "cell_type": "code",
   "execution_count": 1,
   "metadata": {
    "ExecuteTime": {
     "end_time": "2020-01-20T13:44:01.263694Z",
     "start_time": "2020-01-20T13:44:01.249473Z"
    }
   },
   "outputs": [
    {
     "data": {
      "text/html": [
       "<style>.container { width:100% !important; }</style>"
      ],
      "text/plain": [
       "<IPython.core.display.HTML object>"
      ]
     },
     "metadata": {},
     "output_type": "display_data"
    }
   ],
   "source": [
    "from IPython.core.display import display, HTML\n",
    "display(HTML(\"<style>.container { width:100% !important; }</style>\") )"
   ]
  },
  {
   "cell_type": "code",
   "execution_count": 10,
   "metadata": {
    "ExecuteTime": {
     "end_time": "2020-01-20T14:02:56.246937Z",
     "start_time": "2020-01-20T14:02:56.244300Z"
    }
   },
   "outputs": [],
   "source": [
    "import numpy as np\n",
    "from netCDF4 import Dataset, num2date\n",
    "import gdal\n",
    "import pupygrib\n",
    "\n",
    "\n",
    "fn_mf = \"ana_input_1.nc\"\n",
    "fn_rain = \"rr_ens_mean_0.1deg_reg_v20.0e_197901-201907_uk.nc\"\n",
    "fn  = \"/home/u1862646/ATI/BNN/Data/Rain_Data_Nov19/rr_ens_mean_0.1deg_reg_v20.0e_197901-201907_uk.nc\" "
   ]
  },
  {
   "cell_type": "markdown",
   "metadata": {
    "heading_collapsed": true
   },
   "source": [
    "# Testing Shermans new data extraction methods\n"
   ]
  },
  {
   "cell_type": "markdown",
   "metadata": {
    "hidden": true
   },
   "source": [
    "## Rain "
   ]
  },
  {
   "cell_type": "code",
   "execution_count": null,
   "metadata": {
    "ExecuteTime": {
     "end_time": "2020-01-20T02:29:18.625653Z",
     "start_time": "2020-01-20T02:29:18.620499Z"
    },
    "hidden": true
   },
   "outputs": [],
   "source": [
    "dataset_rain = Dataset(fn_rain, \"r\", format=\"NETCDF4\")\n",
    "data_rain = dataset_rain.variables\n",
    "print(dataset_rain.__doc__)"
   ]
  },
  {
   "cell_type": "code",
   "execution_count": null,
   "metadata": {
    "ExecuteTime": {
     "end_time": "2020-01-20T02:26:35.637010Z",
     "start_time": "2020-01-20T02:26:35.628477Z"
    },
    "hidden": true
   },
   "outputs": [],
   "source": [
    "type(dataset_rain)"
   ]
  },
  {
   "cell_type": "code",
   "execution_count": null,
   "metadata": {
    "ExecuteTime": {
     "end_time": "2020-01-15T12:08:00.031686Z",
     "start_time": "2020-01-15T12:08:00.026156Z"
    },
    "hidden": true
   },
   "outputs": [],
   "source": [
    "#data is an ordered dict\n",
    "#loop through the keys and print it\n",
    "print(\"The name of the variables are:\")\n",
    "for key in data_rain.keys():\n",
    "    print(key)\n",
    "print()\n"
   ]
  },
  {
   "cell_type": "code",
   "execution_count": null,
   "metadata": {
    "ExecuteTime": {
     "end_time": "2020-01-15T12:08:18.836436Z",
     "start_time": "2020-01-15T12:08:18.829063Z"
    },
    "hidden": true
   },
   "outputs": [],
   "source": [
    "#print each item in dat\n",
    "print(\"For each of the variables, here are the properties:\\n\")\n",
    "for key, value in data_rain.items():\n",
    "    print(\"Variable: \" + key)\n",
    "    print(value)\n",
    "    print()"
   ]
  },
  {
   "cell_type": "code",
   "execution_count": null,
   "metadata": {
    "ExecuteTime": {
     "end_time": "2020-01-15T16:24:54.296958Z",
     "start_time": "2020-01-15T16:24:54.293438Z"
    },
    "hidden": true
   },
   "outputs": [],
   "source": [
    "a = data_rain['rr'][1000].mask\n",
    "np.count_nonzero(a)/np.size(a)"
   ]
  },
  {
   "cell_type": "code",
   "execution_count": null,
   "metadata": {
    "ExecuteTime": {
     "end_time": "2020-01-15T16:24:19.521095Z",
     "start_time": "2020-01-15T16:24:19.515202Z"
    },
    "hidden": true
   },
   "outputs": [],
   "source": [
    "np.argwhere(a=False)"
   ]
  },
  {
   "cell_type": "code",
   "execution_count": null,
   "metadata": {
    "ExecuteTime": {
     "end_time": "2020-01-16T02:44:42.150574Z",
     "start_time": "2020-01-16T02:44:39.956850Z"
    },
    "hidden": true
   },
   "outputs": [],
   "source": [
    "np.asarray( data['rr'] ).shape"
   ]
  },
  {
   "cell_type": "code",
   "execution_count": null,
   "metadata": {
    "ExecuteTime": {
     "end_time": "2020-01-15T16:59:14.926628Z",
     "start_time": "2020-01-15T16:59:14.923298Z"
    },
    "hidden": true
   },
   "outputs": [],
   "source": [
    "data['time'][:20]"
   ]
  },
  {
   "cell_type": "markdown",
   "metadata": {
    "ExecuteTime": {
     "end_time": "2020-01-15T12:40:49.883669Z",
     "start_time": "2020-01-15T12:40:49.881822Z"
    },
    "hidden": true
   },
   "source": [
    "## model fields"
   ]
  },
  {
   "cell_type": "code",
   "execution_count": null,
   "metadata": {
    "ExecuteTime": {
     "end_time": "2020-01-16T02:19:37.020296Z",
     "start_time": "2020-01-16T02:19:37.007514Z"
    },
    "hidden": true
   },
   "outputs": [],
   "source": [
    "mf_dataset = Dataset(fn_mf, \"r\", format=\"NETCDF4\")\n",
    "mf_data = mf_dataset.variables"
   ]
  },
  {
   "cell_type": "code",
   "execution_count": null,
   "metadata": {
    "ExecuteTime": {
     "end_time": "2020-01-15T12:59:36.444761Z",
     "start_time": "2020-01-15T12:59:36.441304Z"
    },
    "hidden": true
   },
   "outputs": [],
   "source": [
    "#data is an ordered dict\n",
    "#loop through the keys and print it\n",
    "print(\"The name of the variables are:\")\n",
    "for key in mf_data.keys():\n",
    "    print(key)\n",
    "print()\n"
   ]
  },
  {
   "cell_type": "code",
   "execution_count": null,
   "metadata": {
    "ExecuteTime": {
     "end_time": "2020-01-15T13:04:41.910232Z",
     "start_time": "2020-01-15T13:04:41.904190Z"
    },
    "hidden": true
   },
   "outputs": [],
   "source": [
    "#print each item in dat\n",
    "print(\"For each of the variables, here are the properties:\\n\")\n",
    "for key, value in mf_data.items():\n",
    "    print(\"Variable: \" + key)\n",
    "    print(value)\n",
    "    print()"
   ]
  },
  {
   "cell_type": "code",
   "execution_count": null,
   "metadata": {
    "ExecuteTime": {
     "end_time": "2020-01-16T02:44:29.825785Z",
     "start_time": "2020-01-16T02:44:29.816885Z"
    },
    "hidden": true
   },
   "outputs": [],
   "source": [
    "mf_data['air_temperature'].shape"
   ]
  },
  {
   "cell_type": "code",
   "execution_count": null,
   "metadata": {
    "hidden": true
   },
   "outputs": [],
   "source": []
  },
  {
   "cell_type": "markdown",
   "metadata": {},
   "source": [
    "# Testing Data Generators"
   ]
  },
  {
   "cell_type": "code",
   "execution_count": 7,
   "metadata": {
    "ExecuteTime": {
     "end_time": "2020-01-20T14:02:24.460567Z",
     "start_time": "2020-01-20T14:02:24.449388Z"
    },
    "code_folding": [
     8,
     56,
     71
    ]
   },
   "outputs": [],
   "source": [
    "import tensorflow as tf\n",
    "import netCDF4\n",
    "from netCDF4 import Dataset\n",
    "import gdal\n",
    "import numpy as np\n",
    "\n",
    "#TODO:(akanni-ade): add ability to return long/lat variable  implement long/lat\n",
    "\n",
    "\"\"\"\n",
    "    Example of how to use\n",
    "    import Generators\n",
    "\n",
    "    rr_ens file \n",
    "    _filename = \"Data/Rain_Data/rr_ens_mean_0.1deg_reg_v20.0e_197901-201907_djf_uk.nc\"\n",
    "    rain_gen = Generator_rain(_filename, all_at_once=True)\n",
    "    data = next(iter(grib_gen))\n",
    "\n",
    "    Grib Files\n",
    "    _filename = 'Data/Rain_Data/ana_coarse.grib'\n",
    "    grib_gen = Generators.Generator_grib(fn=_filename, all_at_once=True)\n",
    "    data = next(iter(grib_gen))\n",
    "\n",
    "    Grib Files Location:\n",
    "    _filename = 'Data/Rain_Data/ana_coarse.grib'\n",
    "    grib_gen = Generators.Generator_grib(fn=_filename, all_at_once=True)\n",
    "    arr_long, arr_lat = grib_gen.locaiton()\n",
    "    #now say you are investingating the datum x = data[15,125]\n",
    "    #   to get the longitude and latitude you must do\n",
    "    long, lat = arr_long(15,125), arr_lat(15,125)\n",
    "\n",
    "\n",
    "\"\"\"\n",
    "class Generator():\n",
    "    \n",
    "    def __init__(self, fn = \"\", all_at_once=False, train_size=0.75, channel=None ):\n",
    "        self.generator = None\n",
    "        self.all_at_once = all_at_once\n",
    "        self.fn = fn\n",
    "        self.channel = channel\n",
    "    \n",
    "    def yield_all(self):\n",
    "        pass\n",
    "\n",
    "    def yield_iter(self):\n",
    "        pass\n",
    "\n",
    "    def long_lat(self):\n",
    "        pass\n",
    "\n",
    "    def __call__(self,x=0):\n",
    "        if(self.all_at_once):\n",
    "            return self.yield_all()\n",
    "        else:\n",
    "            return self.yield_iter(x)\n",
    "    \n",
    "\n",
    "# class Generator_rain(Generator):\n",
    "#     def __init__(self, **generator_params):\n",
    "#         super(Generator_rain, self).__init__(**generator_params)\n",
    "\n",
    "#     def yield_all(self):\n",
    "#         with Dataset(self.fn, \"r\", format=\"NETCDF4\") as f:\n",
    "#             _data = f.variables['rr'][:]\n",
    "#             yield np.ma.getdata(_data), np.ma.getmask(_data)\n",
    "    \n",
    "#     def yield_iter(self):\n",
    "#         with Dataset(self.fn, \"r\", format=\"NETCDF4\") as f:\n",
    "#             for chunk in f.variables['rr']:\n",
    "#                 yield np.ma.getdata(chunk), np.ma.getmask(chunk)\n",
    "        \n",
    "\n",
    "class Generator_mf(Generator):\n",
    "    \"\"\"\n",
    "        Creates a generator for the model_fields_data\n",
    "    \n",
    "        :param all_at_once: whether to return all data, or return data in batches\n",
    "\n",
    "        :param channel: the desired channel of information in the grib file\n",
    "            Default None, then concatenate all channels together and return\n",
    "            If an integer return this band\n",
    "    \"\"\"\n",
    "\n",
    "    def __init__(self, **generator_params):\n",
    "\n",
    "        super(Generator_mf, self).__init__(**generator_params)\n",
    "\n",
    "        self.vars_for_feature = ['unknown_local_param_137_128', 'unknown_local_param_133_128', 'air_temperature', 'geopotential', 'x_wind', 'y_wind' ]\n",
    "        self.channel_count = len(self.vars_for_feature) \n",
    "        \n",
    "\n",
    "    def yield_all(self):\n",
    "        raise NotImplementedError\n",
    "    \n",
    "    def yield_iter(self):\n",
    "        with Dataset(self.fn, \"r\", format=\"NETCDF4\") as f:\n",
    "            for tuple_mfs in zip( *[f.variables[var_name] for var_name in self.vars_for_feature ] ):\n",
    "                \n",
    "                list_datamask = [ (np.ma.getdata(_mar),np.ma.getmask(_mar) ) for _mar in tuple_mfs ]\n",
    "                \n",
    "                _data, _masks= list( zip (*list_datamask ) )\n",
    "                \n",
    "                \n",
    "                stacked_data = np.stack(_data, axis=-1 )\n",
    "                stacked_masks = np.stack(_masks, axis=-1 )\n",
    "                \n",
    "                yield stacked_data, stacked_masks\n",
    "            \n",
    "            \n",
    "        \n",
    "    def location(self):\n",
    "        \"\"\"\n",
    "        Returns a 2 1D arrays\n",
    "            arr_long: Longitudes\n",
    "            arr_lat: Latitdues\n",
    "        Example of how to use:\n",
    "\n",
    "\n",
    "        \"\"\"\n",
    "        raise NotImplementedError\n",
    "        \n",
    "class Generator_rain2(Generator):\n",
    "    def __init__(self, **generator_params):\n",
    "        super(Generator_rain2, self).__init__(**generator_params)\n",
    "\n",
    "    def yield_all(self,start_idx=0):\n",
    "        with Dataset(self.fn, \"r\", format=\"NETCDF4\") as f:\n",
    "            _data = f.variables['rr'][start_idx:]\n",
    "            yield np.ma.getdata(_data), np.ma.getmask(_data)   \n",
    "            \n",
    "    def yield_iter(self,start_idx=0):\n",
    "        f = Dataset(self.fn, \"r\", format=\"NETCDF4\")\n",
    "        #with Dataset(self.fn, \"r\", format=\"NETCDF4\") as f:\n",
    "            #for chunk in f.variables['rr'][start_idx:]:\n",
    "        \n",
    "        #for chunk in f.variables['rr'][start_idx:]:\n",
    "        for chunk in f.variables['rr'][start_idx:]:\n",
    "            yield np.ma.getdata(chunk), np.ma.getmask(chunk)"
   ]
  },
  {
   "cell_type": "markdown",
   "metadata": {
    "ExecuteTime": {
     "end_time": "2020-01-15T12:48:57.961055Z",
     "start_time": "2020-01-15T12:48:57.959196Z"
    }
   },
   "source": [
    "## rain genenerator"
   ]
  },
  {
   "cell_type": "code",
   "execution_count": 12,
   "metadata": {
    "ExecuteTime": {
     "end_time": "2020-01-20T14:03:04.705010Z",
     "start_time": "2020-01-20T14:03:04.299655Z"
    },
    "scrolled": true
   },
   "outputs": [
    {
     "data": {
      "text/plain": [
       "(array([[9.96921e+36, 9.96921e+36, 9.96921e+36, ..., 0.00000e+00,\n",
       "         0.00000e+00, 0.00000e+00],\n",
       "        [9.96921e+36, 9.96921e+36, 9.96921e+36, ..., 0.00000e+00,\n",
       "         0.00000e+00, 0.00000e+00],\n",
       "        [9.96921e+36, 9.96921e+36, 9.96921e+36, ..., 0.00000e+00,\n",
       "         0.00000e+00, 0.00000e+00],\n",
       "        ...,\n",
       "        [9.96921e+36, 9.96921e+36, 9.96921e+36, ..., 9.96921e+36,\n",
       "         9.96921e+36, 9.96921e+36],\n",
       "        [9.96921e+36, 9.96921e+36, 9.96921e+36, ..., 9.96921e+36,\n",
       "         9.96921e+36, 9.96921e+36],\n",
       "        [9.96921e+36, 9.96921e+36, 9.96921e+36, ..., 9.96921e+36,\n",
       "         9.96921e+36, 9.96921e+36]], dtype=float32),\n",
       " array([[ True,  True,  True, ..., False, False, False],\n",
       "        [ True,  True,  True, ..., False, False, False],\n",
       "        [ True,  True,  True, ..., False, False, False],\n",
       "        ...,\n",
       "        [ True,  True,  True, ...,  True,  True,  True],\n",
       "        [ True,  True,  True, ...,  True,  True,  True],\n",
       "        [ True,  True,  True, ...,  True,  True,  True]]))"
      ]
     },
     "execution_count": 12,
     "metadata": {},
     "output_type": "execute_result"
    }
   ],
   "source": [
    "#rain_gen = Generator_rain(fn=fn_rain, all_at_once=False)()\n",
    "rain_gen2 = Generator_rain2(fn=fn,all_at_once=False)()\n",
    "data = next(iter(rain_gen2))\n",
    "data"
   ]
  },
  {
   "cell_type": "code",
   "execution_count": 9,
   "metadata": {
    "ExecuteTime": {
     "end_time": "2020-01-20T14:02:33.696829Z",
     "start_time": "2020-01-20T14:02:33.694033Z"
    }
   },
   "outputs": [
    {
     "data": {
      "text/plain": [
       "'rr_ens_mean_0.1deg_reg_v20.0e_197901-201907_uk.nc'"
      ]
     },
     "execution_count": 9,
     "metadata": {},
     "output_type": "execute_result"
    }
   ],
   "source": [
    "fn_rain"
   ]
  },
  {
   "cell_type": "code",
   "execution_count": 15,
   "metadata": {
    "ExecuteTime": {
     "end_time": "2020-01-20T14:11:33.146593Z",
     "start_time": "2020-01-20T14:11:33.122639Z"
    }
   },
   "outputs": [],
   "source": [
    "ds_tar = tf.data.Dataset.from_generator(lambda : Generator_rain2(fn=fn, all_at_once=False)(0), output_types= ( tf.float32, tf.bool) )"
   ]
  },
  {
   "cell_type": "code",
   "execution_count": 16,
   "metadata": {
    "ExecuteTime": {
     "end_time": "2020-01-20T14:11:34.913756Z",
     "start_time": "2020-01-20T14:11:34.498733Z"
    }
   },
   "outputs": [
    {
     "data": {
      "text/plain": [
       "(<tf.Tensor: id=95, shape=(100, 140), dtype=float32, numpy=\n",
       " array([[9.96921e+36, 9.96921e+36, 9.96921e+36, ..., 0.00000e+00,\n",
       "         0.00000e+00, 0.00000e+00],\n",
       "        [9.96921e+36, 9.96921e+36, 9.96921e+36, ..., 0.00000e+00,\n",
       "         0.00000e+00, 0.00000e+00],\n",
       "        [9.96921e+36, 9.96921e+36, 9.96921e+36, ..., 0.00000e+00,\n",
       "         0.00000e+00, 0.00000e+00],\n",
       "        ...,\n",
       "        [9.96921e+36, 9.96921e+36, 9.96921e+36, ..., 9.96921e+36,\n",
       "         9.96921e+36, 9.96921e+36],\n",
       "        [9.96921e+36, 9.96921e+36, 9.96921e+36, ..., 9.96921e+36,\n",
       "         9.96921e+36, 9.96921e+36],\n",
       "        [9.96921e+36, 9.96921e+36, 9.96921e+36, ..., 9.96921e+36,\n",
       "         9.96921e+36, 9.96921e+36]], dtype=float32)>,\n",
       " <tf.Tensor: id=96, shape=(100, 140), dtype=bool, numpy=\n",
       " array([[ True,  True,  True, ..., False, False, False],\n",
       "        [ True,  True,  True, ..., False, False, False],\n",
       "        [ True,  True,  True, ..., False, False, False],\n",
       "        ...,\n",
       "        [ True,  True,  True, ...,  True,  True,  True],\n",
       "        [ True,  True,  True, ...,  True,  True,  True],\n",
       "        [ True,  True,  True, ...,  True,  True,  True]])>)"
      ]
     },
     "execution_count": 16,
     "metadata": {},
     "output_type": "execute_result"
    }
   ],
   "source": [
    "next(iter(ds_tar) )"
   ]
  },
  {
   "cell_type": "markdown",
   "metadata": {
    "ExecuteTime": {
     "end_time": "2020-01-15T12:49:18.118723Z",
     "start_time": "2020-01-15T12:49:18.117020Z"
    },
    "heading_collapsed": true
   },
   "source": [
    "## model feild generator"
   ]
  },
  {
   "cell_type": "code",
   "execution_count": null,
   "metadata": {
    "ExecuteTime": {
     "end_time": "2020-01-15T23:45:03.589739Z",
     "start_time": "2020-01-15T23:45:03.583671Z"
    },
    "hidden": true
   },
   "outputs": [],
   "source": [
    "mf_gen = Generator_mf(fn=fn_mf, all_at_once=False)()\n",
    "data = next(iter(mf_gen))"
   ]
  },
  {
   "cell_type": "code",
   "execution_count": null,
   "metadata": {
    "ExecuteTime": {
     "end_time": "2020-01-15T23:46:41.548405Z",
     "start_time": "2020-01-15T23:46:41.545491Z"
    },
    "hidden": true
   },
   "outputs": [],
   "source": [
    "data[0].shape"
   ]
  },
  {
   "cell_type": "code",
   "execution_count": null,
   "metadata": {
    "ExecuteTime": {
     "end_time": "2020-01-15T23:30:16.662842Z",
     "start_time": "2020-01-15T23:30:16.659852Z"
    },
    "hidden": true
   },
   "outputs": [],
   "source": [
    "mask.shape"
   ]
  },
  {
   "cell_type": "markdown",
   "metadata": {
    "heading_collapsed": true
   },
   "source": [
    "# Fixing mismatch in size of Feature and Target"
   ]
  },
  {
   "cell_type": "code",
   "execution_count": null,
   "metadata": {
    "ExecuteTime": {
     "end_time": "2020-01-16T02:22:33.221099Z",
     "start_time": "2020-01-16T02:22:33.213163Z"
    },
    "hidden": true
   },
   "outputs": [],
   "source": [
    "rain_lat = data_rain['latitude'] #100\n",
    "rain_lon = data_rain['longitude'] #140\n",
    "\n",
    "mf_latlon = mf_data['latitude_longitude']\n",
    "mf_lat = mf_data['latitude'] #103\n",
    "rr_ens_mean_0.1deg_reg_v20.0e_197901-201907_uk.nc = mf_data['longitude'] #144"
   ]
  },
  {
   "cell_type": "code",
   "execution_count": null,
   "metadata": {
    "ExecuteTime": {
     "end_time": "2020-01-16T02:23:36.861767Z",
     "start_time": "2020-01-16T02:23:36.841793Z"
    },
    "hidden": true
   },
   "outputs": [],
   "source": [
    "rain_lat[:]"
   ]
  },
  {
   "cell_type": "code",
   "execution_count": null,
   "metadata": {
    "ExecuteTime": {
     "end_time": "2020-01-16T02:25:18.849324Z",
     "start_time": "2020-01-16T02:25:18.835755Z"
    },
    "hidden": true
   },
   "outputs": [],
   "source": [
    "mf_lat[::-1]"
   ]
  },
  {
   "cell_type": "code",
   "execution_count": null,
   "metadata": {
    "ExecuteTime": {
     "end_time": "2020-01-16T02:29:51.291775Z",
     "start_time": "2020-01-16T02:29:51.276790Z"
    },
    "hidden": true
   },
   "outputs": [],
   "source": [
    "#Latitude transformation \n",
    "mf_lat[::-1][1:-2] - rain_lat[:]"
   ]
  },
  {
   "cell_type": "code",
   "execution_count": null,
   "metadata": {
    "ExecuteTime": {
     "end_time": "2020-01-16T02:46:21.233957Z",
     "start_time": "2020-01-16T02:46:21.218198Z"
    },
    "hidden": true
   },
   "outputs": [],
   "source": [
    "mf_lat[-2:1:-1] - rain_lat[:]"
   ]
  },
  {
   "cell_type": "code",
   "execution_count": null,
   "metadata": {
    "ExecuteTime": {
     "end_time": "2020-01-16T02:30:23.082766Z",
     "start_time": "2020-01-16T02:30:23.064851Z"
    },
    "hidden": true
   },
   "outputs": [],
   "source": [
    "rain_lon[:]"
   ]
  },
  {
   "cell_type": "code",
   "execution_count": null,
   "metadata": {
    "ExecuteTime": {
     "end_time": "2020-01-16T02:30:35.998199Z",
     "start_time": "2020-01-16T02:30:35.985291Z"
    },
    "hidden": true
   },
   "outputs": [],
   "source": [
    "mf_lon[:]"
   ]
  },
  {
   "cell_type": "code",
   "execution_count": null,
   "metadata": {
    "ExecuteTime": {
     "end_time": "2020-01-16T02:33:41.599239Z",
     "start_time": "2020-01-16T02:33:41.583911Z"
    },
    "hidden": true
   },
   "outputs": [],
   "source": [
    "rain_lon[:] - mf_lon[2:-2]"
   ]
  }
 ],
 "metadata": {
  "kernelspec": {
   "display_name": "Python 3",
   "language": "python",
   "name": "python3"
  },
  "language_info": {
   "codemirror_mode": {
    "name": "ipython",
    "version": 3
   },
   "file_extension": ".py",
   "mimetype": "text/x-python",
   "name": "python",
   "nbconvert_exporter": "python",
   "pygments_lexer": "ipython3",
   "version": "3.7.5"
  },
  "varInspector": {
   "cols": {
    "lenName": 16,
    "lenType": 16,
    "lenVar": 40
   },
   "kernels_config": {
    "python": {
     "delete_cmd_postfix": "",
     "delete_cmd_prefix": "del ",
     "library": "var_list.py",
     "varRefreshCmd": "print(var_dic_list())"
    },
    "r": {
     "delete_cmd_postfix": ") ",
     "delete_cmd_prefix": "rm(",
     "library": "var_list.r",
     "varRefreshCmd": "cat(var_dic_list()) "
    }
   },
   "types_to_exclude": [
    "module",
    "function",
    "builtin_function_or_method",
    "instance",
    "_Feature"
   ],
   "window_display": false
  }
 },
 "nbformat": 4,
 "nbformat_minor": 2
}
