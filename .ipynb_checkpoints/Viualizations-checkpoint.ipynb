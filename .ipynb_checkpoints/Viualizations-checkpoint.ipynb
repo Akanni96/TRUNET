{
 "cells": [
  {
   "cell_type": "code",
   "execution_count": 10,
   "metadata": {
    "ExecuteTime": {
     "end_time": "2020-06-30T20:19:40.246868Z",
     "start_time": "2020-06-30T20:19:40.222693Z"
    },
    "code_folding": [
     28
    ]
   },
   "outputs": [
    {
     "data": {
      "text/html": [
       "<style>.container { width:100% !important; }</style>"
      ],
      "text/plain": [
       "<IPython.core.display.HTML object>"
      ]
     },
     "metadata": {},
     "output_type": "display_data"
    }
   ],
   "source": [
    "import warnings\n",
    "from IPython.core.display import display, HTML\n",
    "display(HTML(\"<style>.container { width:100% !important; }</style>\") )\n",
    "warnings.filterwarnings(\"ignore\")\n",
    "import numpy as np\n",
    "import tensorflow as tf\n",
    "import pandas as pd\n",
    "import glob\n",
    "import os\n",
    "import itertools as it\n",
    "import pickle\n",
    "import matplotlib\n",
    "import matplotlib.pyplot as plt\n",
    "import matplotlib.mlab as mlab\n",
    "import time\n",
    "import seaborn as sns\n",
    "from scipy import stats\n",
    "from sklearn import calibration\n",
    "\n",
    "\n",
    "from sklearn.metrics import mean_squared_error\n",
    "from sklearn.metrics import roc_auc_score\n",
    "from sklearn.metrics import roc_curve, auc\n",
    "\n",
    "import matplotlib.ticker as plticker\n",
    "import matplotlib.dates as mdates\n",
    "import datetime as dt\n",
    "\n",
    "def load_predictions_gen(_path_pred):\n",
    "    \n",
    "    if os.path.isdir(_path_pred):\n",
    "        li_pred_fns = list( glob.glob(_path_pred+\"/*\", recursive=False) )\n",
    "        li_pred_fns = [pred_fns for pred_fns in li_pred_fns if pred_fns[-4:]==\".dat\" ]\n",
    "        \n",
    "    elif os.path.isfile(_path_pred):\n",
    "        li_pred_fns = [ _path_pred ]\n",
    "    \n",
    "    else:\n",
    "        raise ValueError(\"Invalid File passed\")\n",
    "            \n",
    "    li_pred_fns.sort()\n",
    "    for pred_fn in li_pred_fns:\n",
    "        pred = pickle.load(open(pred_fn,\"rb\"))\n",
    "        yield pred\n",
    "        \n",
    "dict_prediction_path = {}"
   ]
  },
  {
   "cell_type": "markdown",
   "metadata": {},
   "source": [
    "## Model Evaluation Code"
   ]
  },
  {
   "cell_type": "code",
   "execution_count": 38,
   "metadata": {
    "ExecuteTime": {
     "end_time": "2020-06-30T22:08:27.798231Z",
     "start_time": "2020-06-30T22:08:27.728907Z"
    },
    "code_folding": [
     0,
     41,
     152,
     177,
     201,
     207,
     232,
     263,
     284,
     325,
     438,
     484,
     502,
     534,
     552
    ]
   },
   "outputs": [],
   "source": [
    "def model_evaluation(datformation, rain_threshold=0.5, rolling_anual=False):\n",
    "    \n",
    "    prediction_path, distr_name, mname = init_helper(datformation)\n",
    "\n",
    "\n",
    "    #timestamps, truevalues, preds = get_data(prediction_path)\n",
    "    li_pred_fns = list( glob.glob(prediction_path+\"/*\",recursive=False) )\n",
    "\n",
    "    li_pred_fns = [pred_fns for pred_fns in li_pred_fns if pred_fns[-4:]==\".dat\" ]\n",
    "    li_pred_fns.sort()\n",
    "    li_ts_tv_ps = get_data(prediction_path, multiple_files=stochastic)\n",
    "\n",
    "    for idx, (timestamps, truevalues, preds) in enumerate(li_ts_tv_ps):\n",
    "\n",
    "        fd = prediction_path.rsplit('/',2)[0]\n",
    "\n",
    "        if os.path.isdir(prediction_path):\n",
    "            _dir = prediction_path\n",
    "        else:\n",
    "            _dir = os.path.dirname(prediction_path)\n",
    "\n",
    "        os.path.makedirs(_dir+\"/Evaluation\",exist_ok=True)\n",
    "\n",
    "        preds_mean = np.mean(preds,axis=-1)\n",
    "\n",
    "        rmse = rmse_aggregate(preds_mean, truevalues)\n",
    "        bias = bias_aggregate(preds_mean, truevalues)\n",
    "        rN_rmse, N = rN_aggregate(preds_mean, truevalues)\n",
    "\n",
    "        avg_pred_rain = np.nanmean(preds_mean)\n",
    "        avg_true_rain = np.nanmean(truevalues)\n",
    "\n",
    "        dict_data = {'RMSE':[rmse], 'Bias':[bias] ,\"R{}_RMSE\".format(str(N)):[rN_rmse], 'Avg Pred':avg_pred_rain }\n",
    "        _dataframe = pd.DataFrame(dict_data )\n",
    "\n",
    "        _dataframe.to_csv( _dir+\"/Evaluation/general_scores.csv\" ,index=False)\n",
    "        \n",
    "        image_all_preds(timestamps, truevalues, preds_mean, _dir, figsize=(8,6)) #RODO: Convert images to make an image every say 90 days\n",
    "\n",
    "\n",
    "        # Collecting an annually aggreagted set of results\n",
    "        if rolling_anual==True:\n",
    "            #Performing test on annual chunks and save results into one txt file\n",
    "\n",
    "            _dataframe_1yre = year_rolling_eval( preds, preds_mean, li_preds_p ,truevalues, timestamps, rain_threshold, distr_name, fd )\n",
    "\n",
    "            #Save to csv file\n",
    "            _dataframe_1yre.to_csv( fd+\"/scores_1yrs_\"+fn+\".csv\" ,index=False)\n",
    "\n",
    "            #Super-Imposing RMSE,r10_RMSE, AUC\n",
    "            x = _dataframe_1yre['Start_Year']\n",
    "            Y1 = _dataframe_1yre['RMSE']\n",
    "            Y2 = _dataframe_1yre['R10_RMSE']\n",
    "            Y3 = _dataframe_1yre['AUC_Score']\n",
    "\n",
    "            color = sns.color_palette(\"dark\", 2)\n",
    "            with sns.axes_style(\"whitegrid\"):\n",
    "                fig, ax1 = plt.subplots( )#, figsize=(30,7))\n",
    "\n",
    "                #color = ['blue','green']\n",
    "\n",
    "                ax1.set_xlabel('Year')\n",
    "                ax1.set_ylabel('RMSE', color=color[0])\n",
    "                a= ax1.plot(x,Y1,color=color[0], marker='x', label='RMSE', lw=1.6 )\n",
    "                b = ax1.plot(x, Y2, color=color[0], linestyle='--', marker='x', label='R10 RMSE',lw=1.6)\n",
    "                ax1.tick_params(axis='y', labelcolor=color[0])\n",
    "\n",
    "\n",
    "                ax2 =ax1.twinx()\n",
    "                ax2.set_ylabel('AUC', color=color[1])\n",
    "                c = ax2.plot(x, Y3, color=color[1],lw=1.6)\n",
    "                ax2.tick_params(axis='y', labelcolor=color[1])\n",
    "\n",
    "                ax1.legend(loc=\"upper left\", bbox_to_anchor=(0,1) , bbox_transform=ax1.transAxes)\n",
    "                #ax2.legend(loc=\"upper right\", bbox_to_anchor=(1,0) , bbox_transform=ax2.transAxes)\n",
    "\n",
    "                nticks = 8\n",
    "                ax1.yaxis.set_major_locator(plticker.LinearLocator(nticks))\n",
    "                ax2.yaxis.set_major_locator(plticker.LinearLocator(nticks))\n",
    "                ax1.yaxis.set_major_formatter(plticker.FormatStrFormatter('%.2f'))\n",
    "                ax2.yaxis.set_major_formatter(plticker.FormatStrFormatter('%.3f'))\n",
    "                p = [a[0],b[0],c[0]]\n",
    "                ax1.legend(p, [p_.get_label() for p_ in p], loc= 'upper center', fontsize= 'small')\n",
    "\n",
    "\n",
    "                fig.tight_layout()  # otherwise the right y-label is slightly clipped\n",
    "                fig.show()\n",
    "\n",
    "            img_dir = fd + \"/Images\"\n",
    "            fn_name = fn+\"running_aucrmse.png\"\n",
    "            if not os.path.exists(img_dir):\n",
    "                os.makedirs(img_dir)\n",
    "\n",
    "            plt.savefig(img_dir+\"/\"+fn_name )\n",
    "\n",
    "\n",
    "\n",
    "        print(\"Completed {} \\n\".format(fn) )\n",
    "        \n",
    "        return dict_data\n",
    "            \n",
    "def init_helper(datformation):\n",
    "    \n",
    "    if isinstance(datformation, dict):\n",
    "        prediction_path = datformation['fp']\n",
    "        distr_name = datformation['distr_name']\n",
    "        model_name = datformation.get('model_name','')\n",
    "    else:\n",
    "        prediction_path = datformation\n",
    "        distr_name =None\n",
    "        \n",
    "    return prediction_path, distr_name, model_name\n",
    "    \n",
    "def get_data(prediction_path, multiple_files=False):\n",
    "    #return timestamps, truevalues, preds\n",
    "    \n",
    "    \n",
    "    li_data = list(load_predictions_gen(prediction_path))\n",
    "    \n",
    "    li_ts_tv_ps = []\n",
    "    \n",
    "    for data in li_data:\n",
    "        \n",
    "        if 1 in data[1][0].shape and type(data[1][0]) != np.float64:\n",
    "            \n",
    "            preds = np.concatenate(data[1][0])\n",
    "            preds = np.reshape(data[1],[-1])\n",
    "            preds = np.expand_dims(preds, [-1])\n",
    "            \n",
    "            \n",
    "        elif type(data[1][0]) != np.float64 and type(data[1])==list:\n",
    "            \n",
    "            preds = np.concatenate( data[1],axis=0) \n",
    "            truevalues = np.concatenate( data[2],axis=0)\n",
    "            timestamps = np.concatenate(data[0])\n",
    "\n",
    "            \n",
    "        elif len(data[1].shape) == len(data[2].shape):\n",
    "            preds = np.expand_dims(data[1],axis=-1)\n",
    "            truevalues = data[2]\n",
    "            timestamps = data[0]\n",
    "            \n",
    "        else:\n",
    "            \n",
    "            preds = np.expand_dims(data[1],axis=1)\n",
    "            truevalues = data[2]\n",
    "            timestamps = data[0]\n",
    "        \n",
    "        li_ts_tv_ps.append( (timestamps, truevalues, preds) )\n",
    "        \n",
    "    if multiple_files == False:\n",
    "        return li_ts_tv_ps[0]\n",
    "    else:\n",
    "        return li_ts_tv_ps\n",
    "        \n",
    "def percentile_cal(confidence, preds, distr_name):\n",
    "    mean, sigma = np.mean(preds,axis=1), np.std(preds,ddof=1,axis=1)\n",
    "#     print(mean)\n",
    "#     print(sigma)\n",
    "\n",
    "    if distr_name == \"Normal\":\n",
    "        lp,up =  stats.norm.interval( confidence, loc=mean, scale=sigma)\n",
    "        lp = np.where(lp>=0,lp, 0.0)\n",
    "\n",
    "    elif distr_name == \"LogNormal\":\n",
    "        ln_lp,ln_up = stats.lognorm.interval( confidence, scale=mean, s=underlying_normal_std_from_lnnormal_std(mean,sigma))\n",
    "        ln_lp = np.where(ln_lp>=0,ln_lp, 0.0)\n",
    "        \n",
    "        n_lp,n_up =  stats.norm.interval( confidence, loc=mean, scale=sigma)\n",
    "        n_lp = np.where(n_lp>=0,n_lp, 0.0)\n",
    "        \n",
    "        \n",
    "        lp = np.where( mean>0.5,  ln_lp, n_lp )\n",
    "        up = np.where( mean>0.5 , ln_up, n_up)\n",
    "        \n",
    "    else:\n",
    "        raise ValueError\n",
    "    \n",
    "    return lp, up\n",
    "\n",
    "def underlying_normal_std_from_lnnormal_std(ln_mean, ln_std):\n",
    "    _1 = np.log( np.square(ln_std) + np.square(ln_mean) )\n",
    "    _2 = -2 * np.log(ln_mean)\n",
    "    sigma_norm = np.sqrt(_1 + _2)\n",
    "    return sigma_norm\n",
    "       \n",
    "def rmse_aggregate(preds_mean,true_vals):\n",
    "    return np.sqrt(np.mean((preds_mean-true_vals)**2))\n",
    "\n",
    "def bias_aggregate(preds_mean, true_vals):\n",
    "    return np.mean( preds_mean-true_vals )\n",
    "\n",
    "def rN_aggregate(preds_mean, true_vals, N=10):\n",
    "    \n",
    "    mask = true_vals >= N\n",
    "    \n",
    "    preds_filt = preds_mean[mask]\n",
    "    true_vals_filtr = true_vals[mask]\n",
    "    \n",
    "    return np.sqrt(np.mean((preds_filt-true_vals_filtr)**2)), N   \n",
    "\n",
    " \n",
    "def avg_abs_bias(preds_mean ,true_vals):\n",
    "    diff = preds_mean-true_vals\n",
    "    abs_diff = np.abs(diff)\n",
    "    avg_abs_bias = np.mean(abs_diff)\n",
    "    return avg_abs_bias\n",
    "\n",
    "def image_all_preds(tss, true_val, pred_mean, prediction_dir,figsize=(10,8)):\n",
    "    ts = [ d.strftime(\"%d-%m-%y\", time.localtime(int(d))) for d in tss]\n",
    "    \n",
    "    start = pd.to_datetime( ts[0] )\n",
    "    end = pd.to_datetime(  ts[-1] ) + pd.Timedelta(1, 'd')\n",
    "    \n",
    "    ts = mdates.drange(start,end,dt.timedelta(days=1))\n",
    "    \n",
    "    fig, (ax) = plt.subplots(1,figsize=(10,8))\n",
    "    ax.plot(ts, true_val,color='black',linewidth=1)\n",
    "    ax.plot(ts, pred_mean.reshape([-1]), color='blue')\n",
    "    \n",
    "    ax.xaxis.set_major_formatter(mdates.DateFormatter('%Y-%m-%d'))\n",
    "    ax.xaxis.set_major_locator(mdates.AutoDateLocator(maxticks=20) )\n",
    "   \n",
    "    fig.show()\n",
    "    \n",
    "    img_dir = prediction_dir + \"/Images\"\n",
    "    fn_name = \"all_predictions.png\"\n",
    "    if not os.path.exists(img_dir):\n",
    "        os.makedirs(img_dir)\n",
    "        \n",
    "    plt.savefig(img_dir+\"/\"+fn_name )\n",
    "   \n",
    "    \n",
    "def image_all_preds_stochastic(tss, true_val, pred_mean, li_pred_uncertainty_bands, prediction_path, fd, fn, save=True, figsize=(10,6) ):\n",
    "    \n",
    "    tss_string = [ time.strftime(\"%d-%m-%y\", time.localtime(int(_val))) for _val in tss]\n",
    "    \n",
    "    start = pd.to_datetime( tss_string[0] )\n",
    "    end = pd.to_datetime( tss_string[-1] ) + pd.Timedelta(1, 'd')\n",
    "    \n",
    "    ts = mdates.drange(start,end,dt.timedelta(days=1))\n",
    "    \n",
    "    fig, (ax) = plt.subplots(1,figsize=figsize )\n",
    "    clrs = ['blue']# sns.color_palette(\"husl\", 1)\n",
    "    \n",
    "    with sns.axes_style(\"darkgrid\"):        \n",
    "        ax.plot(ts[:len(true_val)], true_val, c='black',linewidth=0.8)\n",
    "        ax.plot(ts[:len(true_val)], pred_mean, c=clrs[0],linewidth=0.7)\n",
    "        ax.fill_between(ts[:len(true_val)], li_pred_uncertainty_bands[0], li_pred_uncertainty_bands[1] ,alpha=0.1, facecolor=clrs[0])\n",
    "        ax.plot(ts[:len(true_val)], li_pred_uncertainty_bands[1], alpha=1, c=clrs[0], linestyle=(0, (1, 1)),linewidth=0.25 )\n",
    "        #ax.legend()\n",
    "    \n",
    "    ax.xaxis.set_major_formatter(mdates.DateFormatter('%Y-%m-%d'))\n",
    "    ax.xaxis.set_major_locator(mdates.AutoDateLocator(maxticks=20) )\n",
    "    \n",
    "    fig.show()\n",
    "    if save==True:\n",
    "        img_dir = fd + \"/Images\"\n",
    "        fn_name = \"all_preds_\"+fn+\".png\"\n",
    "        if not os.path.exists(img_dir):\n",
    "            os.makedirs(img_dir)\n",
    "\n",
    "        plt.savefig(img_dir+\"/\"+fn_name )\n",
    "        \n",
    "def image_all_preds_compare(li_tss, li_true_vals, li_preds, li_confidence=[None,None], li_distr=[None,None], names=['Model1','Model2'], figsize=(10,6)):\n",
    "    ts_strings = [ time.strftime(\"%d-%m-%y\", time.localtime(int(_val))) for _val in li_tss[0] ]\n",
    "    ts1_strings = [ time.strftime(\"%d-%m-%y\", time.localtime(int(_val))) for _val in li_tss[1] ]\n",
    "    \n",
    "    try:\n",
    "        start = pd.to_datetime( ts_strings[0] )\n",
    "        end = pd.to_datetime( ts_strings[-1] ) + pd.Timedelta(1, 'd')\n",
    "\n",
    "        start1 = pd.to_datetime( ts1_strings[0] )\n",
    "        end1 = pd.to_datetime( ts1_strings[-1] ) + pd.Timedelta(1, 'd')\n",
    "    \n",
    "        ts = mdates.drange(start,end,dt.timedelta(days=1))\n",
    "        ts1 = mdates.drange(start1,end1,dt.timedelta(days=1))\n",
    "    except (ValueError,IndexError) as e:\n",
    "        return\n",
    "    \n",
    "    li_ts = [ts,ts1]\n",
    "    size=18\n",
    "    fig, (ax) = plt.subplots(1,figsize=figsize)   \n",
    "    #clrs = sns.color_palette(\"husl\", 2)\n",
    "    clrs = [ 'darkblue','darkorange' ]\n",
    "    with sns.axes_style(\"whitegrid\"):\n",
    "    \n",
    "        ax.xaxis.set_major_formatter(mdates.DateFormatter('%d-%m-%y'))\n",
    "        \n",
    "        ax.xaxis.set_major_locator(mdates.AutoDateLocator() )\n",
    "        #ax.xaxis.set_major_locator(mdates.WeekdayLocator(byweekday=mdates.MO) )\n",
    "        \n",
    "        if names[0] == names[1]:\n",
    "            _range = 1\n",
    "        else:\n",
    "            _range = 2\n",
    "        for idx in range(_range):\n",
    "            _mean = np.mean(li_preds[idx],-1)\n",
    "            \n",
    "            _len = min( len(li_true_vals[idx]), len(li_ts[idx])  )\n",
    "\n",
    "            if idx == 0:\n",
    "                ax.plot(li_ts[idx][:_len], li_true_vals[idx][:_len], c='grey',linewidth=6, label=\"True Rain\", alpha=0.5)\n",
    "            \n",
    "            ax.plot(li_ts[idx][:_len], _mean[:_len], c=clrs[idx], label=names[idx], linestyle=':' , linewidth=4.0)\n",
    "\n",
    "            if li_distr[idx] != None:\n",
    "                lq, uq = percentile_cal(li_confidence[idx], li_preds[idx], li_distr[idx] )\n",
    "                ax.fill_between(li_ts[idx][:_len], lq[:_len], uq[:_len] ,alpha=0.2, facecolor=clrs[idx])\n",
    "                ax.plot(li_ts[idx][:_len], uq[:_len], alpha=0.7, c=clrs[idx], linestyle=':' )\n",
    "    \n",
    "    ax.tick_params(axis='x', labelsize=size)\n",
    "    ax.tick_params(axis='y', labelsize=size)\n",
    "    ax.set_xlabel('Date', fontsize=size)\n",
    "    ax.set_ylabel('rain (mm)', fontsize=size, rotation='horizontal')\n",
    "    ax.yaxis.set_label_coords(0.04,1.02) \n",
    "    \n",
    "    #plt.legend(loc=(0.625,0.6),fontsize=size-1,framealpha=0.6)\n",
    "    plt.legend(loc='upper_right',fontsize=size-1,framealpha=0.6)\n",
    "    \n",
    "    ax.grid(True)\n",
    "    fig.show()\n",
    "    #ax.set_title(\"Comparison of {} and {}\".format(names[0], names[1]) )\n",
    "    \n",
    "#-- UQ --\n",
    "\n",
    "def year_rolling_eval(preds, preds_mean, li_preds_p ,true_values, timestamps, rain_threshold, distr_name, prediction_path):\n",
    "    \n",
    "    #Divide data into two year contiguous chunks\n",
    "    #start_date = np.datetime64('1987-12-31')   #1987-11-01\n",
    "    start_date = np.datetime64(int(timestamps[0]),'s')\n",
    "    end_date = np.datetime64(int(timestamps[-1]),'s')\n",
    "    \n",
    "    time_intrvls_years = pd.date_range( end=end_date, start=start_date, freq='1Y',normalize=True)\n",
    "    time_intrvls_epochs = list ( (time_intrvls_years - pd.Timestamp(\"1970-01-01\") ) // pd.Timedelta('1s') ) #holds the start time for every 2 year interval\n",
    "    \n",
    "    start_idxs_for_intrvls = np.searchsorted(timestamps, np.array(time_intrvls_epochs) )\n",
    "       \n",
    "    li_startend_date = []\n",
    "    li_rmse = []\n",
    "    li_r10_rmse = []\n",
    "    li_AUC = []\n",
    "    \n",
    "    for idx_year, (idx_start, idx_end) in enumerate( zip(start_idxs_for_intrvls, start_idxs_for_intrvls[1:])) :\n",
    "        \n",
    "        rmse = rmse_aggregate(preds_mean[idx_start: idx_end], true_values[idx_start:idx_end])\n",
    "        \n",
    "        r10_rmse, _, N = rN_aggregate_stochastic(preds_mean[idx_start: idx_end], li_preds_p[1][idx_start: idx_end], true_values[idx_start: idx_end] )\n",
    "        \n",
    "        auc = uncertainty_quantification_sherman( preds[idx_start: idx_end], true_values[idx_start: idx_end], rain_threshold, distr_name ,make_plot=False)\n",
    "        startend = ( time_intrvls_years[idx_year].strftime(\"%Y-%m-%d\"), time_intrvls_years[idx_year+1].strftime(\"%Y-%m-%d\")  )\n",
    "        \n",
    "        \n",
    "#         image_all_preds_stochastic( timestamps[idx_start: idx_end] , \n",
    "#                                    true_values[idx_start: idx_end], \n",
    "#                                        preds_mean[idx_start: idx_end], \n",
    "#                                    [li_preds_p[0][idx_start: idx_end], li_preds_p[1][idx_start: idx_end]], prediction_path, fd=\"\", fn=\"\", save = False)\n",
    "            \n",
    "        li_rmse.append(rmse)\n",
    "        li_r10_rmse.append(r10_rmse)\n",
    "        li_AUC.append(auc)\n",
    "        li_startend_date.append( (' - ').join(startend) )\n",
    "    \n",
    "    _dataframe = pd.DataFrame({'Start_Year':time_intrvls_years[:len(li_startend_date)] ,'RMSE':li_rmse, \"R10_RMSE\":li_r10_rmse, \"AUC_Score\":li_AUC, \"Start-End\":li_startend_date } )\n",
    "    \n",
    "    return _dataframe\n",
    "    \n",
    "\n",
    "# --  Summary Stats for Seasons\n",
    "def summary_stat_seasonal(datformation,city=\"\", method=\"generic\"):\n",
    "    \n",
    "    # Retrive predictions, true_values and dates\n",
    "    \n",
    "    prediction_path, distr_name, mname = init_helper(datformation)\n",
    "    \n",
    "    timestamps, truevalues, preds = get_data(prediction_path)\n",
    "    \n",
    "    preds_mean = np.mean(preds,axis=-1)\n",
    "    \n",
    "    \n",
    "    # Finding indexes to divide data into seasons\n",
    "    \n",
    "    pd_timestamps = pd.DatetimeIndex(np.array(timestamps).astype('datetime64[s]') )\n",
    "    \n",
    "    #print(pd_timestamps)\n",
    "    \n",
    "    seasons = ['Winter','Spring','Summer','Autumn']\n",
    "    arr_seasons, bins = pd.cut( pd_timestamps.month % 12,\n",
    "                                   [0,3,6,9,12],labels=seasons, right=False,\n",
    "                                      include_lowest=True, retbins=True)\n",
    "    \n",
    "    # Adding summary statistics\n",
    "    dict_s_boolindc = {}\n",
    "    df_season_summary = pd.DataFrame(columns=['RMSE','R10 RMSE','Avg Abs Bias', 'Avg Pred', 'Avg Obs' ])\n",
    "    #print(arr_seasons)\n",
    "    for idx, season in enumerate(seasons):\n",
    "        bool_indc = (arr_seasons == season)\n",
    "\n",
    "        season_preds_mean = preds_mean[bool_indc]\n",
    "        season_obs = truevalues[bool_indc]\n",
    "                \n",
    "        rmse = rmse_aggregate(season_preds_mean,season_obs)\n",
    "        r10rmse, _ = rN_aggregate(season_preds_mean,season_obs,10)\n",
    "        avgabsbias = avg_abs_bias(season_preds_mean, season_obs)\n",
    "        avg_pred_rain = np.mean(season_preds_mean)\n",
    "        avg_true_rain = np.mean(season_obs)\n",
    "        \n",
    "        df_season_summary = df_season_summary.append( pd.Series( { 'RMSE':rmse ,'R10 RMSE':r10rmse,'Avg Abs Bias':avgabsbias, 'Avg Pred':avg_pred_rain, 'Avg Obs':avg_true_rain } ).rename(season) )\n",
    "    \n",
    "    #adding aggregated results\n",
    "    rmse = rmse_aggregate(preds_mean,truevalues)\n",
    "    r10rmse, _ = rN_aggregate(preds_mean,truevalues,10)\n",
    "    avgabsbias = avg_abs_bias(preds_mean,truevalues)\n",
    "    avg_pred_rain = np.mean(preds_mean)\n",
    "    avg_true_rain = np.mean(truevalues)\n",
    "    \n",
    "    series = pd.Series( { 'RMSE':rmse ,'R10 RMSE':r10rmse,'Avg Abs Bias':avgabsbias, 'Avg Pred':avg_pred_rain, 'Avg Obs':avg_true_rain } )\n",
    "    df_season_summary = df_season_summary.append( series.rename(\"All\") )\n",
    "    \n",
    "    if method==\"experiment1\":\n",
    "        return series.rename([seaon, mname])\n",
    "    \n",
    "    print(df_season_summary)\n",
    "    \n",
    "    if os.path.isdir(prediction_path):\n",
    "        _buf = prediction_path+f\"/seasonal_summary_stats{city}.tex\"\n",
    "    else:\n",
    "        _dir = os.path.dirname(prediction_path)\n",
    "        _buf = _dir+f\"/seasonal_summary_stats{city}.tex\"\n",
    "\n",
    "    df_season_summary.to_latex( buf=_buf,  float_format=\"{:0.3f}\".format, caption=f\"Seasonally aggregated Performance Metrics for {mname} trained on data \\\n",
    "                               between 1979 and 2013 and tested on the $7.1 {{\\\\times}} 10^3$ $\\mathrm{{km}}^2$ region around \\\\textbf{{{city}}} between 2014 and 2019-07\".replace(\"_\",\"\\-\"))\n",
    "\n",
    "#correlation--------\n",
    "\n",
    "def auto_correllation_plots(datformation, city, errors=False):\n",
    "    \n",
    "    prediction_path, stochastic, distr_name, mname = init_helper(datformation)\n",
    "    \n",
    "    timestamps, truevalues, preds = get_data(prediction_path)\n",
    "    \n",
    "    #TODO: fix naming scheme for this series\n",
    "    preds_mean = np.mean(preds,axis=-1)\n",
    "    \n",
    "    if errors==True:\n",
    "        preds_mean = truevalues[:len(preds_mean)] - preds_mean\n",
    "    \n",
    "    preds_mean = mlab.detrend(preds_mean, key='linear')\n",
    "    # Finding indexes to divide data into seasons\n",
    "    \n",
    "    \n",
    "    pd_timestamps = pd.DatetimeIndex(np.array(timestamps).astype('datetime64[s]') )\n",
    "    \n",
    "    fig, ax1 = plt.subplots(1,1 )\n",
    "    maxl = 94\n",
    "    ax1.acorr(preds_mean,usevlines=True, maxlags=maxl, normed=True, lw=2)\n",
    "    ax1.axhline(y=0.05, color='r', linestyle='--',label='y=0.05')\n",
    "    \n",
    "    ax1.set_xlim([1,maxl])\n",
    "    ax1.set_ylim([-0.1,0.40])\n",
    "    ax1.set_xlabel('Lags')\n",
    "    ax1.set_title(f\"{city}\")\n",
    "    \n",
    "    ax1.legend()\n",
    "    ax1.grid(True)\n",
    "    \n",
    "    \n",
    "    if os.path.isdir(prediction_path):\n",
    "        _buf = prediction_path+\"/acf_{city}\"\n",
    "    else:\n",
    "        _dir = os.path.dirname(prediction_path)\n",
    "        _buf = _dir+f\"/acf_{city}\"\n",
    "    \n",
    "    if errors:\n",
    "        _buf += \"_errors.png\"\n",
    "    else:\n",
    "        _buf += \"_preds.png\"\n",
    "        \n",
    "    plt.savefig(_buf)\n",
    "    plt.show()\n",
    "\n",
    "def cross_correllation_plots(li_datformation, cities, errors=False):\n",
    "    \n",
    "    \"\"\" Pass in 2 cities, 1st city is base city\"\"\"\n",
    "    \n",
    "    li_info = [ init_helper(datformation) for datformation in li_datformation ] #prediction_path, stochastic, distr_name, mname = init_helper(datformation)\n",
    "    \n",
    "    li_ts_tv_ps = [ get_data(info[0]) for info in li_info ] #(timestamps, truevalues, preds)\n",
    "    \n",
    "    li_city_preds = [ (city,np.mean(ts_tv_ps[2],axis=-1) ) for city,ts_tv_ps in zip(cities,li_ts_tv_ps)  ]\n",
    "    \n",
    "    \n",
    "    fig, ax1 = plt.subplots(1,1)\n",
    "    #fig.canvas.set_title('Cross Correlations')\n",
    "    \n",
    "    maxl = 40\n",
    "    if errors:\n",
    "        x1 = li_ts_tv_ps[0][1] - li_city_preds[0][1]\n",
    "        x2 = li_ts_tv_ps[1][1] - li_city_preds[1][1]\n",
    "    else:\n",
    "        x1 = li_city_preds[0][1]\n",
    "        x2 = li_city_preds[1][1]\n",
    "        \n",
    "    ax1.xcorr( x1, x2, maxlags=maxl, normed=True ,lw=2, detrend=mlab.detrend_linear )\n",
    "\n",
    "    ax1.axhline(y=0.05, color='r', linestyle='--', label='y=0.05')\n",
    "    ax1.legend()\n",
    "    ax1.grid(True)\n",
    "    ax1.set_xlim([-1,maxl])\n",
    "    ax1.set_ylim([-0.1,1])\n",
    "    ax1.set_xlabel('Lags')\n",
    "    ax1.set_title(f'XCF: {li_city_preds[0][0]}-{li_city_preds[1][0]}')\n",
    "    \n",
    "    prediction_path = li_info[0][0]\n",
    "    if os.path.isdir(prediction_path):\n",
    "        _buf = prediction_path+\"/xcf_{city}\"\n",
    "    else:\n",
    "        _dir = os.path.dirname(prediction_path)\n",
    "        _buf = _dir+f\"/xcf_{cities[0]}_{cities[1]}\"\n",
    "    \n",
    "    if errors:\n",
    "        _buf += \"_errors.png\"\n",
    "    else:\n",
    "        _buf += \"_preds.png\"\n",
    "        \n",
    "    plt.savefig(_buf)\n",
    "    plt.close()\n",
    "    \n",
    "        \n",
    "    return np.corrcoef([x1,x2])[0,1]\n",
    "\n",
    "def decade_by_decade_eval(datformation,city):\n",
    "    \n",
    "    # Retrive predictions, true_values and dates\n",
    "    \n",
    "    prediction_path, stochastic, distr_name, mname = init_helper(datformation)\n",
    "    \n",
    "    timestamps, truevalues, preds = get_data(prediction_path)\n",
    "    preds_mean = np.mean(preds,axis=-1)\n",
    "    \n",
    "    # Finding indexes to divide data into decades\n",
    "    \n",
    "    \n",
    "    pd_timestamps = pd.DatetimeIndex(np.array(timestamps).astype('datetime64[s]') )\n",
    "    \n",
    "    #print(pd_timestamps)\n",
    "    \n",
    "    decades = [\"2000s\",\"2010s\"]\n",
    "    \n",
    "    arr_decades, bins = pd.cut( pd_timestamps.year,\n",
    "                                   [1999,2010,2020],labels=decades, right=False,\n",
    "                                      include_lowest=True, retbins=True)\n",
    "    \n",
    "    # Adding summary statistics\n",
    "    dict_s_boolindc = {}\n",
    "    df_decade_summary = pd.DataFrame(columns=['RMSE','R10RMSE','Avg Abs Bias', 'Avg Pred', 'Avg Obs' ])\n",
    "\n",
    "    for idx, decade in enumerate(decades):\n",
    "        bool_indc = (arr_decades == decade)\n",
    "                \n",
    "        decades_preds_mean = preds_mean[bool_indc]\n",
    "        decades_obs = truevalues[bool_indc]\n",
    "                \n",
    "        rmse = rmse_aggregate(decades_preds_mean,decades_obs)\n",
    "        r10rmse, _ = rN_aggregate(decades_preds_mean,decades_obs,10)\n",
    "        avgabsbias = avg_abs_bias(decades_preds_mean, decades_obs)\n",
    "        avg_pred_rain = np.mean(decades_preds_mean)\n",
    "        avg_true_rain = np.mean(decades_obs)\n",
    "        \n",
    "        df_decade_summary = df_decade_summary.append( pd.Series( { 'RMSE':rmse ,'R10RMSE':r10rmse,'Avg Abs Bias':avgabsbias, 'Avg Pred':avg_pred_rain, 'Avg Obs':avg_true_rain } ).rename(decade) )\n",
    "    \n",
    "    df_decade_summary.index.name = \"Decade\"\n",
    "    print(df_decade_summary)\n",
    "    \n",
    "    if os.path.isdir(prediction_path):\n",
    "        _buf = prediction_path+f\"/decade_summary_stats{city}.tex\"\n",
    "    else:\n",
    "        _dir = os.path.dirname(prediction_path)\n",
    "        _buf = _dir+f\"/decade_summary_stats{city}.tex\"\n",
    "\n",
    "    df_decade_summary.to_latex( buf=_buf,  float_format=\"{:0.3f}\".format, caption=f\"Decade aggregated Performance Metrics for {mname} trained on data \\\n",
    "                               between 1979 and 1999 and tested on the $7.1 {{\\\\times}} 10^3$ $\\mathrm{{km}}^2$ region around \\\\textbf{{{city}}} between 2000 and 2019-07\".replace(\"_\",\"\\-\"))"
   ]
  },
  {
   "cell_type": "markdown",
   "metadata": {},
   "source": [
    "# Multi-Model: Generic Evaluation w/ Seasonal Breakdown "
   ]
  },
  {
   "cell_type": "code",
   "execution_count": 9,
   "metadata": {
    "ExecuteTime": {
     "end_time": "2020-06-30T17:06:37.979078Z",
     "start_time": "2020-06-30T17:06:37.920492Z"
    }
   },
   "outputs": [
    {
     "ename": "ValueError",
     "evalue": "Invalid File passed",
     "output_type": "error",
     "traceback": [
      "\u001b[0;31m---------------------------------------------------------------------------\u001b[0m",
      "\u001b[0;31mValueError\u001b[0m                                Traceback (most recent call last)",
      "\u001b[0;32m<ipython-input-9-ae29215b02c3>\u001b[0m in \u001b[0;36m<module>\u001b[0;34m\u001b[0m\n\u001b[1;32m     20\u001b[0m     \u001b[0minfo_dict\u001b[0m \u001b[0;34m=\u001b[0m \u001b[0;34m{\u001b[0m\u001b[0;34m\"fp\"\u001b[0m\u001b[0;34m:\u001b[0m \u001b[0mfp\u001b[0m\u001b[0;34m,\u001b[0m \u001b[0;34m\"stochastic\"\u001b[0m\u001b[0;34m:\u001b[0m\u001b[0;32mFalse\u001b[0m\u001b[0;34m,\u001b[0m \u001b[0;34m'distr_name'\u001b[0m\u001b[0;34m:\u001b[0m\u001b[0;34m\"Normal\"\u001b[0m\u001b[0;34m,\u001b[0m \u001b[0;34m\"model_name\"\u001b[0m\u001b[0;34m:\u001b[0m\u001b[0mmpn\u001b[0m\u001b[0;34m}\u001b[0m\u001b[0;34m\u001b[0m\u001b[0;34m\u001b[0m\u001b[0m\n\u001b[1;32m     21\u001b[0m \u001b[0;34m\u001b[0m\u001b[0m\n\u001b[0;32m---> 22\u001b[0;31m     \u001b[0mdict_scores_seasons\u001b[0m \u001b[0;34m=\u001b[0m \u001b[0msummary_stat_seasonal\u001b[0m\u001b[0;34m(\u001b[0m\u001b[0minfo_dict\u001b[0m\u001b[0;34m,\u001b[0m \u001b[0mmethod\u001b[0m\u001b[0;34m=\u001b[0m\u001b[0;34m\"experiment1\"\u001b[0m \u001b[0;34m)\u001b[0m \u001b[0;31m#RMSE, R10RMSE, Avg. Bias, avg Pred, avg. Observerd per season. dict for each model, with a row for each season\u001b[0m\u001b[0;34m\u001b[0m\u001b[0;34m\u001b[0m\u001b[0m\n\u001b[0m\u001b[1;32m     23\u001b[0m     \u001b[0mprint\u001b[0m\u001b[0;34m(\u001b[0m\u001b[0mdict_scores_seasons\u001b[0m\u001b[0;34m)\u001b[0m\u001b[0;34m\u001b[0m\u001b[0;34m\u001b[0m\u001b[0m\n\u001b[1;32m     24\u001b[0m     \u001b[0;31m#Create pandas dataframe with multi-idnex, index=(model_name,season)\u001b[0m\u001b[0;34m\u001b[0m\u001b[0;34m\u001b[0m\u001b[0;34m\u001b[0m\u001b[0m\n",
      "\u001b[0;32m<ipython-input-8-8d2fab1a997b>\u001b[0m in \u001b[0;36msummary_stat_seasonal\u001b[0;34m(datformation, city, method)\u001b[0m\n\u001b[1;32m    381\u001b[0m     \u001b[0mprediction_path\u001b[0m\u001b[0;34m,\u001b[0m \u001b[0mstochastic\u001b[0m\u001b[0;34m,\u001b[0m \u001b[0mdistr_name\u001b[0m\u001b[0;34m,\u001b[0m \u001b[0mmname\u001b[0m \u001b[0;34m=\u001b[0m \u001b[0minit_helper\u001b[0m\u001b[0;34m(\u001b[0m\u001b[0mdatformation\u001b[0m\u001b[0;34m)\u001b[0m\u001b[0;34m\u001b[0m\u001b[0;34m\u001b[0m\u001b[0m\n\u001b[1;32m    382\u001b[0m \u001b[0;34m\u001b[0m\u001b[0m\n\u001b[0;32m--> 383\u001b[0;31m     \u001b[0mtimestamps\u001b[0m\u001b[0;34m,\u001b[0m \u001b[0mtruevalues\u001b[0m\u001b[0;34m,\u001b[0m \u001b[0mpreds\u001b[0m \u001b[0;34m=\u001b[0m \u001b[0mget_data\u001b[0m\u001b[0;34m(\u001b[0m\u001b[0mprediction_path\u001b[0m\u001b[0;34m)\u001b[0m\u001b[0;34m\u001b[0m\u001b[0;34m\u001b[0m\u001b[0m\n\u001b[0m\u001b[1;32m    384\u001b[0m     \u001b[0mpreds_mean\u001b[0m \u001b[0;34m=\u001b[0m \u001b[0mnp\u001b[0m\u001b[0;34m.\u001b[0m\u001b[0mmean\u001b[0m\u001b[0;34m(\u001b[0m\u001b[0mpreds\u001b[0m\u001b[0;34m,\u001b[0m\u001b[0maxis\u001b[0m\u001b[0;34m=\u001b[0m\u001b[0;34m-\u001b[0m\u001b[0;36m1\u001b[0m\u001b[0;34m)\u001b[0m\u001b[0;34m\u001b[0m\u001b[0;34m\u001b[0m\u001b[0m\n\u001b[1;32m    385\u001b[0m \u001b[0;34m\u001b[0m\u001b[0m\n",
      "\u001b[0;32m<ipython-input-8-8d2fab1a997b>\u001b[0m in \u001b[0;36mget_data\u001b[0;34m(prediction_path, multiple_files)\u001b[0m\n\u001b[1;32m    118\u001b[0m \u001b[0;34m\u001b[0m\u001b[0m\n\u001b[1;32m    119\u001b[0m \u001b[0;34m\u001b[0m\u001b[0m\n\u001b[0;32m--> 120\u001b[0;31m     \u001b[0mli_data\u001b[0m \u001b[0;34m=\u001b[0m \u001b[0mlist\u001b[0m\u001b[0;34m(\u001b[0m\u001b[0mload_predictions_gen\u001b[0m\u001b[0;34m(\u001b[0m\u001b[0mprediction_path\u001b[0m\u001b[0;34m)\u001b[0m\u001b[0;34m)\u001b[0m\u001b[0;34m\u001b[0m\u001b[0;34m\u001b[0m\u001b[0m\n\u001b[0m\u001b[1;32m    121\u001b[0m \u001b[0;34m\u001b[0m\u001b[0m\n\u001b[1;32m    122\u001b[0m     \u001b[0mli_ts_tv_ps\u001b[0m \u001b[0;34m=\u001b[0m \u001b[0;34m[\u001b[0m\u001b[0;34m]\u001b[0m\u001b[0;34m\u001b[0m\u001b[0;34m\u001b[0m\u001b[0m\n",
      "\u001b[0;32m<ipython-input-7-7f18f9f373fe>\u001b[0m in \u001b[0;36mload_predictions_gen\u001b[0;34m(_path_pred)\u001b[0m\n\u001b[1;32m     37\u001b[0m \u001b[0;34m\u001b[0m\u001b[0m\n\u001b[1;32m     38\u001b[0m     \u001b[0;32melse\u001b[0m\u001b[0;34m:\u001b[0m\u001b[0;34m\u001b[0m\u001b[0;34m\u001b[0m\u001b[0m\n\u001b[0;32m---> 39\u001b[0;31m         \u001b[0;32mraise\u001b[0m \u001b[0mValueError\u001b[0m\u001b[0;34m(\u001b[0m\u001b[0;34m\"Invalid File passed\"\u001b[0m\u001b[0;34m)\u001b[0m\u001b[0;34m\u001b[0m\u001b[0;34m\u001b[0m\u001b[0m\n\u001b[0m\u001b[1;32m     40\u001b[0m \u001b[0;34m\u001b[0m\u001b[0m\n\u001b[1;32m     41\u001b[0m     \u001b[0mli_pred_fns\u001b[0m\u001b[0;34m.\u001b[0m\u001b[0msort\u001b[0m\u001b[0;34m(\u001b[0m\u001b[0;34m)\u001b[0m\u001b[0;34m\u001b[0m\u001b[0;34m\u001b[0m\u001b[0m\n",
      "\u001b[0;31mValueError\u001b[0m: Invalid File passed"
     ]
    }
   ],
   "source": [
    "model_names = [\"ConvGRU\",\"ConvGRU CC Normal\",\"TRU-NET\",\"TRU-NET CC Normal\", \"IFS\" ]\n",
    "models_path_name = [\"SimpleConvGRU_mc_dropout_Normal_False\", \"SimpleConvGRU_mc_dropout_Normal_True\", \"TRUNET_mc_dropout_Normal_False\",\"TRUNET_mc_dropout_Normal_True\",\"ERA5/preds\"]\n",
    "locs_train = [\"Car_Lon_Gla_Bir_Lan_Man_Liv_Bra_Edi_Lee_Dub_Nor_Tru_New_Ply_Ban\"]*4 + [\"\"]\n",
    "locs_test = [\"All\"]*5\n",
    "\n",
    "_dir = \"./Output/Experiment1\"\n",
    "os.makedirs(_dir, exist_ok=True)\n",
    "\n",
    "#general scores and year by year break down\n",
    "\n",
    "li_scores_seasons = []\n",
    "for mn, mpn, loc_train, loc_test in zip(model_names,models_path_name, locs_train, locs_test):\n",
    "    \n",
    "    if mn==\"IFS\"\n",
    "        fp = f\"Output/ERA5/preds/{loc_test}_2014_2019-05-14regional_pred.dat\"\n",
    "    else:\n",
    "        fp = f\"Output/{mpn}_{loc_train}_{loc_test}_test2014_2019-07-02/Predictions/_regional.dat\"\n",
    "        \n",
    "    info_dict = {\"fp\": fp, \"stochastic\":False, 'distr_name':None, \"model_name\":mpn}\n",
    "    \n",
    "    dict_scores_seasons = summary_stat_seasonal(info_dict, method=\"experiment1\" ) #RMSE, R10RMSE, Avg. Bias, avg Pred, avg. Observerd per season. dict for each model, with a row for each season\n",
    "    print(dict_scores_seasons)\n",
    "    #Create pandas dataframe with multi-idnex, index=(model_name,season)\n",
    "    \n",
    "    li_scores_seasons.append( dict_scores_seasons )\n",
    "\n",
    "df_seasons = pd.DataFrame(li_scores_seasons)\n",
    "\n",
    "\n",
    "\n",
    "# Printing seperate tables for each Season\n",
    "for season in df_season.index.level[0]:\n",
    "    df_season = df_seasons.rename_axis([\"lvl0\", \"lvl1\"])\n",
    "    df_season = df_season.query(f\"lvl0 == {season}\")\n",
    "    df_season = df_season.droplevel(0,axis=0)\n",
    "    \n",
    "    print(df_season)\n",
    "    df_season.to_latex( buf=os.path.dirname(_dir+f\"/evalution_table_{season}.tex\",  float_format=\"{:0.3f}\".format, caption=f\"{season}\") )\n",
    "\n",
    "    \n"
   ]
  },
  {
   "cell_type": "markdown",
   "metadata": {
    "heading_collapsed": true
   },
   "source": [
    "# Single Model: Generic Evaluation"
   ]
  },
  {
   "cell_type": "code",
   "execution_count": null,
   "metadata": {
    "ExecuteTime": {
     "end_time": "2020-06-17T22:37:22.503220Z",
     "start_time": "2020-06-17T22:37:22.149233Z"
    },
    "hidden": true
   },
   "outputs": [],
   "source": [
    "city=\"London\"\n",
    "temp = {\"fp\": f\"./THST_mc_dropout_Normal_True__{city}_train1979_2007_2007_2013_test1987-10-20_1990/Predictions/local.dat\", \"stochastic\":True, 'distr_name':\"Normal\", \"model_name\":\"TRU-NET CC Normal\"}   \n",
    "temp = {\"fp\": f\"./THST_mc_dropout_Normal_True_Cardiff_London_Glasgow_Birmingham_Lancaster_Manchester_Liverpool_Bradford_Edinburgh_Leeds_Dublin_v145London_tst_0.7_iim_linear/Predictions/CDates2014-01-01_2019-07-04/1388534400___1557792000pt0.500.dat\", \"stochastic\":True, 'distr_name':\"Normal\", \"model_name\":\"TRU-NET CC Normal\"}   \n",
    "a = model_evaluation(temp, rolling_anual=False )    \n"
   ]
  },
  {
   "cell_type": "code",
   "execution_count": null,
   "metadata": {
    "ExecuteTime": {
     "end_time": "2020-06-17T22:39:05.548758Z",
     "start_time": "2020-06-17T22:39:05.183506Z"
    },
    "hidden": true
   },
   "outputs": [],
   "source": [
    "temp = {\"fp\": f\"./THST_mc_dropout_Normal_True__London_train1979_2007_2007_2013_test2014_2019-07-02/Predictions/local.dat\", \"stochastic\":True, 'distr_name':\"Normal\", \"model_name\":\"TRU-NET CC Normal\"}   \n",
    "a = model_evaluation(temp, rolling_anual=False )    "
   ]
  },
  {
   "cell_type": "markdown",
   "metadata": {
    "heading_collapsed": true,
    "hidden": true
   },
   "source": [
    "## Comparison of 2 Models"
   ]
  },
  {
   "cell_type": "code",
   "execution_count": null,
   "metadata": {
    "ExecuteTime": {
     "end_time": "2020-06-18T04:15:12.669103Z",
     "start_time": "2020-06-18T04:15:08.654463Z"
    },
    "code_folding": [],
    "hidden": true
   },
   "outputs": [],
   "source": [
    "dict_prediction_path = {}\n",
    "city = \"London\"\n",
    "temp1 = { \"IFS\":\n",
    "        {\"fp\":f\"ERA5/preds/{city}_2014-01-01_2019-07-04_pred_true.dat\", \"stochastic\":False, 'distr_name':None},         \n",
    "}\n",
    "\n",
    "temp1 = { \"T-NET+CC-N old preds\":\n",
    "        {\"fp\":f\"./THST_mc_dropout_Normal_True_Cardiff_London_Glasgow_Birmingham_Lancaster_Manchester_Liverpool_Bradford_Edinburgh_Leeds_Dublin_v145{city}_tst_0.7_iim_linear/Predictions/CDates2014-01-01_2019-07-04/\", \n",
    "                 \"stochastic\":False, 'distr_name':None},       \n",
    "}\n",
    "\n",
    "temp2 = { \"T-NET+CC-N new preds\":\n",
    "{\"fp\": f\"./THST_mc_dropout_Normal_True__{city}_train1979_2007_2007_2013_test2014_2019-07-02/Predictions/local.dat\", \"stochastic\":False, 'distr_name':None, \"model_name\":\"TRU-NET CC Normal\"},       \n",
    "}\n",
    "\n",
    "dict_prediction_path.update(temp1)\n",
    "dict_prediction_path.update(temp2)\n",
    "name1 = \"IFS\"\n",
    "name2 = \"T-NET+CC-N\"\n",
    "\n",
    "#pp1, stoch1, distr_name1  = init_helper(dict_prediction_path['SimpleLSTM_MCDropout_LogNormal_21'])\n",
    "pp1,stoch1, distr_name1, mname = init_helper(list(temp1.values())[0])\n",
    "pp2,stoch2, distr_name2, mname = init_helper(list(temp2.values())[0])\n",
    "\n",
    "ts1, true_val1, preds1 = get_data(pp1)\n",
    "ts2, true_val2, preds2 = get_data(pp2)\n",
    "\n",
    "stride = 120\n",
    "\n",
    "    \n",
    "for idx in range(0,len(ts2),stride):\n",
    "    li_tss = [ ts1[idx:idx+stride], ts2[idx:idx+stride] ]\n",
    "    \n",
    "    li_preds = [ preds1[idx:idx+stride,:], preds2[idx:idx+stride, :] ]\n",
    "    \n",
    "    li_true_val= [true_val1[idx:idx+stride], true_val2[idx:idx+stride] ]\n",
    "    \n",
    "    li_conf  = [0.9, 0.9 ]\n",
    "    \n",
    "    \n",
    "    li_distr_names= [ distr_name1, distr_name2]\n",
    "    image_all_preds_compare(li_tss, li_true_val, li_preds,\n",
    "                       li_conf, li_distr_names, names=[ list(temp1.keys())[0], list(temp2.keys())[0] ], figsize=(20, 8) )"
   ]
  },
  {
   "cell_type": "markdown",
   "metadata": {
    "ExecuteTime": {
     "end_time": "2020-05-15T13:44:35.465100Z",
     "start_time": "2020-05-15T13:44:35.462828Z"
    },
    "heading_collapsed": true,
    "hidden": true
   },
   "source": [
    "## Rollign 2 Year Eval"
   ]
  },
  {
   "cell_type": "code",
   "execution_count": null,
   "metadata": {
    "ExecuteTime": {
     "end_time": "2020-05-22T20:32:10.352226Z",
     "start_time": "2020-05-22T20:32:09.438422Z"
    },
    "hidden": true
   },
   "outputs": [],
   "source": [
    "# temp = { \"temp\":{\"fp\":\"./THST_mc_dropout_Normal_True_Cardiff_London_Glasgow_Birmingham_Lancaster_Manchester_Liverpool_Bradford_Edinburgh_Leeds_Dublin_v145/Predictions/R2yt\", \"stochastic\":True, 'distr_name':\"Normal\"},         \n",
    "# }\n",
    "temp = { \"temp\":{\"fp\":\"./THST_mc_dropout_Normal_True_Cardiff_London_Glasgow_Birmingham_Lancaster_Manchester_Liverpool_Bradford_Edinburgh_Leeds_Dublin_v145Manchester_tst_0.5_iim_linear/Predictions/R2yt\", \"stochastic\":True, 'distr_name':\"Normal\"},         \n",
    "}\n",
    "dict_prediction_path.update(temp)\n",
    "model_evaluation( dict_prediction_path[\"temp\"], rolling_anual=True )    "
   ]
  },
  {
   "cell_type": "markdown",
   "metadata": {
    "heading_collapsed": true
   },
   "source": [
    "# Single Model: Varying Training Set Length Study\n"
   ]
  },
  {
   "cell_type": "code",
   "execution_count": null,
   "metadata": {
    "ExecuteTime": {
     "end_time": "2020-05-20T22:43:33.218094Z",
     "start_time": "2020-05-20T22:43:32.312164Z"
    },
    "hidden": true
   },
   "outputs": [],
   "source": [
    "temp = { \"temp\":{\"fp\":\"./THST_mc_dropout_Normal_True_Cardiff_London_Glasgow_Birmingham_Lancaster_Manchester_Liverpool_Bradford_Edinburgh_Leeds_Dublin_v145Cardiff_tst_0.1_iim_linear/Predictions/CDates2014-01-01_2019-07-04/\", \"stochastic\":True, 'distr_name':\"Normal\"},         \n",
    "}\n",
    "dict_prediction_path.update(temp)\n",
    "a = model_evaluation(dict_prediction_path[\"temp\"], rolling_anual=False )    "
   ]
  },
  {
   "cell_type": "markdown",
   "metadata": {},
   "source": [
    "# Single Model: Summary Statistics Season"
   ]
  },
  {
   "cell_type": "code",
   "execution_count": 52,
   "metadata": {
    "ExecuteTime": {
     "end_time": "2020-06-30T22:28:48.912383Z",
     "start_time": "2020-06-30T22:28:48.829752Z"
    }
   },
   "outputs": [
    {
     "name": "stdout",
     "output_type": "stream",
     "text": [
      "            RMSE  R10 RMSE  Avg Abs Bias  Avg Pred   Avg Obs\n",
      "Winter  3.485583  6.564246      2.080812  3.529143  3.519865\n",
      "Spring  3.313483  6.643963      1.869658  2.923099  2.196332\n",
      "Summer  3.735393  7.769362      1.967403  2.813515  2.468111\n",
      "Autumn  3.700992  8.408101      2.098722  2.933118  2.790041\n",
      "All     3.551425  7.396065      2.000717  3.057401  2.742331\n",
      "\n",
      "\n",
      "            RMSE  R10 RMSE  Avg Abs Bias  Avg Pred   Avg Obs\n",
      "Winter  2.061007  4.582707      1.211265  2.071041  1.995980\n",
      "Spring  2.817175  8.193310      1.500260  2.175137  1.826507\n",
      "Summer  2.884481  6.805430      1.514701  2.170995  1.837323\n",
      "Autumn  2.661239  6.676178      1.455289  1.824535  1.699286\n",
      "All     2.620764  6.648919      1.418012  2.065689  1.843610\n",
      "\n",
      "\n",
      "            RMSE  R10 RMSE  Avg Abs Bias  Avg Pred   Avg Obs\n",
      "Winter  2.611071  7.768461      1.346856  1.943882  1.974485\n",
      "Spring  2.411337  6.829134      1.279958  1.854997  1.407617\n",
      "Summer  3.156357  9.786822      1.514926  2.079633  1.592609\n",
      "Autumn  2.771008  9.105118      1.362028  1.682887  1.763695\n",
      "All     2.735286  8.500032      1.371563  1.890892  1.681196\n",
      "\n",
      "\n",
      "            RMSE  R10 RMSE  Avg Abs Bias  Avg Pred   Avg Obs\n",
      "Winter  5.078680  9.478661      3.038580  4.493323  5.517966\n",
      "Spring  3.022914  7.171910      1.768075  2.865047  2.873306\n",
      "Summer  3.758392  7.412840      2.292647  3.593131  3.327364\n",
      "Autumn  4.128075  7.812045      2.479592  3.491900  4.053146\n",
      "All     4.059170  8.394015      2.386953  3.605127  3.941913\n",
      "\n",
      "\n",
      "            RMSE  R10 RMSE  Avg Abs Bias  Avg Pred   Avg Obs\n",
      "Winter  3.212189  7.222929      1.923925  3.234201  2.963689\n",
      "Spring  3.341732  7.958849      1.826986  2.772704  2.187851\n",
      "Summer  3.795073  9.243557      2.100620  3.052575  2.435014\n",
      "Autumn  3.373084  7.782656      1.933692  2.602027  2.695151\n",
      "All     3.428477  7.994043      1.941201  2.918850  2.565501\n",
      "\n",
      "\n"
     ]
    }
   ],
   "source": [
    "cities = [\"Cardiff\",\"Birmingham\",\"London\",\"Glasgow\",\"Manchester\"]\n",
    "#cities = [\"Birmingham\",\"London\"],\"Cardiff\",\"Glasgow\",\n",
    "for city in cities:\n",
    "    temp = {\"fp\": f\"Output/ERA5/preds/{city}_2014_2019-05-14regional_pred.dat\", 'distr_name':None, \"model_name\":\"IFS\"}    \n",
    "    summary_stat_seasonal( temp, city )\n",
    "    print(\"\\n\")"
   ]
  },
  {
   "cell_type": "markdown",
   "metadata": {
    "heading_collapsed": true
   },
   "source": [
    "# Multi Model: Correlations Evaluation"
   ]
  },
  {
   "cell_type": "code",
   "execution_count": 77,
   "metadata": {
    "ExecuteTime": {
     "end_time": "2020-06-18T08:47:36.322122Z",
     "start_time": "2020-06-18T08:47:35.534406Z"
    },
    "code_folding": [
     0
    ],
    "collapsed": true,
    "hidden": true
   },
   "outputs": [
    {
     "name": "stdout",
     "output_type": "stream",
     "text": [
      "\n",
      "\n"
     ]
    },
    {
     "data": {
      "image/png": "[encoded data removed]",
      "text/plain": [
       "<Figure size 432x288 with 1 Axes>"
      ]
     },
     "metadata": {
      "needs_background": "light"
     },
     "output_type": "display_data"
    },
    {
     "name": "stdout",
     "output_type": "stream",
     "text": [
      "\n",
      "\n"
     ]
    },
    {
     "data": {
      "image/png": "[encoded data removed]",
      "text/plain": [
       "<Figure size 432x288 with 1 Axes>"
      ]
     },
     "metadata": {
      "needs_background": "light"
     },
     "output_type": "display_data"
    },
    {
     "name": "stdout",
     "output_type": "stream",
     "text": [
      "\n",
      "\n"
     ]
    },
    {
     "data": {
      "image/png": "[encoded data removed]",
      "text/plain": [
       "<Figure size 432x288 with 1 Axes>"
      ]
     },
     "metadata": {
      "needs_background": "light"
     },
     "output_type": "display_data"
    },
    {
     "name": "stdout",
     "output_type": "stream",
     "text": [
      "\n",
      "\n"
     ]
    },
    {
     "data": {
      "image/png": "[encoded data removed]",
      "text/plain": [
       "<Figure size 432x288 with 1 Axes>"
      ]
     },
     "metadata": {
      "needs_background": "light"
     },
     "output_type": "display_data"
    },
    {
     "name": "stdout",
     "output_type": "stream",
     "text": [
      "\n",
      "\n"
     ]
    },
    {
     "data": {
      "image/png": "[encoded data removed]",
      "text/plain": [
       "<Figure size 432x288 with 1 Axes>"
      ]
     },
     "metadata": {
      "needs_background": "light"
     },
     "output_type": "display_data"
    }
   ],
   "source": [
    "#auto-correlation for point predictions for center point of cities\n",
    "\n",
    "cities = [\"Cardiff\",\"London\",\"Birmingham\",\"Glasgow\",\"Manchester\"]\n",
    "for city in cities:\n",
    "    temp = {\"fp\": f\"./THST_mc_dropout_Normal_True__{city}_train1979_2007_2007_2013_test2014_2019-07-02/Predictions/local.dat\", \"stochastic\":True, 'distr_name':\"Normal\", \"model_name\":\"TRU-NET CC Normal\"}   \n",
    "    print(\"\\n\")\n",
    "    \n",
    "    auto_correllation_plots( temp, city, errors=True )"
   ]
  },
  {
   "cell_type": "code",
   "execution_count": 165,
   "metadata": {
    "ExecuteTime": {
     "end_time": "2020-06-18T11:56:59.377117Z",
     "start_time": "2020-06-18T11:56:58.891236Z"
    },
    "code_folding": [
     0
    ],
    "collapsed": true,
    "hidden": true
   },
   "outputs": [
    {
     "name": "stdout",
     "output_type": "stream",
     "text": [
      "\n",
      "\n",
      "\n",
      "\n",
      "\n",
      "\n",
      "\n",
      "\n",
      "\n",
      "\n",
      "\n",
      "\n"
     ]
    }
   ],
   "source": [
    "#cross-correlation for predictions for center point of cities\n",
    "\n",
    "main_city_name = \"Leeds\"\n",
    "comparison_cities = [\"Bradford\",\"Manchester\",\"Liverpool\",\"Edinburgh\",\"London\",\"Cardiff\"]\n",
    "\n",
    "main_city = {\"fp\": f\"./THST_mc_dropout_Normal_True__{main_city_name}_train1979_2007_2007_2013_test2014_2019-07-02/Predictions/local.dat\", \"stochastic\":True, 'distr_name':\"Normal\", \"model_name\":\"TRU-NET CC Normal\"}   \n",
    "\n",
    "pd_acfl1 = pd.DataFrame(columns=comparison_cities)\n",
    "\n",
    "for city_name in comparison_cities:\n",
    "    temp = {\"fp\": f\"./THST_mc_dropout_Normal_True__{city_name}_train1979_2007_2007_2013_test2014_2019-07-02/Predictions/local.dat\", \"stochastic\":True, 'distr_name':\"Normal\", \"model_name\":\"TRU-NET CC Normal\"}   \n",
    "    print(\"\\n\")\n",
    "    \n",
    "    lag0_acf = cross_correllation_plots( [main_city,temp], [main_city_name, city_name] )\n",
    "    \n",
    "    pd_acfl1[city_name] = [lag0_acf]\n",
    "pd_acfl1.index.name =\"Lag\"\n",
    "pd_acfl1.to_latex( buf=os.path.dirname(main_city['fp'])+\"/x_corr_preds_table.tex\",  float_format=\"{:0.3f}\".format, caption=f\"Lag 0 Cross Corellation for {main_city['model_name']} point predictions for {main_city_name} and {city_name}. \\\n",
    "                        {main_city['model_name']} was trained on data \\\n",
    "                           between 1979 and 2013 and tested on the relevant $7.1 {{\\\\times}} 10^3$ $\\mathrm{{km}}^2$ regions between 2014 and 2019-07\".replace(\"_\",\"\\-\"))"
   ]
  },
  {
   "cell_type": "code",
   "execution_count": null,
   "metadata": {
    "code_folding": [
     0
    ],
    "hidden": true
   },
   "outputs": [],
   "source": [
    "#auto-correlation for point prediction errors for center point of cities\n",
    "cities = [\"Cardiff\",\"London\",\"Birmingham\",\"Glasgow\",\"Manchester\"]\n",
    "for city in cities:\n",
    "    temp = {\"fp\": f\"./THST_mc_dropout_Normal_True__{city}_train1979_2007_2007_2013_test2014_2019-07-02/Predictions/local.dat\", \"stochastic\":True, 'distr_name':\"Normal\", \"model_name\":\"TRU-NET CC Normal\"}   \n",
    "    print(\"\\n\")\n",
    "    \n",
    "    auto_correllation_plots( temp, city, errors=True )"
   ]
  },
  {
   "cell_type": "code",
   "execution_count": 166,
   "metadata": {
    "ExecuteTime": {
     "end_time": "2020-06-18T11:57:01.352338Z",
     "start_time": "2020-06-18T11:57:00.890098Z"
    },
    "code_folding": [
     0
    ],
    "collapsed": true,
    "hidden": true
   },
   "outputs": [
    {
     "name": "stdout",
     "output_type": "stream",
     "text": [
      "\n",
      "\n",
      "\n",
      "\n",
      "\n",
      "\n",
      "\n",
      "\n",
      "\n",
      "\n",
      "\n",
      "\n"
     ]
    }
   ],
   "source": [
    "#cross-correlation for predictions errors for center point of cities\n",
    "main_city_name = \"Leeds\"\n",
    "comparison_cities = [\"Glasgow\",\"Manchester\",\"Liverpool\",\"London\",\"Cardiff\"]\n",
    "\n",
    "main_city = {\"fp\": f\"./THST_mc_dropout_Normal_True__{main_city_name}_train1979_2007_2007_2013_test2014_2019-07-02/Predictions/local.dat\", \"stochastic\":True, 'distr_name':\"Normal\", \"model_name\":\"TRU-NET CC Normal\"}   \n",
    "\n",
    "pd_acfl1 = pd.DataFrame(columns=comparison_cities)\n",
    "\n",
    "for city_name in comparison_cities:\n",
    "    temp = {\"fp\": f\"./THST_mc_dropout_Normal_True__{city_name}_train1979_2007_2007_2013_test2014_2019-07-02/Predictions/local.dat\", \"stochastic\":True, 'distr_name':\"Normal\", \"model_name\":\"TRU-NET CC Normal\"}   \n",
    "    print(\"\\n\")\n",
    "    \n",
    "    lag0_xcf = cross_correllation_plots( [main_city,temp], [main_city_name,city_name], errors=True )\n",
    "\n",
    "    pd_acfl1[city_name] = [lag0_xcf]\n",
    "        \n",
    "pd_acfl1.index.name =\"Lag\"\n",
    "\n",
    "pd_acfl1.to_latex( buf=os.path.dirname(main_city['fp'])+\"/x_corr_error_table.tex\",  float_format=\"{:0.3f}\".format, caption=f\"Lag 0 Cross Corellation for {main_city['model_name']} point predictions for {main_city_name} and {city_name}. \\\n",
    "                        {main_city['model_name']} was trained on data \\\n",
    "                           between 1979 and 2013 and tested on the relevant $7.1 {{\\\\times}} 10^3$ $\\mathrm{{km}}^2$ regions between 2014 and 2019-07\".replace(\"_\",\"\\-\"))"
   ]
  },
  {
   "cell_type": "markdown",
   "metadata": {
    "heading_collapsed": true
   },
   "source": [
    "# Single Model: Decade by Decade Evaluation"
   ]
  },
  {
   "cell_type": "code",
   "execution_count": 190,
   "metadata": {
    "ExecuteTime": {
     "end_time": "2020-06-18T13:19:30.564691Z",
     "start_time": "2020-06-18T13:19:30.460410Z"
    },
    "code_folding": [
     0
    ],
    "collapsed": true,
    "hidden": true
   },
   "outputs": [
    {
     "name": "stdout",
     "output_type": "stream",
     "text": [
      "            RMSE   R10RMSE  Avg Abs Bias  Avg Pred   Avg Obs\n",
      "Decade                                                      \n",
      "2000s   1.806742  4.534537      0.965318   2.42169  2.858970\n",
      "2010s   1.743586  4.109359      0.965924   2.37085  2.658513\n",
      "\n",
      "\n",
      "            RMSE   R10RMSE  Avg Abs Bias  Avg Pred  Avg Obs\n",
      "Decade                                                     \n",
      "2000s   1.853735  5.461151      0.942699  2.098647  1.88435\n",
      "2010s   1.751201  5.000668      0.934184  2.025523  1.71041\n",
      "\n",
      "\n",
      "            RMSE   R10RMSE  Avg Abs Bias  Avg Pred   Avg Obs\n",
      "Decade                                                      \n",
      "2000s   1.716340  4.769386      0.911566  2.266874  2.047490\n",
      "2010s   1.651417  4.399352      0.910807  2.162126  1.847739\n",
      "\n",
      "\n",
      "            RMSE   R10RMSE  Avg Abs Bias  Avg Pred   Avg Obs\n",
      "Decade                                                      \n",
      "2000s   2.569699  6.307909      1.411301  3.180131  3.674204\n",
      "2010s   2.694874  6.020890      1.559929  3.197420  4.020825\n",
      "\n",
      "\n",
      "            RMSE   R10RMSE  Avg Abs Bias  Avg Pred   Avg Obs\n",
      "Decade                                                      \n",
      "2000s   2.368604  6.262299      1.297584  2.604758  2.808861\n",
      "2010s   2.211856  5.956906      1.251797  2.547206  2.631566\n",
      "\n",
      "\n"
     ]
    }
   ],
   "source": [
    "#decade by decade\n",
    "cities = [\"Cardiff\",\"London\",\"Birmingham\",\"Glasgow\",\"Manchester\"]\n",
    "for city in cities:\n",
    "    temp = {\"fp\": f\"./THST_mc_dropout_Normal_True__{city}_train1979_1995_1995_2000_test2000_2019-07-02/Predictions/_regional.dat\", \"stochastic\":True, 'distr_name':\"Normal\", \"model_name\":\"TRU-NET CC Normal\"}    \n",
    "    decade_by_decade_eval( temp, city )\n",
    "    print(\"\\n\")"
   ]
  }
 ],
 "metadata": {
  "kernelspec": {
   "display_name": "Python 3",
   "language": "python",
   "name": "python3"
  },
  "language_info": {
   "codemirror_mode": {
    "name": "ipython",
    "version": 3
   },
   "file_extension": ".py",
   "mimetype": "text/x-python",
   "name": "python",
   "nbconvert_exporter": "python",
   "pygments_lexer": "ipython3",
   "version": "3.7.5"
  },
  "varInspector": {
   "cols": {
    "lenName": 16,
    "lenType": 16,
    "lenVar": 40
   },
   "kernels_config": {
    "python": {
     "delete_cmd_postfix": "",
     "delete_cmd_prefix": "del ",
     "library": "var_list.py",
     "varRefreshCmd": "print(var_dic_list())"
    },
    "r": {
     "delete_cmd_postfix": ") ",
     "delete_cmd_prefix": "rm(",
     "library": "var_list.r",
     "varRefreshCmd": "cat(var_dic_list()) "
    }
   },
   "types_to_exclude": [
    "module",
    "function",
    "builtin_function_or_method",
    "instance",
    "_Feature"
   ],
   "window_display": false
  }
 },
 "nbformat": 4,
 "nbformat_minor": 2
}
