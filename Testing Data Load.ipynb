{
 "cells": [
  {
   "cell_type": "code",
   "execution_count": 18,
   "metadata": {
    "ExecuteTime": {
     "end_time": "2020-04-26T15:27:40.707862Z",
     "start_time": "2020-04-26T15:27:40.686519Z"
    }
   },
   "outputs": [
    {
     "data": {
      "text/html": [
       "<style>.container { width:100% !important; }</style>"
      ],
      "text/plain": [
       "<IPython.core.display.HTML object>"
      ]
     },
     "metadata": {},
     "output_type": "display_data"
    }
   ],
   "source": [
    "#import tensorflow as tf\n",
    "from IPython.core.display import display, HTML\n",
    "display(HTML(\"<style>.container { width:100% !important; }</style>\") )\n",
    "import numpy as np\n",
    "import netCDF4\n",
    "from netCDF4 import Dataset, num2date\n",
    "import data_generators\n",
    "import time\n",
    "import pygrib\n",
    "import pickle\n",
    "# import xarray as xr\n",
    "# import cfgrib\n",
    "# import pygrib\n",
    "\n",
    "\n",
    "fn_mf = \"Data/Rain_Data_Nov19/ana_input_1.nc\"\n",
    "fn_rain_Nov = \"Data/Rain_Data_Nov19/rr_ens_mean_0.1deg_reg_v20.0e_197901-201907_uk.nc\"\n",
    "fn_rain_Mar = \"Data/Rain_Data_Mar20/rr_ens_mean_0.1deg_reg_v20.0e_197901-201907_uk.nc\"\n",
    "\n",
    "#fn  = \"/home/u1862646/ATI/BNN/Data/Rain_Data_Nov19/rr_ens_mean_0.1deg_reg_v20.0e_197901-201907_uk.nc\" \n",
    "\n",
    "def ts_mkr( tss ):\n",
    "    x = [ time.strftime(\"%H:%M %d/%m/%y\", time.localtime(int(_val))) for _val in tss]\n",
    "    return x"
   ]
  },
  {
   "cell_type": "markdown",
   "metadata": {
    "ExecuteTime": {
     "end_time": "2020-04-21T13:22:42.656815Z",
     "start_time": "2020-04-21T13:22:42.655160Z"
    },
    "heading_collapsed": true
   },
   "source": [
    "# Making New netcdf4 file that follows old format"
   ]
  },
  {
   "cell_type": "markdown",
   "metadata": {
    "ExecuteTime": {
     "end_time": "2020-04-22T14:04:50.492562Z",
     "start_time": "2020-04-22T14:04:50.489551Z"
    },
    "hidden": true
   },
   "source": [
    "## Getting geopotential data from autoconverted grib file. Since the geopotential data was not correctly copied "
   ]
  },
  {
   "cell_type": "markdown",
   "metadata": {
    "ExecuteTime": {
     "end_time": "2020-04-21T12:04:14.177423Z",
     "start_time": "2020-04-21T12:04:14.175573Z"
    },
    "heading_collapsed": true,
    "hidden": true
   },
   "source": [
    "## Netcd4 file making"
   ]
  },
  {
   "cell_type": "code",
   "execution_count": 6,
   "metadata": {
    "ExecuteTime": {
     "end_time": "2020-04-23T00:15:00.434134Z",
     "start_time": "2020-04-23T00:15:00.430224Z"
    },
    "hidden": true
   },
   "outputs": [],
   "source": [
    "ds_new = Dataset( 'Data/Rain_Data_Mar20/ana_input.nc','r', format=\"NETCDF4\")"
   ]
  },
  {
   "cell_type": "code",
   "execution_count": 11,
   "metadata": {
    "ExecuteTime": {
     "end_time": "2020-04-23T00:16:08.201625Z",
     "start_time": "2020-04-23T00:16:08.194002Z"
    },
    "hidden": true
   },
   "outputs": [],
   "source": [
    "a = ds_new.variables['time'][0].data"
   ]
  },
  {
   "cell_type": "code",
   "execution_count": 13,
   "metadata": {
    "ExecuteTime": {
     "end_time": "2020-04-23T00:16:18.644638Z",
     "start_time": "2020-04-23T00:16:18.635897Z"
    },
    "hidden": true
   },
   "outputs": [
    {
     "data": {
      "text/plain": [
       "283996801.0"
      ]
     },
     "execution_count": 13,
     "metadata": {},
     "output_type": "execute_result"
    }
   ],
   "source": [
    "a+1"
   ]
  },
  {
   "cell_type": "code",
   "execution_count": 4,
   "metadata": {
    "ExecuteTime": {
     "end_time": "2020-04-22T22:07:30.999564Z",
     "start_time": "2020-04-22T22:07:29.795389Z"
    },
    "hidden": true
   },
   "outputs": [
    {
     "name": "stdout",
     "output_type": "stream",
     "text": [
      "AutoConv keys:dict_keys(['number', 'time', 'step', 'surface', 'latitude', 'longitude', 'valid_time', 'tcwv', 'isobaricInhPa', 't', 'q', 'u', 'v'])\n",
      "Old keys:dict_keys(['unknown_local_param_137_128', 'latitude_longitude', 'time', 'latitude', 'longitude', 'forecast_period', 'originating_centre', 'unknown_local_param_133_128', 'pressure', 'air_temperature', 'geopotential', 'pressure_0', 'x_wind', 'y_wind'])\n"
     ]
    }
   ],
   "source": [
    "ds_autoconv = Dataset( 'Data/Rain_Data_Mar20/archive/ana_cpdn_combined.nc', \"r+\", format=\"NETCDF4\" ) #The dataset made by using cdo to convert from grib to cdf, this is missing the geopotential file\n",
    "ds_old = Dataset( 'Data/Rain_Data_Nov19/ana_input.nc', \"r\", format=\"NETCDF4\" ) #The dataset used in nov19 folder for model field data\n",
    "ds_new = Dataset( 'Data/Rain_Data_Mar20/ana_input_new.nc','w', format=\"NETCDF4\")\n",
    "\n",
    "print( \"AutoConv keys:{}\".format(ds_autoconv.variables.keys()))\n",
    "print( \"Old keys:{}\".format(ds_old.variables.keys()))\n",
    "\n",
    "#Creating new Dimensions\n",
    "ds_new.createDimension('time', 59900)\n",
    "ds_new.createDimension('latitude', 20)\n",
    "ds_new.createDimension('longitude', 21)\n",
    "\n",
    "#formatting all variables to conform with old dataset\n",
    "\n",
    "#geopotential\n",
    "    # Adding new Geopotential Data\n",
    "geo_data = pickle.load(open(\"Data/Rain_Data_Mar20/archive/geopotential.np\",\"rb\")  )\n",
    "ds_new.createVariable('geopotential','float64', dimensions=('time', 'latitude', 'longitude'), fill_value=9.969209968386869e+36 )\n",
    "ds_new.variables['geopotential'][:] = geo_data\n",
    "\n",
    "ds_new.variables['geopotential'].standard_name = \"geopotential\"\n",
    "ds_new.variables['geopotential'].long_name = \"geopotential\"\n",
    "ds_new.variables['geopotential'].units = \"m2 s-2\"\n",
    "ds_new.variables['geopotential'].grid_mapping = \"latitude_longitude\"\n",
    "\n",
    "del geo_data\n",
    "\n",
    "#y_wind\n",
    "ds_new.createVariable('y_wind', 'float64', dimensions=('time', 'latitude', 'longitude'), fill_value=9.969209968386869e+36  )\n",
    "ds_new.variables['y_wind'].standard_name = \"y_wind\"\n",
    "ds_new.variables['y_wind'].long_name = \"y_wind\"\n",
    "ds_new.variables['y_wind'].units = \"m s-1\"\n",
    "ds_new.variables['y_wind'][:] =  ds_autoconv.variables['v'][:]\n",
    "\n",
    "#x_wind\n",
    "ds_new.createVariable('x_wind', 'float64', dimensions=('time', 'latitude', 'longitude'), fill_value=9.969209968386869e+36 )\n",
    "ds_new.variables['x_wind'].standard_name = \"x_wind\"\n",
    "ds_new.variables['x_wind'].long_name = \"x_wind\"\n",
    "ds_new.variables['x_wind'].units = \"m s-1\"\n",
    "ds_new.variables['x_wind'][:] =  ds_autoconv.variables['u'][:]\n",
    "\n",
    "#time\n",
    "ds_new.createVariable('time', 'float64', dimensions=('time'), fill_value=9.969209968386869e+36)\n",
    "ds_new.variables['time'].axis = \"T\"\n",
    "ds_new.variables['time'].units =\"hours since 1970-01-01 00:00:00\"\n",
    "ds_new.variables['time'].standard_name = \"time\"\n",
    "ds_new.variables['time'].calendar = \"gregorian\"\n",
    "ds_new.variables['time'][:] =  ds_autoconv.variables['time'][:]\n",
    "\n",
    "#latitude\n",
    "ds_new.createVariable('latitude', 'float64', dimensions=('latitude'), fill_value=9.969209968386869e+36 )\n",
    "ds_new.variables['latitude'].axis = \"Y\"\n",
    "ds_new.variables['latitude'].units = \"Degrees North\"\n",
    "ds_new.variables['latitude'].standard_name = \"latitude\"\n",
    "ds_new.variables['latitude'][:] = ds_autoconv.variables['latitude'][:]\n",
    "\n",
    "#longitude\n",
    "ds_new.createVariable('longitude', 'float64', dimensions=('longitude'), fill_value=9.969209968386869e+36)\n",
    "ds_new.variables['longitude'].axis = \"Y\"\n",
    "ds_new.variables['longitude'].units = \"Degrees East\"\n",
    "ds_new.variables['longitude'].standard_name = \"longitude\"\n",
    "ds_new.variables['longitude'][:] = ds_autoconv.variables['longitude'][:]\n",
    "\n",
    "\n",
    "#unknown_local_param_137_128 (total coloumn water vapour)\n",
    "ds_new.createVariable('unknown_local_param_137_128', 'float64', dimensions=('time', 'latitude', 'longitude'), fill_value=9.969209968386869e+36)\n",
    "ds_new.variables['unknown_local_param_137_128'].standard_name = \"total coloumn water vapour\" \n",
    "ds_new.variables['unknown_local_param_137_128'][:] = ds_autoconv.variables['tcwv'][:]\n",
    "\n",
    "\n",
    "#unknown_local_param_133_128 (specific humidity)\n",
    "ds_new.createVariable('unknown_local_param_133_128', 'float64', dimensions= ('time', 'latitude', 'longitude'), fill_value=9.969209968386869e+36 )\n",
    "ds_new.variables['unknown_local_param_133_128'].standard_name = \"specific humidity\"\n",
    "ds_new.variables['unknown_local_param_133_128'][:] = ds_autoconv.variables['q'][:]\n",
    "\n",
    "#air_temperature\n",
    "ds_new.createVariable('air_temperature','float64', dimensions= ('time', 'latitude', 'longitude'), fill_value=9.969209968386869e+36 )\n",
    "ds_new.variables['air_temperature'].units = \"K\"\n",
    "ds_new.variables['air_temperature'][:] = ds_autoconv.variables['t'][:]\n",
    "\n",
    "ds_new.close()"
   ]
  },
  {
   "cell_type": "markdown",
   "metadata": {
    "heading_collapsed": true
   },
   "source": [
    "# Data Inspection"
   ]
  },
  {
   "cell_type": "code",
   "execution_count": null,
   "metadata": {
    "ExecuteTime": {
     "end_time": "2020-02-24T17:11:32.509217Z",
     "start_time": "2020-02-24T17:10:54.965502Z"
    },
    "hidden": true
   },
   "outputs": [],
   "source": [
    "#ATI Means for variables\n",
    "vars_for_feature = ['unknown_local_param_137_128', 'unknown_local_param_133_128', 'air_temperature', 'geopotential', 'x_wind', 'y_wind' ]\n",
    "with Dataset(fn_mf, \"r\", format=\"NETCDF4\") as f:\n",
    "    for idx, name in enumerate(vars_for_feature):\n",
    "        _dat = f.variables[name][:]\n",
    "        print( name)\n",
    "        print(\"mean\",\"\\t\",_dat.mean() )\n",
    "        print(\"max\",\"\\t\",_dat.max() )\n",
    "        print(\"min\",\"\\t\",_dat.min() )\n",
    "        print(\"\\n\")\n",
    "with Dataset(fn_rain, \"r\", format=\"NETCDF4\") as f:\n",
    "    _dat = f.variables[\"rr\"][:]\n",
    "    print( \"rain\")\n",
    "    print(\"mean\",\"\\t\",_dat.mean() )\n",
    "    print(\"max\",\"\\t\",_dat.max() )\n",
    "    print(\"min\",\"\\t\",_dat.min() )\n",
    "    print(\"\\n\")"
   ]
  },
  {
   "cell_type": "code",
   "execution_count": null,
   "metadata": {
    "ExecuteTime": {
     "end_time": "2020-02-29T10:48:51.715025Z",
     "start_time": "2020-02-29T10:48:51.675054Z"
    },
    "hidden": true
   },
   "outputs": [],
   "source": [
    "with Dataset(fn_mf, \"r\", format=\"NETCDF4\") as f1:\n",
    "    _data_mf = f1.variables[\"time\"][:]\n",
    "    starting_time_mf = _data_mf[0]\n",
    "#     a = f.variables['longitude'][:]\n",
    "#     b = f.variables['latitude'][:]\n",
    "\n",
    "with Dataset(fn_rain, \"r\", format=\"NETCDF4\") as f2:\n",
    "    _data_r = f2.variables[\"time\"][:]\n",
    "    starting_time_r = _data_r[0]\n",
    "#     a = f.variables['longitude'][:]\n",
    "#     b = f.variables['latitude'][:]"
   ]
  },
  {
   "cell_type": "code",
   "execution_count": null,
   "metadata": {
    "ExecuteTime": {
     "end_time": "2020-02-29T11:23:49.124483Z",
     "start_time": "2020-02-29T11:23:49.096518Z"
    },
    "hidden": true
   },
   "outputs": [],
   "source": [
    "print(starting_time_mf)\n",
    "print(starting_time_r)\n",
    "\n",
    "#\"\"\"Rain starts 10592 days after 1950-01-01:00:00:00 \"\"\"\n",
    "#\"\"\"MF starts hours since 1979-01-01:00:\"\"\""
   ]
  },
  {
   "cell_type": "code",
   "execution_count": null,
   "metadata": {
    "ExecuteTime": {
     "end_time": "2020-02-29T11:48:38.322317Z",
     "start_time": "2020-02-29T11:48:38.314369Z"
    },
    "hidden": true
   },
   "outputs": [],
   "source": [
    "_data_mf[0]2"
   ]
  },
  {
   "cell_type": "code",
   "execution_count": null,
   "metadata": {
    "ExecuteTime": {
     "end_time": "2020-02-29T11:50:09.253629Z",
     "start_time": "2020-02-29T11:50:09.245641Z"
    },
    "hidden": true
   },
   "outputs": [],
   "source": [
    "np.alltrue((_data_r[1:] - _data_r[:-1])==1)"
   ]
  },
  {
   "cell_type": "code",
   "execution_count": null,
   "metadata": {
    "ExecuteTime": {
     "end_time": "2020-02-29T10:52:07.053454Z",
     "start_time": "2020-02-29T10:52:07.045464Z"
    },
    "hidden": true
   },
   "outputs": [],
   "source": [
    "time_length = 4\n",
    "print( ts_mkr(_data_mf[:time_length*4]) )\n",
    "print( ts_mkr(_data_r[:time_length]) )"
   ]
  },
  {
   "cell_type": "code",
   "execution_count": null,
   "metadata": {
    "ExecuteTime": {
     "end_time": "2020-02-29T10:49:28.131648Z",
     "start_time": "2020-02-29T10:49:28.123663Z"
    },
    "hidden": true
   },
   "outputs": [],
   "source": [
    "_data_r[:100]"
   ]
  },
  {
   "cell_type": "code",
   "execution_count": null,
   "metadata": {
    "ExecuteTime": {
     "end_time": "2020-02-29T10:46:36.113346Z",
     "start_time": "2020-02-29T10:46:36.089377Z"
    },
    "hidden": true,
    "scrolled": true
   },
   "outputs": [],
   "source": [
    "_data_mf[:8]"
   ]
  },
  {
   "cell_type": "code",
   "execution_count": null,
   "metadata": {
    "ExecuteTime": {
     "end_time": "2020-02-24T18:24:02.185370Z",
     "start_time": "2020-02-24T18:24:01.939749Z"
    },
    "hidden": true
   },
   "outputs": [],
   "source": [
    "import matplotlib.pyplot as plt\n",
    "import numpy as np\n",
    "\n",
    "def heatmap2d(arr: np.ndarray):\n",
    "    plt.imshow(arr, cmap='viridis')\n",
    "    plt.colorbar()\n",
    "    plt.show()\n",
    "    \n",
    "heatmap2d(_data[1500, :,:])"
   ]
  },
  {
   "cell_type": "code",
   "execution_count": null,
   "metadata": {
    "ExecuteTime": {
     "end_time": "2020-02-24T17:56:13.260856Z",
     "start_time": "2020-02-24T17:56:13.253869Z"
    },
    "hidden": true
   },
   "outputs": [],
   "source": [
    "start_idx = 10500\n",
    "_data[start_idx:start_idx+100,70,102]\n",
    "_data[start_idx,70,102]"
   ]
  },
  {
   "cell_type": "code",
   "execution_count": null,
   "metadata": {
    "ExecuteTime": {
     "end_time": "2020-02-24T18:23:50.181095Z",
     "start_time": "2020-02-24T18:23:50.173119Z"
    },
    "hidden": true
   },
   "outputs": [],
   "source": [
    "ds_rain.find_idx_of_city(\"London\")"
   ]
  },
  {
   "cell_type": "code",
   "execution_count": null,
   "metadata": {
    "ExecuteTime": {
     "end_time": "2020-02-24T17:44:21.849107Z",
     "start_time": "2020-02-24T17:44:21.840133Z"
    },
    "hidden": true
   },
   "outputs": [],
   "source": [
    "ds_mf = data_generators.Generator_mf(fn = fn_mf)\n",
    "#ds_gen = ds_mf()\n",
    "#ds_gen_tf = tf.data.Dataset.from_generator( ds_mf, output_types=(tf.float32, tf.bool) )\n",
    "#ds_gen_tf = ds_gen_tf = ds_gen_tf.batch(100)\n",
    "#ds_gen_tf_iter = iter(ds_gen_tf)\n"
   ]
  },
  {
   "cell_type": "code",
   "execution_count": null,
   "metadata": {
    "ExecuteTime": {
     "end_time": "2020-02-24T10:34:43.074626Z",
     "start_time": "2020-02-24T10:34:43.048739Z"
    },
    "hidden": true
   },
   "outputs": [],
   "source": [
    "a = next(ds_gen)"
   ]
  },
  {
   "cell_type": "code",
   "execution_count": null,
   "metadata": {
    "ExecuteTime": {
     "end_time": "2020-02-24T10:34:45.424357Z",
     "start_time": "2020-02-24T10:34:45.394428Z"
    },
    "hidden": true
   },
   "outputs": [],
   "source": [
    "a[1].shape\n"
   ]
  },
  {
   "cell_type": "code",
   "execution_count": null,
   "metadata": {
    "ExecuteTime": {
     "end_time": "2020-02-24T10:37:11.111174Z",
     "start_time": "2020-02-24T10:37:10.632609Z"
    },
    "hidden": true
   },
   "outputs": [],
   "source": [
    "next(ds_gen_tf_iter)"
   ]
  },
  {
   "cell_type": "code",
   "execution_count": null,
   "metadata": {
    "ExecuteTime": {
     "end_time": "2020-02-24T18:23:45.747026Z",
     "start_time": "2020-02-24T18:23:45.539582Z"
    },
    "hidden": true
   },
   "outputs": [],
   "source": [
    "ds_rain = data_generators.Generator_rain(fn = fn_rain)\n",
    "ds_rain_gen = ds_rain()\n",
    "ds_rain_gen_tf = tf.data.Dataset.from_generator( ds_rain, output_types=(tf.float32, tf.bool) )\n",
    "ds_rain_gen_tf = ds_gen_tf = ds_rain_gen_tf.batch(100)\n",
    "ds_rain_gen_tf_iter = iter(ds_gen_tf)"
   ]
  },
  {
   "cell_type": "markdown",
   "metadata": {
    "heading_collapsed": true
   },
   "source": [
    "# Testing Shermans new data extraction methods\n"
   ]
  },
  {
   "cell_type": "markdown",
   "metadata": {
    "heading_collapsed": true,
    "hidden": true
   },
   "source": [
    "## Rain "
   ]
  },
  {
   "cell_type": "code",
   "execution_count": null,
   "metadata": {
    "ExecuteTime": {
     "end_time": "2020-01-20T02:29:18.625653Z",
     "start_time": "2020-01-20T02:29:18.620499Z"
    },
    "hidden": true
   },
   "outputs": [],
   "source": [
    "dataset_rain = Dataset(fn_rain, \"r\", format=\"NETCDF4\")\n",
    "data_rain = dataset_rain.variables\n",
    "print(dataset_rain.__doc__)"
   ]
  },
  {
   "cell_type": "code",
   "execution_count": null,
   "metadata": {
    "ExecuteTime": {
     "end_time": "2020-01-20T02:26:35.637010Z",
     "start_time": "2020-01-20T02:26:35.628477Z"
    },
    "hidden": true
   },
   "outputs": [],
   "source": [
    "type(dataset_rain)"
   ]
  },
  {
   "cell_type": "code",
   "execution_count": null,
   "metadata": {
    "ExecuteTime": {
     "end_time": "2020-01-15T12:08:00.031686Z",
     "start_time": "2020-01-15T12:08:00.026156Z"
    },
    "hidden": true
   },
   "outputs": [],
   "source": [
    "#data is an ordered dict\n",
    "#loop through the keys and print it\n",
    "print(\"The name of the variables are:\")\n",
    "for key in data_rain.keys():\n",
    "    print(key)\n",
    "print()\n"
   ]
  },
  {
   "cell_type": "code",
   "execution_count": null,
   "metadata": {
    "ExecuteTime": {
     "end_time": "2020-01-15T12:08:18.836436Z",
     "start_time": "2020-01-15T12:08:18.829063Z"
    },
    "hidden": true
   },
   "outputs": [],
   "source": [
    "#print each item in dat\n",
    "print(\"For each of the variables, here are the properties:\\n\")\n",
    "for key, value in data_rain.items():\n",
    "    print(\"Variable: \" + key)\n",
    "    print(value)\n",
    "    print()"
   ]
  },
  {
   "cell_type": "code",
   "execution_count": null,
   "metadata": {
    "ExecuteTime": {
     "end_time": "2020-01-15T16:24:54.296958Z",
     "start_time": "2020-01-15T16:24:54.293438Z"
    },
    "hidden": true
   },
   "outputs": [],
   "source": [
    "a = data_rain['rr'][1000].mask\n",
    "np.count_nonzero(a)/np.size(a)"
   ]
  },
  {
   "cell_type": "code",
   "execution_count": null,
   "metadata": {
    "ExecuteTime": {
     "end_time": "2020-01-15T16:24:19.521095Z",
     "start_time": "2020-01-15T16:24:19.515202Z"
    },
    "hidden": true
   },
   "outputs": [],
   "source": [
    "np.argwhere(a=False)"
   ]
  },
  {
   "cell_type": "code",
   "execution_count": null,
   "metadata": {
    "ExecuteTime": {
     "end_time": "2020-01-16T02:44:42.150574Z",
     "start_time": "2020-01-16T02:44:39.956850Z"
    },
    "hidden": true
   },
   "outputs": [],
   "source": [
    "np.asarray( data['rr'] ).shape"
   ]
  },
  {
   "cell_type": "code",
   "execution_count": null,
   "metadata": {
    "ExecuteTime": {
     "end_time": "2020-01-15T16:59:14.926628Z",
     "start_time": "2020-01-15T16:59:14.923298Z"
    },
    "hidden": true
   },
   "outputs": [],
   "source": [
    "data['time'][:20]"
   ]
  },
  {
   "cell_type": "markdown",
   "metadata": {
    "ExecuteTime": {
     "end_time": "2020-01-15T12:40:49.883669Z",
     "start_time": "2020-01-15T12:40:49.881822Z"
    },
    "heading_collapsed": true,
    "hidden": true
   },
   "source": [
    "## model fields"
   ]
  },
  {
   "cell_type": "code",
   "execution_count": null,
   "metadata": {
    "ExecuteTime": {
     "end_time": "2020-01-16T02:19:37.020296Z",
     "start_time": "2020-01-16T02:19:37.007514Z"
    },
    "hidden": true
   },
   "outputs": [],
   "source": [
    "mf_dataset = Dataset(fn_mf, \"r\", format=\"NETCDF4\")\n",
    "mf_data = mf_dataset.variables"
   ]
  },
  {
   "cell_type": "code",
   "execution_count": null,
   "metadata": {
    "ExecuteTime": {
     "end_time": "2020-01-15T12:59:36.444761Z",
     "start_time": "2020-01-15T12:59:36.441304Z"
    },
    "hidden": true
   },
   "outputs": [],
   "source": [
    "#data is an ordered dict\n",
    "#loop through the keys and print it\n",
    "print(\"The name of the variables are:\")\n",
    "for key in mf_data.keys():\n",
    "    print(key)\n",
    "print()\n"
   ]
  },
  {
   "cell_type": "code",
   "execution_count": null,
   "metadata": {
    "ExecuteTime": {
     "end_time": "2020-01-15T13:04:41.910232Z",
     "start_time": "2020-01-15T13:04:41.904190Z"
    },
    "hidden": true
   },
   "outputs": [],
   "source": [
    "#print each item in dat\n",
    "print(\"For each of the variables, here are the properties:\\n\")\n",
    "for key, value in mf_data.items():\n",
    "    print(\"Variable: \" + key)\n",
    "    print(value)\n",
    "    print()"
   ]
  },
  {
   "cell_type": "code",
   "execution_count": null,
   "metadata": {
    "ExecuteTime": {
     "end_time": "2020-01-16T02:44:29.825785Z",
     "start_time": "2020-01-16T02:44:29.816885Z"
    },
    "hidden": true
   },
   "outputs": [],
   "source": [
    "mf_data['air_temperature'].shape"
   ]
  },
  {
   "cell_type": "code",
   "execution_count": null,
   "metadata": {
    "hidden": true
   },
   "outputs": [],
   "source": []
  },
  {
   "cell_type": "markdown",
   "metadata": {
    "heading_collapsed": true
   },
   "source": [
    "# Testing Data Generators"
   ]
  },
  {
   "cell_type": "code",
   "execution_count": null,
   "metadata": {
    "ExecuteTime": {
     "end_time": "2020-01-20T14:33:05.293296Z",
     "start_time": "2020-01-20T14:33:05.279492Z"
    },
    "code_folding": [
     8,
     32,
     55,
     104
    ],
    "hidden": true
   },
   "outputs": [],
   "source": [
    "# import tensorflow as tf\n",
    "# import netCDF4\n",
    "# from netCDF4 import Dataset\n",
    "# import gdal\n",
    "# import numpy as np\n",
    "\n",
    "#TODO:(akanni-ade): add ability to return long/lat variable  implement long/lat\n",
    "\n",
    "\"\"\"\n",
    "    Example of how to use\n",
    "    import Generators\n",
    "\n",
    "    rr_ens file \n",
    "    _filename = \"Data/Rain_Data/rr_ens_mean_0.1deg_reg_v20.0e_197901-201907_djf_uk.nc\"\n",
    "    rain_gen = Generator_rain(_filename, all_at_once=True)\n",
    "    data = next(iter(grib_gen))\n",
    "\n",
    "    Grib Files\n",
    "    _filename = 'Data/Rain_Data/ana_coarse.grib'\n",
    "    grib_gen = Generators.Generator_grib(fn=_filename, all_at_once=True)\n",
    "    data = next(iter(grib_gen))\n",
    "\n",
    "    Grib Files Location:\n",
    "    _filename = 'Data/Rain_Data/ana_coarse.grib'\n",
    "    grib_gen = Generators.Generator_grib(fn=_filename, all_at_once=True)\n",
    "    arr_long, arr_lat = grib_gen.locaiton()\n",
    "    #now say you are investingating the datum x = data[15,125]\n",
    "    #   to get the longitude and latitude you must do\n",
    "    long, lat = arr_long(15,125), arr_lat(15,125)\n",
    "\n",
    "\n",
    "\"\"\"\n",
    "class Generator():\n",
    "    \n",
    "    def __init__(self, fn = \"\", all_at_once=False, train_size=0.75, channel=None ):\n",
    "        self.generator = None\n",
    "        self.all_at_once = all_at_once\n",
    "        self.fn = fn\n",
    "        self.channel = channel\n",
    "    \n",
    "    def yield_all(self):\n",
    "        pass\n",
    "\n",
    "    def yield_iter(self):\n",
    "        pass\n",
    "\n",
    "    def long_lat(self):\n",
    "        pass\n",
    "\n",
    "    def __call__(self,x=0):\n",
    "        if(self.all_at_once):\n",
    "            return self.yield_all()\n",
    "        else:\n",
    "            return self.yield_iter(x)\n",
    "         \n",
    "class Generator_mf(Generator):\n",
    "    \"\"\"\n",
    "        Creates a generator for the model_fields_data\n",
    "    \n",
    "        :param all_at_once: whether to return all data, or return data in batches\n",
    "\n",
    "        :param channel: the desired channel of information in the grib file\n",
    "            Default None, then concatenate all channels together and return\n",
    "            If an integer return this band\n",
    "    \"\"\"\n",
    "\n",
    "    def __init__(self, **generator_params):\n",
    "\n",
    "        super(Generator_mf, self).__init__(**generator_params)\n",
    "\n",
    "        self.vars_for_feature = ['unknown_local_param_137_128', 'unknown_local_param_133_128', 'air_temperature', 'geopotential', 'x_wind', 'y_wind' ]\n",
    "        self.channel_count = len(self.vars_for_feature) \n",
    "        \n",
    "\n",
    "    def yield_all(self):\n",
    "        raise NotImplementedError\n",
    "    \n",
    "    def yield_iter(self):\n",
    "        with Dataset(self.fn, \"r\", format=\"NETCDF4\") as f:\n",
    "            for tuple_mfs in zip( *[f.variables[var_name] for var_name in self.vars_for_feature ] ):\n",
    "                \n",
    "                list_datamask = [ (np.ma.getdata(_mar),np.ma.getmask(_mar) ) for _mar in tuple_mfs ]\n",
    "                \n",
    "                _data, _masks= list( zip (*list_datamask ) )\n",
    "                \n",
    "                \n",
    "                stacked_data = np.stack(_data, axis=-1 )\n",
    "                stacked_masks = np.stack(_masks, axis=-1 )\n",
    "                \n",
    "                yield stacked_data, stacked_masks\n",
    "            \n",
    "            \n",
    "        \n",
    "    def location(self):\n",
    "        \"\"\"\n",
    "        Returns a 2 1D arrays\n",
    "            arr_long: Longitudes\n",
    "            arr_lat: Latitdues\n",
    "        Example of how to use:\n",
    "\n",
    "\n",
    "        \"\"\"\n",
    "        raise NotImplementedError\n",
    "        \n",
    "class Generator_rain2(Generator):\n",
    "    def __init__(self, **generator_params):\n",
    "        super(Generator_rain2, self).__init__(**generator_params)\n",
    "\n",
    "    def yield_all(self,start_idx=0):\n",
    "        with Dataset(self.fn, \"r\", format=\"NETCDF4\") as f:\n",
    "            _data = f.variables['rr'][start_idx:]\n",
    "            yield np.ma.getdata(_data), np.ma.getmask(_data)   \n",
    "            \n",
    "    def yield_iter(self,start_idx=0):\n",
    "        f = Dataset(self.fn, \"r\", format=\"NETCDF4\")\n",
    "        #with Dataset(self.fn, \"r\", format=\"NETCDF4\") as f:\n",
    "            #for chunk in f.variables['rr'][start_idx:]:\n",
    "        \n",
    "        #for chunk in f.variables['rr'][start_idx:]:\n",
    "        for chunk in f.variables['rr'][start_idx:]:\n",
    "            yield np.ma.getdata(chunk), np.ma.getmask(chunk)"
   ]
  },
  {
   "cell_type": "markdown",
   "metadata": {
    "ExecuteTime": {
     "end_time": "2020-01-15T12:48:57.961055Z",
     "start_time": "2020-01-15T12:48:57.959196Z"
    },
    "heading_collapsed": true,
    "hidden": true
   },
   "source": [
    "## rain genenerator"
   ]
  },
  {
   "cell_type": "code",
   "execution_count": null,
   "metadata": {
    "ExecuteTime": {
     "end_time": "2020-01-20T14:33:07.969525Z",
     "start_time": "2020-01-20T14:33:07.201771Z"
    },
    "hidden": true
   },
   "outputs": [],
   "source": [
    "#rain_gen = Generator_rain(fn=fn_rain, all_at_once=False)()\n",
    "rain_gen2 = Generator_rain2(fn=fn,all_at_once=False)()\n",
    "data = next(iter(rain_gen2))\n",
    "data"
   ]
  },
  {
   "cell_type": "code",
   "execution_count": null,
   "metadata": {
    "ExecuteTime": {
     "end_time": "2020-01-20T14:02:33.696829Z",
     "start_time": "2020-01-20T14:02:33.694033Z"
    },
    "hidden": true
   },
   "outputs": [],
   "source": [
    "fn_rain"
   ]
  },
  {
   "cell_type": "code",
   "execution_count": null,
   "metadata": {
    "ExecuteTime": {
     "end_time": "2020-01-20T14:29:45.749535Z",
     "start_time": "2020-01-20T14:29:45.647585Z"
    },
    "hidden": true
   },
   "outputs": [],
   "source": [
    "ds_tar = tf.data.Dataset.from_generator(lambda : Generator_rain2(fn=fn, all_at_once=False)(0), output_types= ( tf.float32, tf.bool) )"
   ]
  },
  {
   "cell_type": "code",
   "execution_count": null,
   "metadata": {
    "ExecuteTime": {
     "end_time": "2020-01-20T14:29:48.703582Z",
     "start_time": "2020-01-20T14:29:47.127879Z"
    },
    "hidden": true
   },
   "outputs": [],
   "source": [
    "next(iter(ds_tar) )"
   ]
  },
  {
   "cell_type": "markdown",
   "metadata": {
    "ExecuteTime": {
     "end_time": "2020-01-15T12:49:18.118723Z",
     "start_time": "2020-01-15T12:49:18.117020Z"
    },
    "heading_collapsed": true,
    "hidden": true
   },
   "source": [
    "## model feild generator"
   ]
  },
  {
   "cell_type": "code",
   "execution_count": null,
   "metadata": {
    "ExecuteTime": {
     "end_time": "2020-01-15T23:45:03.589739Z",
     "start_time": "2020-01-15T23:45:03.583671Z"
    },
    "hidden": true
   },
   "outputs": [],
   "source": [
    "mf_gen = Generator_mf(fn=fn_mf, all_at_once=False)()\n",
    "data = next(iter(mf_gen))"
   ]
  },
  {
   "cell_type": "code",
   "execution_count": null,
   "metadata": {
    "ExecuteTime": {
     "end_time": "2020-01-15T23:46:41.548405Z",
     "start_time": "2020-01-15T23:46:41.545491Z"
    },
    "hidden": true
   },
   "outputs": [],
   "source": [
    "data[0].shape"
   ]
  },
  {
   "cell_type": "code",
   "execution_count": null,
   "metadata": {
    "ExecuteTime": {
     "end_time": "2020-01-15T23:30:16.662842Z",
     "start_time": "2020-01-15T23:30:16.659852Z"
    },
    "hidden": true
   },
   "outputs": [],
   "source": [
    "mask.shape"
   ]
  },
  {
   "cell_type": "markdown",
   "metadata": {
    "heading_collapsed": true
   },
   "source": [
    "# Fixing mismatch in size of Feature and Target in Nov Data"
   ]
  },
  {
   "cell_type": "code",
   "execution_count": 16,
   "metadata": {
    "ExecuteTime": {
     "end_time": "2020-04-26T15:27:30.815197Z",
     "start_time": "2020-04-26T15:27:30.802553Z"
    },
    "hidden": true
   },
   "outputs": [
    {
     "ename": "NameError",
     "evalue": "name 'data_rain' is not defined",
     "output_type": "error",
     "traceback": [
      "\u001b[0;31m---------------------------------------------------------------------------\u001b[0m",
      "\u001b[0;31mNameError\u001b[0m                                 Traceback (most recent call last)",
      "\u001b[0;32m<ipython-input-16-fe1af3c4cba6>\u001b[0m in \u001b[0;36m<module>\u001b[0;34m\u001b[0m\n\u001b[0;32m----> 1\u001b[0;31m \u001b[0mrain_lat\u001b[0m \u001b[0;34m=\u001b[0m \u001b[0mdata_rain\u001b[0m\u001b[0;34m[\u001b[0m\u001b[0;34m'latitude'\u001b[0m\u001b[0;34m]\u001b[0m \u001b[0;31m#100\u001b[0m\u001b[0;34m\u001b[0m\u001b[0;34m\u001b[0m\u001b[0m\n\u001b[0m\u001b[1;32m      2\u001b[0m \u001b[0mrain_lon\u001b[0m \u001b[0;34m=\u001b[0m \u001b[0mdata_rain\u001b[0m\u001b[0;34m[\u001b[0m\u001b[0;34m'longitude'\u001b[0m\u001b[0;34m]\u001b[0m \u001b[0;31m#140\u001b[0m\u001b[0;34m\u001b[0m\u001b[0;34m\u001b[0m\u001b[0m\n\u001b[1;32m      3\u001b[0m \u001b[0;34m\u001b[0m\u001b[0m\n\u001b[1;32m      4\u001b[0m \u001b[0mmf_latlon\u001b[0m \u001b[0;34m=\u001b[0m \u001b[0mmf_data\u001b[0m\u001b[0;34m[\u001b[0m\u001b[0;34m'latitude_longitude'\u001b[0m\u001b[0;34m]\u001b[0m\u001b[0;34m\u001b[0m\u001b[0;34m\u001b[0m\u001b[0m\n\u001b[1;32m      5\u001b[0m \u001b[0mmf_lat\u001b[0m \u001b[0;34m=\u001b[0m \u001b[0mmf_data\u001b[0m\u001b[0;34m[\u001b[0m\u001b[0;34m'latitude'\u001b[0m\u001b[0;34m]\u001b[0m \u001b[0;31m#103\u001b[0m\u001b[0;34m\u001b[0m\u001b[0;34m\u001b[0m\u001b[0m\n",
      "\u001b[0;31mNameError\u001b[0m: name 'data_rain' is not defined"
     ]
    }
   ],
   "source": [
    "rain_lat = data_rain['latitude'] #100\n",
    "rain_lon = data_rain['longitude'] #140\n",
    "\n",
    "mf_latlon = mf_data['latitude_longitude']\n",
    "mf_lat = mf_data['latitude'] #103\n",
    "mf_lon = mf_data['longitude'] #144"
   ]
  },
  {
   "cell_type": "code",
   "execution_count": null,
   "metadata": {
    "ExecuteTime": {
     "end_time": "2020-01-16T02:23:36.861767Z",
     "start_time": "2020-01-16T02:23:36.841793Z"
    },
    "hidden": true
   },
   "outputs": [],
   "source": [
    "rain_lat[:]"
   ]
  },
  {
   "cell_type": "code",
   "execution_count": null,
   "metadata": {
    "ExecuteTime": {
     "end_time": "2020-01-16T02:25:18.849324Z",
     "start_time": "2020-01-16T02:25:18.835755Z"
    },
    "hidden": true
   },
   "outputs": [],
   "source": [
    "mf_lat[::-1]"
   ]
  },
  {
   "cell_type": "code",
   "execution_count": null,
   "metadata": {
    "ExecuteTime": {
     "end_time": "2020-01-16T02:29:51.291775Z",
     "start_time": "2020-01-16T02:29:51.276790Z"
    },
    "hidden": true
   },
   "outputs": [],
   "source": [
    "#Latitude transformation \n",
    "mf_lat[::-1][1:-2] - rain_lat[:]"
   ]
  },
  {
   "cell_type": "code",
   "execution_count": null,
   "metadata": {
    "ExecuteTime": {
     "end_time": "2020-01-16T02:46:21.233957Z",
     "start_time": "2020-01-16T02:46:21.218198Z"
    },
    "hidden": true
   },
   "outputs": [],
   "source": [
    "mf_lat[-2:1:-1] - rain_lat[:]"
   ]
  },
  {
   "cell_type": "code",
   "execution_count": null,
   "metadata": {
    "ExecuteTime": {
     "end_time": "2020-01-16T02:30:23.082766Z",
     "start_time": "2020-01-16T02:30:23.064851Z"
    },
    "hidden": true
   },
   "outputs": [],
   "source": [
    "rain_lon[:]"
   ]
  },
  {
   "cell_type": "code",
   "execution_count": null,
   "metadata": {
    "ExecuteTime": {
     "end_time": "2020-01-16T02:30:35.998199Z",
     "start_time": "2020-01-16T02:30:35.985291Z"
    },
    "hidden": true
   },
   "outputs": [],
   "source": [
    "mf_lon[:]"
   ]
  },
  {
   "cell_type": "code",
   "execution_count": null,
   "metadata": {
    "ExecuteTime": {
     "end_time": "2020-01-16T02:33:41.599239Z",
     "start_time": "2020-01-16T02:33:41.583911Z"
    },
    "hidden": true
   },
   "outputs": [],
   "source": [
    "rain_lon[:] - mf_lon[2:-2]"
   ]
  },
  {
   "cell_type": "markdown",
   "metadata": {},
   "source": [
    "# Fixing mismatch in size/location of Feature and Target in March Data"
   ]
  },
  {
   "cell_type": "code",
   "execution_count": 21,
   "metadata": {
    "ExecuteTime": {
     "end_time": "2020-04-26T15:28:08.013705Z",
     "start_time": "2020-04-26T15:28:08.009291Z"
    }
   },
   "outputs": [],
   "source": [
    "ds_mf_new = Dataset( 'Data/Rain_Data_Mar20/ana_input.nc','r', format=\"NETCDF4\")\n",
    "ds_rain = Dataset(fn_rain_Mar, \"r\", format=\"NETCDF4\")"
   ]
  },
  {
   "cell_type": "code",
   "execution_count": 22,
   "metadata": {
    "ExecuteTime": {
     "end_time": "2020-04-26T15:28:09.594639Z",
     "start_time": "2020-04-26T15:28:09.586826Z"
    }
   },
   "outputs": [],
   "source": [
    "rain_lat = ds_rain.variables['latitude'] #100\n",
    "rain_lon = ds_rain.variables['longitude'] #140\n",
    "\n",
    "mf_lat = ds_mf_new.variables['latitude'] #20 --> 18\n",
    "mf_lon = ds_mf_new.variables['longitude'] #21 --> 18"
   ]
  },
  {
   "cell_type": "markdown",
   "metadata": {},
   "source": [
    "## Latitude"
   ]
  },
  {
   "cell_type": "code",
   "execution_count": 24,
   "metadata": {
    "ExecuteTime": {
     "end_time": "2020-04-26T15:28:42.651189Z",
     "start_time": "2020-04-26T15:28:42.647455Z"
    }
   },
   "outputs": [
    {
     "data": {
      "text/plain": [
       "masked_array(data=[49.04985973, 49.6498597 , 50.24985968, 50.84985965,\n",
       "                   51.44985963, 52.0498596 , 52.64985958, 53.24985955,\n",
       "                   53.84985953, 54.4498595 , 55.04985948, 55.64985945,\n",
       "                   56.24985943, 56.8498594 , 57.44985938, 58.04985935,\n",
       "                   58.64985933],\n",
       "             mask=False,\n",
       "       fill_value=1e+20)"
      ]
     },
     "execution_count": 24,
     "metadata": {},
     "output_type": "execute_result"
    }
   ],
   "source": [
    "rain_lat[::6]"
   ]
  },
  {
   "cell_type": "code",
   "execution_count": 28,
   "metadata": {
    "ExecuteTime": {
     "end_time": "2020-04-26T15:30:51.247496Z",
     "start_time": "2020-04-26T15:30:51.240157Z"
    }
   },
   "outputs": [
    {
     "data": {
      "text/plain": [
       "masked_array(data=[49.44363158, 49.99926316, 50.55489474, 51.11052632,\n",
       "                   51.66615789, 52.22178947, 52.77742105, 53.33305263,\n",
       "                   53.88868421, 54.44431579, 54.99994737, 55.55557895,\n",
       "                   56.11121053, 56.66684211, 57.22247368, 57.77810526,\n",
       "                   58.33373684],\n",
       "             mask=False,\n",
       "       fill_value=1e+20)"
      ]
     },
     "execution_count": 28,
     "metadata": {},
     "output_type": "execute_result"
    }
   ],
   "source": [
    "mf_lat[-2:1:-1]"
   ]
  },
  {
   "cell_type": "code",
   "execution_count": 27,
   "metadata": {
    "ExecuteTime": {
     "end_time": "2020-04-26T15:29:40.726880Z",
     "start_time": "2020-04-26T15:29:40.723175Z"
    }
   },
   "outputs": [
    {
     "data": {
      "text/plain": [
       "masked_array(data=[-0.39377185, -0.34940346, -0.30503506, -0.26066666,\n",
       "                   -0.21629827, -0.17192987, -0.12756148, -0.08319308,\n",
       "                   -0.03882468,  0.00554371,  0.04991211,  0.09428051,\n",
       "                    0.1386489 ,  0.1830173 ,  0.22738569,  0.27175409,\n",
       "                    0.31612249],\n",
       "             mask=False,\n",
       "       fill_value=1e+20)"
      ]
     },
     "execution_count": 27,
     "metadata": {},
     "output_type": "execute_result"
    }
   ],
   "source": [
    "#Latitude transformation \n",
    "rain_lat[::6]-mf_lat[-2:1:-1]"
   ]
  },
  {
   "cell_type": "markdown",
   "metadata": {
    "ExecuteTime": {
     "end_time": "2020-04-22T14:39:53.100681Z",
     "start_time": "2020-04-22T14:39:53.095814Z"
    }
   },
   "source": [
    "## Longitude"
   ]
  },
  {
   "cell_type": "code",
   "execution_count": 29,
   "metadata": {
    "ExecuteTime": {
     "end_time": "2020-04-26T15:31:54.608791Z",
     "start_time": "2020-04-26T15:31:54.605264Z"
    }
   },
   "outputs": [
    {
     "data": {
      "text/plain": [
       "masked_array(data=[-10.95013957, -10.15013957,  -9.35013957,  -8.55013957,\n",
       "                    -7.75013958,  -6.95013958,  -6.15013958,  -5.35013959,\n",
       "                    -4.55013959,  -3.75013959,  -2.9501396 ,  -2.1501396 ,\n",
       "                    -1.3501396 ,  -0.55013961,   0.24986039,   1.04986039,\n",
       "                     1.84986038,   2.64986038],\n",
       "             mask=False,\n",
       "       fill_value=1e+20)"
      ]
     },
     "execution_count": 29,
     "metadata": {},
     "output_type": "execute_result"
    }
   ],
   "source": [
    "rain_lon[::8]"
   ]
  },
  {
   "cell_type": "code",
   "execution_count": 30,
   "metadata": {
    "ExecuteTime": {
     "end_time": "2020-04-26T15:31:56.472550Z",
     "start_time": "2020-04-26T15:31:56.468871Z"
    }
   },
   "outputs": [
    {
     "data": {
      "text/plain": [
       "masked_array(data=[-1.08333e+01, -9.99995e+00, -9.16660e+00, -8.33325e+00,\n",
       "                   -7.49990e+00, -6.66655e+00, -5.83320e+00, -4.99985e+00,\n",
       "                   -4.16650e+00, -3.33315e+00, -2.49980e+00, -1.66645e+00,\n",
       "                   -8.33100e-01,  2.50000e-04,  8.33600e-01,  1.66695e+00,\n",
       "                    2.50030e+00,  3.33365e+00],\n",
       "             mask=False,\n",
       "       fill_value=1e+20)"
      ]
     },
     "execution_count": 30,
     "metadata": {},
     "output_type": "execute_result"
    }
   ],
   "source": [
    "mf_lon[2:-1]"
   ]
  },
  {
   "cell_type": "code",
   "execution_count": 36,
   "metadata": {
    "ExecuteTime": {
     "end_time": "2020-04-26T15:34:21.269709Z",
     "start_time": "2020-04-26T15:34:21.262284Z"
    }
   },
   "outputs": [
    {
     "data": {
      "text/plain": [
       "-0.40031459240936296"
      ]
     },
     "execution_count": 36,
     "metadata": {},
     "output_type": "execute_result"
    }
   ],
   "source": [
    "( rain_lon[::8] - mf_lon[2:-1] ).mean()"
   ]
  },
  {
   "cell_type": "code",
   "execution_count": 35,
   "metadata": {
    "ExecuteTime": {
     "end_time": "2020-04-26T15:34:13.191574Z",
     "start_time": "2020-04-26T15:34:13.186046Z"
    }
   },
   "outputs": [
    {
     "data": {
      "text/plain": [
       "0.43303540759063697"
      ]
     },
     "execution_count": 35,
     "metadata": {},
     "output_type": "execute_result"
    }
   ],
   "source": [
    "(rain_lon[::8]  - mf_lon[1:-2] ).mean()"
   ]
  },
  {
   "cell_type": "code",
   "execution_count": 42,
   "metadata": {
    "ExecuteTime": {
     "end_time": "2020-04-26T15:37:58.703015Z",
     "start_time": "2020-04-26T15:37:58.699081Z"
    }
   },
   "outputs": [
    {
     "data": {
      "text/plain": [
       "masked_array(data=[-0.11683957, -0.05018957,  0.01646043,  0.08311042,\n",
       "                    0.14976042,  0.21641042,  0.28306041,  0.34971041,\n",
       "                    0.41636041,  0.4830104 ,  0.5496604 ,  0.6163104 ,\n",
       "                    0.68296039,  0.74961039,  0.81626038,  0.88291038],\n",
       "             mask=False,\n",
       "       fill_value=1e+20)"
      ]
     },
     "execution_count": 42,
     "metadata": {},
     "output_type": "execute_result"
    }
   ],
   "source": [
    "rain_lon[::8] - mf_lon[2:-3]"
   ]
  }
 ],
 "metadata": {
  "kernelspec": {
   "display_name": "Python 3",
   "language": "python",
   "name": "python3"
  },
  "language_info": {
   "codemirror_mode": {
    "name": "ipython",
    "version": 3
   },
   "file_extension": ".py",
   "mimetype": "text/x-python",
   "name": "python",
   "nbconvert_exporter": "python",
   "pygments_lexer": "ipython3",
   "version": "3.7.5"
  },
  "varInspector": {
   "cols": {
    "lenName": 16,
    "lenType": 16,
    "lenVar": 40
   },
   "kernels_config": {
    "python": {
     "delete_cmd_postfix": "",
     "delete_cmd_prefix": "del ",
     "library": "var_list.py",
     "varRefreshCmd": "print(var_dic_list())"
    },
    "r": {
     "delete_cmd_postfix": ") ",
     "delete_cmd_prefix": "rm(",
     "library": "var_list.r",
     "varRefreshCmd": "cat(var_dic_list()) "
    }
   },
   "types_to_exclude": [
    "module",
    "function",
    "builtin_function_or_method",
    "instance",
    "_Feature"
   ],
   "window_display": false
  }
 },
 "nbformat": 4,
 "nbformat_minor": 2
}
